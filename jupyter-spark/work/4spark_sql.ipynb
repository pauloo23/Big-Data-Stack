{
 "cells": [
  {
   "cell_type": "code",
   "execution_count": 32,
   "id": "palestinian-istanbul",
   "metadata": {},
   "outputs": [],
   "source": [
    "# (1) Download databricks.spark.xml library \n",
    "# (2) https://repo1.maven.org/maven2/com/databricks/spark-xml_2.12/0.12.0/spark-xml_2.12-0.12.0.jar\n",
    "# (3) Upload jar file to HDFS root\n",
    "from pyspark.sql import SparkSession\n",
    "from pyspark.sql.functions import *\n",
    "warehouse_location = 'hdfs://namenode:8020/warehouse'\n",
    "spark = SparkSession \\\n",
    "    .builder \\\n",
    "    .appName(\"Python Spark SQL Hive integration example\") \\\n",
    "    .config(\"spark.sql.warehouse.dir\", warehouse_location) \\\n",
    "    .config(\"hive.metastore.uris\", \"thrift://hive-metastore:9083\") \\\n",
    "    .enableHiveSupport() \\\n",
    "    .getOrCreate()"
   ]
  },
  {
   "cell_type": "code",
   "execution_count": 33,
   "id": "60bf68d8",
   "metadata": {},
   "outputs": [
    {
     "data": {
      "text/plain": [
       "'3.1.1'"
      ]
     },
     "execution_count": 33,
     "metadata": {},
     "output_type": "execute_result"
    }
   ],
   "source": [
    "spark.version"
   ]
  },
  {
   "cell_type": "code",
   "execution_count": 34,
   "id": "ca8c3d5d",
   "metadata": {},
   "outputs": [],
   "source": [
    "sc = spark.sparkContext"
   ]
  },
  {
   "cell_type": "code",
   "execution_count": 35,
   "id": "blocked-liability",
   "metadata": {},
   "outputs": [],
   "source": [
    "hdfs_path = \"hdfs://namenode:8020//raw/sensors/6a2ab034-8bc9-42b1-90ae-1315f6ea6f7a\"\n",
    "hdfs_path2 = \"hdfs://namenode:8020//raw/fails/00ffbf9a-e13b-43b8-82b2-fe3f71bd5acd\""
   ]
  },
  {
   "cell_type": "code",
   "execution_count": 36,
   "id": "62dcb4ae",
   "metadata": {},
   "outputs": [
    {
     "name": "stdout",
     "output_type": "stream",
     "text": [
      "+--------------------+\n",
      "|             results|\n",
      "+--------------------+\n",
      "|[{2021-11-22T15:4...|\n",
      "+--------------------+\n",
      "\n"
     ]
    }
   ],
   "source": [
    "multiline_df = spark.read.option(\"multiline\",\"true\") \\\n",
    "      .json((hdfs_path)).select(\"results\")\n",
    "multiline_df.show()  "
   ]
  },
  {
   "cell_type": "code",
   "execution_count": 37,
   "id": "9dd1b11c",
   "metadata": {},
   "outputs": [
    {
     "name": "stdout",
     "output_type": "stream",
     "text": [
      "+--------------------+\n",
      "|             results|\n",
      "+--------------------+\n",
      "|[{2021-11-22T14:2...|\n",
      "+--------------------+\n",
      "\n"
     ]
    }
   ],
   "source": [
    "multiline_df2 = spark.read.option(\"multiline\",\"true\") \\\n",
    "      .json((hdfs_path2)).select(\"results\")\n",
    "multiline_df2.show()  "
   ]
  },
  {
   "cell_type": "code",
   "execution_count": 38,
   "id": "06ff9910",
   "metadata": {},
   "outputs": [],
   "source": [
    "from pyspark.sql.types import *"
   ]
  },
  {
   "cell_type": "code",
   "execution_count": 39,
   "id": "507382a5",
   "metadata": {},
   "outputs": [],
   "source": [
    "df2 = multiline_df.withColumn(\"results\", explode(\"results\")) \\\n",
    "    .withColumn(\"sensor_created_at\", col(\"results\")[\"sensor_created_at\"].cast(\"timestamp\")) \\\n",
    "    .withColumn(\"sensor_event_type\", col(\"results\")[\"sensor_event_type\"].cast(\"string\")) \\\n",
    "    .withColumn(\"sensor_id_cycle\", col(\"results\")[\"sensor_id_cycle\"].cast(\"integer\")) \\\n",
    "    .withColumn(\"sensor_ip\", col(\"results\")[\"sensor_ip\"].cast(\"string\")) \\\n",
    "    .withColumn(\"sensor_unique_id\", col(\"results\")[\"sensor_unique_id\"].cast(\"string\")) \\\n",
    "    .withColumn(\"sensor_value_humidity\", col(\"results\")[\"sensor_value_humidity\"].cast(\"integer\")) \\\n",
    "    .withColumn(\"sensor_value_temperature_motor1\", col(\"results\")[\"sensor_value_temperature_motor1\"].cast(\"integer\")) \\\n",
    "    .withColumn(\"sensor_value_temperature_motor2\", col(\"results\")[\"sensor_value_temperature_motor2\"].cast(\"integer\")) \\\n",
    "    .withColumn(\"sensor_value_temperature_motor3\", col(\"results\")[\"sensor_value_temperature_motor3\"].cast(\"integer\")) \\\n",
    "    .withColumn(\"sensor_value_vibrationhz_x\", col(\"results\")[\"sensor_value_vibrationhz_x\"].cast(\"integer\")) \\\n",
    "    .withColumn(\"sensor_value_vibrationhz_y\", col(\"results\")[\"sensor_value_vibrationhz_y\"].cast(\"integer\")) \\\n",
    "    .withColumn(\"sensor_value_vibrationhz_z\", col(\"results\")[\"sensor_value_vibrationhz_z\"].cast(\"integer\")) \\\n",
    "    .withColumn(\"value_noise_dba_motor1\", col(\"results\")[\"value_noise_dba_motor1\"].cast(\"integer\")) \\\n",
    "    .withColumn(\"value_noise_dba_motor2\", col(\"results\")[\"value_noise_dba_motor2\"].cast(\"integer\")) \\\n",
    "    .withColumn(\"value_noise_dba_motor3\", col(\"results\")[\"value_noise_dba_motor3\"].cast(\"integer\")) \\\n",
    "    .drop(\"results\") \\\n",
    "    .orderBy(\"sensor_created_at\")"
   ]
  },
  {
   "cell_type": "code",
   "execution_count": 40,
   "id": "1d95e655",
   "metadata": {},
   "outputs": [],
   "source": [
    "df3 = multiline_df2.withColumn(\"results\", explode(\"results\")) \\\n",
    "    .withColumn(\"falha_created_at\", col(\"results\")[\"falha_created_at\"].cast(\"timestamp\")) \\\n",
    "    .withColumn(\"falha_id_falha\", col(\"results\")[\"falha_id_falha\"].cast(\"string\")) \\\n",
    "    .withColumn(\"falha_ip\", col(\"results\")[\"falha_ip\"].cast(\"string\")) \\\n",
    "    .withColumn(\"falha_hostname\", col(\"results\")[\"falha_hostname\"].cast(\"string\")) \\\n",
    "    .withColumn(\"falha_event_type\", col(\"results\")[\"falha_event_type\"].cast(\"string\")) \\\n",
    "    .withColumn(\"falha_tipo_falha\", col(\"results\")[\"falha_tipo_falha\"].cast(\"string\")) \\\n",
    "    .withColumn(\"falha_error_code\", col(\"results\")[\"falha_error_code\"].cast(\"string\")) \\\n",
    "    .withColumn(\"falha_error_description\", col(\"results\")[\"falha_error_description\"].cast(\"string\")) \\\n",
    "    .drop(\"results\") \\\n",
    "    .orderBy(\"falha_created_at\")"
   ]
  },
  {
   "cell_type": "code",
   "execution_count": 41,
   "id": "bab7ad3b",
   "metadata": {},
   "outputs": [],
   "source": [
    "_df_sensor = df2.toPandas()\n",
    "_df_falhas = df3.toPandas()"
   ]
  },
  {
   "cell_type": "code",
   "execution_count": 42,
   "id": "1c447e24",
   "metadata": {},
   "outputs": [
    {
     "data": {
      "text/html": [
       "<div>\n",
       "<style scoped>\n",
       "    .dataframe tbody tr th:only-of-type {\n",
       "        vertical-align: middle;\n",
       "    }\n",
       "\n",
       "    .dataframe tbody tr th {\n",
       "        vertical-align: top;\n",
       "    }\n",
       "\n",
       "    .dataframe thead th {\n",
       "        text-align: right;\n",
       "    }\n",
       "</style>\n",
       "<table border=\"1\" class=\"dataframe\">\n",
       "  <thead>\n",
       "    <tr style=\"text-align: right;\">\n",
       "      <th></th>\n",
       "      <th>sensor_created_at</th>\n",
       "      <th>sensor_event_type</th>\n",
       "      <th>sensor_id_cycle</th>\n",
       "      <th>sensor_ip</th>\n",
       "      <th>sensor_unique_id</th>\n",
       "      <th>sensor_value_humidity</th>\n",
       "      <th>sensor_value_temperature_motor1</th>\n",
       "      <th>sensor_value_temperature_motor2</th>\n",
       "      <th>sensor_value_temperature_motor3</th>\n",
       "      <th>sensor_value_vibrationhz_x</th>\n",
       "      <th>sensor_value_vibrationhz_y</th>\n",
       "      <th>sensor_value_vibrationhz_z</th>\n",
       "      <th>value_noise_dba_motor1</th>\n",
       "      <th>value_noise_dba_motor2</th>\n",
       "      <th>value_noise_dba_motor3</th>\n",
       "    </tr>\n",
       "  </thead>\n",
       "  <tbody>\n",
       "    <tr>\n",
       "      <th>0</th>\n",
       "      <td>2021-11-22 15:44:30</td>\n",
       "      <td>sensor</td>\n",
       "      <td>3</td>\n",
       "      <td>172.31.0.11</td>\n",
       "      <td>e672bf0c-1149-4e76-8ad3-8859ee38408d</td>\n",
       "      <td>30</td>\n",
       "      <td>13</td>\n",
       "      <td>31</td>\n",
       "      <td>9</td>\n",
       "      <td>13</td>\n",
       "      <td>20</td>\n",
       "      <td>17</td>\n",
       "      <td>43</td>\n",
       "      <td>26</td>\n",
       "      <td>30</td>\n",
       "    </tr>\n",
       "    <tr>\n",
       "      <th>1</th>\n",
       "      <td>2021-11-22 15:44:35</td>\n",
       "      <td>sensor</td>\n",
       "      <td>3</td>\n",
       "      <td>172.31.0.11</td>\n",
       "      <td>9d50cc24-d0c7-434a-ab9c-88de65f855de</td>\n",
       "      <td>75</td>\n",
       "      <td>8</td>\n",
       "      <td>27</td>\n",
       "      <td>30</td>\n",
       "      <td>7</td>\n",
       "      <td>12</td>\n",
       "      <td>21</td>\n",
       "      <td>20</td>\n",
       "      <td>60</td>\n",
       "      <td>35</td>\n",
       "    </tr>\n",
       "    <tr>\n",
       "      <th>2</th>\n",
       "      <td>2021-11-22 15:44:40</td>\n",
       "      <td>sensor</td>\n",
       "      <td>3</td>\n",
       "      <td>172.31.0.11</td>\n",
       "      <td>6d4da84f-43f9-4f58-b1a4-9546e6e284f0</td>\n",
       "      <td>24</td>\n",
       "      <td>8</td>\n",
       "      <td>11</td>\n",
       "      <td>19</td>\n",
       "      <td>9</td>\n",
       "      <td>21</td>\n",
       "      <td>21</td>\n",
       "      <td>59</td>\n",
       "      <td>63</td>\n",
       "      <td>52</td>\n",
       "    </tr>\n",
       "    <tr>\n",
       "      <th>3</th>\n",
       "      <td>2021-11-22 15:44:45</td>\n",
       "      <td>sensor</td>\n",
       "      <td>1</td>\n",
       "      <td>172.31.0.11</td>\n",
       "      <td>5d5162d8-9bd9-47f6-8176-366bf3c4289f</td>\n",
       "      <td>31</td>\n",
       "      <td>19</td>\n",
       "      <td>16</td>\n",
       "      <td>9</td>\n",
       "      <td>8</td>\n",
       "      <td>16</td>\n",
       "      <td>11</td>\n",
       "      <td>36</td>\n",
       "      <td>42</td>\n",
       "      <td>35</td>\n",
       "    </tr>\n",
       "    <tr>\n",
       "      <th>4</th>\n",
       "      <td>2021-11-22 15:44:50</td>\n",
       "      <td>sensor</td>\n",
       "      <td>2</td>\n",
       "      <td>172.31.0.11</td>\n",
       "      <td>82193bb1-51c6-42c7-aa98-22534aff58f5</td>\n",
       "      <td>16</td>\n",
       "      <td>16</td>\n",
       "      <td>29</td>\n",
       "      <td>14</td>\n",
       "      <td>11</td>\n",
       "      <td>14</td>\n",
       "      <td>10</td>\n",
       "      <td>49</td>\n",
       "      <td>67</td>\n",
       "      <td>50</td>\n",
       "    </tr>\n",
       "    <tr>\n",
       "      <th>5</th>\n",
       "      <td>2021-11-22 15:44:55</td>\n",
       "      <td>sensor</td>\n",
       "      <td>3</td>\n",
       "      <td>172.31.0.11</td>\n",
       "      <td>d5a1af26-9f2d-4398-b43a-bd859bebc9fc</td>\n",
       "      <td>58</td>\n",
       "      <td>10</td>\n",
       "      <td>11</td>\n",
       "      <td>24</td>\n",
       "      <td>9</td>\n",
       "      <td>10</td>\n",
       "      <td>18</td>\n",
       "      <td>27</td>\n",
       "      <td>50</td>\n",
       "      <td>60</td>\n",
       "    </tr>\n",
       "    <tr>\n",
       "      <th>6</th>\n",
       "      <td>2021-11-22 15:45:00</td>\n",
       "      <td>sensor</td>\n",
       "      <td>3</td>\n",
       "      <td>172.31.0.11</td>\n",
       "      <td>19d3cfad-9d6b-4c31-aa9a-4ab6e543bf85</td>\n",
       "      <td>54</td>\n",
       "      <td>3</td>\n",
       "      <td>10</td>\n",
       "      <td>9</td>\n",
       "      <td>5</td>\n",
       "      <td>16</td>\n",
       "      <td>19</td>\n",
       "      <td>29</td>\n",
       "      <td>25</td>\n",
       "      <td>56</td>\n",
       "    </tr>\n",
       "    <tr>\n",
       "      <th>7</th>\n",
       "      <td>2021-11-22 15:45:05</td>\n",
       "      <td>sensor</td>\n",
       "      <td>1</td>\n",
       "      <td>172.31.0.11</td>\n",
       "      <td>085988af-e76c-43a9-950d-156f4b2b0dc4</td>\n",
       "      <td>29</td>\n",
       "      <td>24</td>\n",
       "      <td>32</td>\n",
       "      <td>32</td>\n",
       "      <td>2</td>\n",
       "      <td>12</td>\n",
       "      <td>13</td>\n",
       "      <td>49</td>\n",
       "      <td>50</td>\n",
       "      <td>41</td>\n",
       "    </tr>\n",
       "    <tr>\n",
       "      <th>8</th>\n",
       "      <td>2021-11-22 15:45:10</td>\n",
       "      <td>sensor</td>\n",
       "      <td>2</td>\n",
       "      <td>172.31.0.11</td>\n",
       "      <td>61d44e1b-ca56-4dbf-8589-33db298f1ce8</td>\n",
       "      <td>57</td>\n",
       "      <td>5</td>\n",
       "      <td>22</td>\n",
       "      <td>34</td>\n",
       "      <td>13</td>\n",
       "      <td>21</td>\n",
       "      <td>20</td>\n",
       "      <td>62</td>\n",
       "      <td>41</td>\n",
       "      <td>59</td>\n",
       "    </tr>\n",
       "    <tr>\n",
       "      <th>9</th>\n",
       "      <td>2021-11-22 15:45:15</td>\n",
       "      <td>sensor</td>\n",
       "      <td>2</td>\n",
       "      <td>172.31.0.11</td>\n",
       "      <td>38c647b2-d9a4-4f04-9fa5-52526270ad18</td>\n",
       "      <td>19</td>\n",
       "      <td>16</td>\n",
       "      <td>5</td>\n",
       "      <td>34</td>\n",
       "      <td>3</td>\n",
       "      <td>18</td>\n",
       "      <td>21</td>\n",
       "      <td>38</td>\n",
       "      <td>22</td>\n",
       "      <td>28</td>\n",
       "    </tr>\n",
       "    <tr>\n",
       "      <th>10</th>\n",
       "      <td>2021-11-22 15:45:20</td>\n",
       "      <td>sensor</td>\n",
       "      <td>3</td>\n",
       "      <td>172.31.0.11</td>\n",
       "      <td>d8a5c690-3b0d-449f-a99c-e09930950e5c</td>\n",
       "      <td>15</td>\n",
       "      <td>12</td>\n",
       "      <td>29</td>\n",
       "      <td>34</td>\n",
       "      <td>8</td>\n",
       "      <td>14</td>\n",
       "      <td>15</td>\n",
       "      <td>47</td>\n",
       "      <td>29</td>\n",
       "      <td>45</td>\n",
       "    </tr>\n",
       "    <tr>\n",
       "      <th>11</th>\n",
       "      <td>2021-11-22 15:45:25</td>\n",
       "      <td>sensor</td>\n",
       "      <td>4</td>\n",
       "      <td>172.31.0.11</td>\n",
       "      <td>30a90a93-b05c-420a-b61e-97daf82fc9e1</td>\n",
       "      <td>79</td>\n",
       "      <td>17</td>\n",
       "      <td>12</td>\n",
       "      <td>24</td>\n",
       "      <td>12</td>\n",
       "      <td>12</td>\n",
       "      <td>12</td>\n",
       "      <td>32</td>\n",
       "      <td>28</td>\n",
       "      <td>27</td>\n",
       "    </tr>\n",
       "    <tr>\n",
       "      <th>12</th>\n",
       "      <td>2021-11-22 15:45:30</td>\n",
       "      <td>sensor</td>\n",
       "      <td>2</td>\n",
       "      <td>172.31.0.11</td>\n",
       "      <td>a4a81151-dd95-43a2-9f23-7c5ecb41d278</td>\n",
       "      <td>26</td>\n",
       "      <td>15</td>\n",
       "      <td>10</td>\n",
       "      <td>26</td>\n",
       "      <td>12</td>\n",
       "      <td>19</td>\n",
       "      <td>16</td>\n",
       "      <td>50</td>\n",
       "      <td>55</td>\n",
       "      <td>29</td>\n",
       "    </tr>\n",
       "    <tr>\n",
       "      <th>13</th>\n",
       "      <td>2021-11-22 15:45:35</td>\n",
       "      <td>sensor</td>\n",
       "      <td>4</td>\n",
       "      <td>172.31.0.11</td>\n",
       "      <td>0bab5d47-abd6-49cb-b884-63107f9c918e</td>\n",
       "      <td>84</td>\n",
       "      <td>20</td>\n",
       "      <td>19</td>\n",
       "      <td>28</td>\n",
       "      <td>10</td>\n",
       "      <td>12</td>\n",
       "      <td>15</td>\n",
       "      <td>51</td>\n",
       "      <td>21</td>\n",
       "      <td>56</td>\n",
       "    </tr>\n",
       "    <tr>\n",
       "      <th>14</th>\n",
       "      <td>2021-11-22 15:45:40</td>\n",
       "      <td>sensor</td>\n",
       "      <td>4</td>\n",
       "      <td>172.31.0.11</td>\n",
       "      <td>181bb65c-0eff-4d9c-9f19-ecd5660f02e4</td>\n",
       "      <td>39</td>\n",
       "      <td>22</td>\n",
       "      <td>21</td>\n",
       "      <td>24</td>\n",
       "      <td>7</td>\n",
       "      <td>18</td>\n",
       "      <td>12</td>\n",
       "      <td>37</td>\n",
       "      <td>43</td>\n",
       "      <td>24</td>\n",
       "    </tr>\n",
       "    <tr>\n",
       "      <th>15</th>\n",
       "      <td>2021-11-22 15:45:45</td>\n",
       "      <td>sensor</td>\n",
       "      <td>5</td>\n",
       "      <td>172.31.0.11</td>\n",
       "      <td>938c2382-741f-4745-a613-9a8dcee4a639</td>\n",
       "      <td>67</td>\n",
       "      <td>3</td>\n",
       "      <td>6</td>\n",
       "      <td>32</td>\n",
       "      <td>8</td>\n",
       "      <td>14</td>\n",
       "      <td>12</td>\n",
       "      <td>57</td>\n",
       "      <td>39</td>\n",
       "      <td>62</td>\n",
       "    </tr>\n",
       "    <tr>\n",
       "      <th>16</th>\n",
       "      <td>2021-11-22 15:45:50</td>\n",
       "      <td>sensor</td>\n",
       "      <td>3</td>\n",
       "      <td>172.31.0.11</td>\n",
       "      <td>36fd2ee7-0ab0-4626-8584-7325c074a777</td>\n",
       "      <td>63</td>\n",
       "      <td>5</td>\n",
       "      <td>8</td>\n",
       "      <td>14</td>\n",
       "      <td>6</td>\n",
       "      <td>18</td>\n",
       "      <td>16</td>\n",
       "      <td>47</td>\n",
       "      <td>40</td>\n",
       "      <td>46</td>\n",
       "    </tr>\n",
       "    <tr>\n",
       "      <th>17</th>\n",
       "      <td>2021-11-22 15:45:55</td>\n",
       "      <td>sensor</td>\n",
       "      <td>3</td>\n",
       "      <td>172.31.0.11</td>\n",
       "      <td>46474688-2224-4b5a-824b-f961d1ddf437</td>\n",
       "      <td>67</td>\n",
       "      <td>25</td>\n",
       "      <td>23</td>\n",
       "      <td>5</td>\n",
       "      <td>3</td>\n",
       "      <td>13</td>\n",
       "      <td>19</td>\n",
       "      <td>38</td>\n",
       "      <td>41</td>\n",
       "      <td>45</td>\n",
       "    </tr>\n",
       "    <tr>\n",
       "      <th>18</th>\n",
       "      <td>2021-11-22 15:46:00</td>\n",
       "      <td>sensor</td>\n",
       "      <td>1</td>\n",
       "      <td>172.31.0.11</td>\n",
       "      <td>cd7b48da-5bc4-41f4-82a1-00f6fc9470bd</td>\n",
       "      <td>15</td>\n",
       "      <td>8</td>\n",
       "      <td>28</td>\n",
       "      <td>33</td>\n",
       "      <td>11</td>\n",
       "      <td>11</td>\n",
       "      <td>15</td>\n",
       "      <td>62</td>\n",
       "      <td>45</td>\n",
       "      <td>32</td>\n",
       "    </tr>\n",
       "    <tr>\n",
       "      <th>19</th>\n",
       "      <td>2021-11-22 15:46:05</td>\n",
       "      <td>sensor</td>\n",
       "      <td>4</td>\n",
       "      <td>172.31.0.11</td>\n",
       "      <td>dcbb50a6-5ed1-42f4-99f4-9e52bfce12f0</td>\n",
       "      <td>59</td>\n",
       "      <td>3</td>\n",
       "      <td>11</td>\n",
       "      <td>31</td>\n",
       "      <td>9</td>\n",
       "      <td>17</td>\n",
       "      <td>14</td>\n",
       "      <td>20</td>\n",
       "      <td>63</td>\n",
       "      <td>69</td>\n",
       "    </tr>\n",
       "    <tr>\n",
       "      <th>20</th>\n",
       "      <td>2021-11-22 15:46:10</td>\n",
       "      <td>sensor</td>\n",
       "      <td>1</td>\n",
       "      <td>172.31.0.11</td>\n",
       "      <td>2397f3f1-27fb-4e72-986b-b463fbd580ba</td>\n",
       "      <td>53</td>\n",
       "      <td>3</td>\n",
       "      <td>15</td>\n",
       "      <td>30</td>\n",
       "      <td>2</td>\n",
       "      <td>10</td>\n",
       "      <td>12</td>\n",
       "      <td>55</td>\n",
       "      <td>43</td>\n",
       "      <td>47</td>\n",
       "    </tr>\n",
       "    <tr>\n",
       "      <th>21</th>\n",
       "      <td>2021-11-22 15:46:15</td>\n",
       "      <td>sensor</td>\n",
       "      <td>1</td>\n",
       "      <td>172.31.0.11</td>\n",
       "      <td>eb0814cd-6ddc-464c-acf0-68558ce80867</td>\n",
       "      <td>72</td>\n",
       "      <td>12</td>\n",
       "      <td>26</td>\n",
       "      <td>31</td>\n",
       "      <td>5</td>\n",
       "      <td>21</td>\n",
       "      <td>14</td>\n",
       "      <td>46</td>\n",
       "      <td>54</td>\n",
       "      <td>68</td>\n",
       "    </tr>\n",
       "    <tr>\n",
       "      <th>22</th>\n",
       "      <td>2021-11-22 15:46:20</td>\n",
       "      <td>sensor</td>\n",
       "      <td>1</td>\n",
       "      <td>172.31.0.11</td>\n",
       "      <td>05b6087a-c35b-4790-875f-de16f37fb192</td>\n",
       "      <td>54</td>\n",
       "      <td>11</td>\n",
       "      <td>26</td>\n",
       "      <td>27</td>\n",
       "      <td>2</td>\n",
       "      <td>12</td>\n",
       "      <td>10</td>\n",
       "      <td>53</td>\n",
       "      <td>69</td>\n",
       "      <td>57</td>\n",
       "    </tr>\n",
       "    <tr>\n",
       "      <th>23</th>\n",
       "      <td>2021-11-22 15:46:25</td>\n",
       "      <td>sensor</td>\n",
       "      <td>1</td>\n",
       "      <td>172.31.0.11</td>\n",
       "      <td>52f41d5e-551c-4e5a-995b-96044f946e14</td>\n",
       "      <td>57</td>\n",
       "      <td>18</td>\n",
       "      <td>5</td>\n",
       "      <td>28</td>\n",
       "      <td>12</td>\n",
       "      <td>21</td>\n",
       "      <td>20</td>\n",
       "      <td>61</td>\n",
       "      <td>33</td>\n",
       "      <td>66</td>\n",
       "    </tr>\n",
       "    <tr>\n",
       "      <th>24</th>\n",
       "      <td>2021-11-22 15:46:30</td>\n",
       "      <td>sensor</td>\n",
       "      <td>2</td>\n",
       "      <td>172.31.0.11</td>\n",
       "      <td>a2e5271e-4777-475a-9f64-087f3fc0d13c</td>\n",
       "      <td>60</td>\n",
       "      <td>19</td>\n",
       "      <td>32</td>\n",
       "      <td>12</td>\n",
       "      <td>9</td>\n",
       "      <td>14</td>\n",
       "      <td>21</td>\n",
       "      <td>55</td>\n",
       "      <td>60</td>\n",
       "      <td>23</td>\n",
       "    </tr>\n",
       "    <tr>\n",
       "      <th>25</th>\n",
       "      <td>2021-11-22 15:46:35</td>\n",
       "      <td>sensor</td>\n",
       "      <td>4</td>\n",
       "      <td>172.31.0.11</td>\n",
       "      <td>0c8dcdc6-f4d9-4c9a-9fd8-4f6e5e934548</td>\n",
       "      <td>69</td>\n",
       "      <td>24</td>\n",
       "      <td>24</td>\n",
       "      <td>11</td>\n",
       "      <td>12</td>\n",
       "      <td>18</td>\n",
       "      <td>15</td>\n",
       "      <td>52</td>\n",
       "      <td>51</td>\n",
       "      <td>40</td>\n",
       "    </tr>\n",
       "    <tr>\n",
       "      <th>26</th>\n",
       "      <td>2021-11-22 15:46:40</td>\n",
       "      <td>sensor</td>\n",
       "      <td>4</td>\n",
       "      <td>172.31.0.11</td>\n",
       "      <td>4d3e7d2f-0267-4f08-813d-0d05914dc8e9</td>\n",
       "      <td>34</td>\n",
       "      <td>19</td>\n",
       "      <td>23</td>\n",
       "      <td>10</td>\n",
       "      <td>8</td>\n",
       "      <td>19</td>\n",
       "      <td>13</td>\n",
       "      <td>25</td>\n",
       "      <td>24</td>\n",
       "      <td>58</td>\n",
       "    </tr>\n",
       "    <tr>\n",
       "      <th>27</th>\n",
       "      <td>2021-11-22 15:46:45</td>\n",
       "      <td>sensor</td>\n",
       "      <td>3</td>\n",
       "      <td>172.31.0.11</td>\n",
       "      <td>7dd5b00a-45fe-4467-8693-7234ceb6e807</td>\n",
       "      <td>75</td>\n",
       "      <td>20</td>\n",
       "      <td>31</td>\n",
       "      <td>29</td>\n",
       "      <td>12</td>\n",
       "      <td>12</td>\n",
       "      <td>15</td>\n",
       "      <td>25</td>\n",
       "      <td>44</td>\n",
       "      <td>40</td>\n",
       "    </tr>\n",
       "    <tr>\n",
       "      <th>28</th>\n",
       "      <td>2021-11-22 15:46:50</td>\n",
       "      <td>sensor</td>\n",
       "      <td>2</td>\n",
       "      <td>172.31.0.11</td>\n",
       "      <td>5459fd1a-439f-4e8c-9378-b683329d6886</td>\n",
       "      <td>32</td>\n",
       "      <td>1</td>\n",
       "      <td>17</td>\n",
       "      <td>7</td>\n",
       "      <td>5</td>\n",
       "      <td>19</td>\n",
       "      <td>14</td>\n",
       "      <td>39</td>\n",
       "      <td>44</td>\n",
       "      <td>33</td>\n",
       "    </tr>\n",
       "    <tr>\n",
       "      <th>29</th>\n",
       "      <td>2021-11-22 15:46:55</td>\n",
       "      <td>sensor</td>\n",
       "      <td>1</td>\n",
       "      <td>172.31.0.11</td>\n",
       "      <td>299d223e-1bc2-40a9-9cc6-b08475b5a75f</td>\n",
       "      <td>67</td>\n",
       "      <td>1</td>\n",
       "      <td>8</td>\n",
       "      <td>9</td>\n",
       "      <td>7</td>\n",
       "      <td>13</td>\n",
       "      <td>14</td>\n",
       "      <td>28</td>\n",
       "      <td>38</td>\n",
       "      <td>45</td>\n",
       "    </tr>\n",
       "    <tr>\n",
       "      <th>30</th>\n",
       "      <td>2021-11-22 15:47:00</td>\n",
       "      <td>sensor</td>\n",
       "      <td>2</td>\n",
       "      <td>172.31.0.11</td>\n",
       "      <td>b1cadfe5-d385-4645-be34-3b337eca8b7c</td>\n",
       "      <td>51</td>\n",
       "      <td>4</td>\n",
       "      <td>13</td>\n",
       "      <td>19</td>\n",
       "      <td>6</td>\n",
       "      <td>21</td>\n",
       "      <td>10</td>\n",
       "      <td>57</td>\n",
       "      <td>60</td>\n",
       "      <td>44</td>\n",
       "    </tr>\n",
       "    <tr>\n",
       "      <th>31</th>\n",
       "      <td>2021-11-22 15:47:05</td>\n",
       "      <td>sensor</td>\n",
       "      <td>5</td>\n",
       "      <td>172.31.0.11</td>\n",
       "      <td>7f8bfece-5f00-4876-8d46-e46b52fb6794</td>\n",
       "      <td>65</td>\n",
       "      <td>16</td>\n",
       "      <td>6</td>\n",
       "      <td>16</td>\n",
       "      <td>3</td>\n",
       "      <td>10</td>\n",
       "      <td>10</td>\n",
       "      <td>44</td>\n",
       "      <td>38</td>\n",
       "      <td>51</td>\n",
       "    </tr>\n",
       "    <tr>\n",
       "      <th>32</th>\n",
       "      <td>2021-11-22 15:47:10</td>\n",
       "      <td>sensor</td>\n",
       "      <td>5</td>\n",
       "      <td>172.31.0.11</td>\n",
       "      <td>d3223713-f7bd-45c0-8ec9-ba5e532e1fb8</td>\n",
       "      <td>70</td>\n",
       "      <td>24</td>\n",
       "      <td>20</td>\n",
       "      <td>19</td>\n",
       "      <td>2</td>\n",
       "      <td>21</td>\n",
       "      <td>10</td>\n",
       "      <td>34</td>\n",
       "      <td>25</td>\n",
       "      <td>30</td>\n",
       "    </tr>\n",
       "    <tr>\n",
       "      <th>33</th>\n",
       "      <td>2021-11-22 15:47:15</td>\n",
       "      <td>sensor</td>\n",
       "      <td>5</td>\n",
       "      <td>172.31.0.11</td>\n",
       "      <td>ccba2d20-4019-40d1-a6f9-bb87d9be6c8f</td>\n",
       "      <td>19</td>\n",
       "      <td>23</td>\n",
       "      <td>27</td>\n",
       "      <td>32</td>\n",
       "      <td>11</td>\n",
       "      <td>19</td>\n",
       "      <td>20</td>\n",
       "      <td>51</td>\n",
       "      <td>30</td>\n",
       "      <td>35</td>\n",
       "    </tr>\n",
       "    <tr>\n",
       "      <th>34</th>\n",
       "      <td>2021-11-22 15:47:20</td>\n",
       "      <td>sensor</td>\n",
       "      <td>5</td>\n",
       "      <td>172.31.0.11</td>\n",
       "      <td>e8d9ed3a-7604-41f4-a9de-fc1ddd918000</td>\n",
       "      <td>40</td>\n",
       "      <td>3</td>\n",
       "      <td>11</td>\n",
       "      <td>22</td>\n",
       "      <td>5</td>\n",
       "      <td>15</td>\n",
       "      <td>10</td>\n",
       "      <td>22</td>\n",
       "      <td>69</td>\n",
       "      <td>36</td>\n",
       "    </tr>\n",
       "    <tr>\n",
       "      <th>35</th>\n",
       "      <td>2021-11-22 15:47:25</td>\n",
       "      <td>sensor</td>\n",
       "      <td>3</td>\n",
       "      <td>172.31.0.11</td>\n",
       "      <td>21fdfa12-37de-4974-a0fe-d82cc7dd5e60</td>\n",
       "      <td>39</td>\n",
       "      <td>21</td>\n",
       "      <td>16</td>\n",
       "      <td>15</td>\n",
       "      <td>7</td>\n",
       "      <td>18</td>\n",
       "      <td>19</td>\n",
       "      <td>47</td>\n",
       "      <td>30</td>\n",
       "      <td>31</td>\n",
       "    </tr>\n",
       "    <tr>\n",
       "      <th>36</th>\n",
       "      <td>2021-11-22 15:47:30</td>\n",
       "      <td>sensor</td>\n",
       "      <td>4</td>\n",
       "      <td>172.31.0.11</td>\n",
       "      <td>c56c66c4-c53b-48de-831b-6ea24b86a450</td>\n",
       "      <td>16</td>\n",
       "      <td>22</td>\n",
       "      <td>13</td>\n",
       "      <td>6</td>\n",
       "      <td>5</td>\n",
       "      <td>16</td>\n",
       "      <td>15</td>\n",
       "      <td>23</td>\n",
       "      <td>39</td>\n",
       "      <td>29</td>\n",
       "    </tr>\n",
       "    <tr>\n",
       "      <th>37</th>\n",
       "      <td>2021-11-22 15:47:35</td>\n",
       "      <td>sensor</td>\n",
       "      <td>2</td>\n",
       "      <td>172.31.0.11</td>\n",
       "      <td>518b91a2-e5f1-4076-a8ca-340718487952</td>\n",
       "      <td>15</td>\n",
       "      <td>15</td>\n",
       "      <td>28</td>\n",
       "      <td>16</td>\n",
       "      <td>5</td>\n",
       "      <td>21</td>\n",
       "      <td>19</td>\n",
       "      <td>49</td>\n",
       "      <td>26</td>\n",
       "      <td>22</td>\n",
       "    </tr>\n",
       "    <tr>\n",
       "      <th>38</th>\n",
       "      <td>2021-11-22 15:47:40</td>\n",
       "      <td>sensor</td>\n",
       "      <td>4</td>\n",
       "      <td>172.31.0.11</td>\n",
       "      <td>5f4c4968-7413-4644-bf81-7c1e42bc41aa</td>\n",
       "      <td>65</td>\n",
       "      <td>13</td>\n",
       "      <td>18</td>\n",
       "      <td>11</td>\n",
       "      <td>5</td>\n",
       "      <td>12</td>\n",
       "      <td>15</td>\n",
       "      <td>55</td>\n",
       "      <td>35</td>\n",
       "      <td>66</td>\n",
       "    </tr>\n",
       "    <tr>\n",
       "      <th>39</th>\n",
       "      <td>2021-11-22 15:47:45</td>\n",
       "      <td>sensor</td>\n",
       "      <td>3</td>\n",
       "      <td>172.31.0.11</td>\n",
       "      <td>08855171-1f70-45d1-b9bd-08a29b62adcd</td>\n",
       "      <td>52</td>\n",
       "      <td>7</td>\n",
       "      <td>23</td>\n",
       "      <td>21</td>\n",
       "      <td>4</td>\n",
       "      <td>18</td>\n",
       "      <td>21</td>\n",
       "      <td>25</td>\n",
       "      <td>56</td>\n",
       "      <td>32</td>\n",
       "    </tr>\n",
       "  </tbody>\n",
       "</table>\n",
       "</div>"
      ],
      "text/plain": [
       "     sensor_created_at sensor_event_type  sensor_id_cycle    sensor_ip  \\\n",
       "0  2021-11-22 15:44:30            sensor                3  172.31.0.11   \n",
       "1  2021-11-22 15:44:35            sensor                3  172.31.0.11   \n",
       "2  2021-11-22 15:44:40            sensor                3  172.31.0.11   \n",
       "3  2021-11-22 15:44:45            sensor                1  172.31.0.11   \n",
       "4  2021-11-22 15:44:50            sensor                2  172.31.0.11   \n",
       "5  2021-11-22 15:44:55            sensor                3  172.31.0.11   \n",
       "6  2021-11-22 15:45:00            sensor                3  172.31.0.11   \n",
       "7  2021-11-22 15:45:05            sensor                1  172.31.0.11   \n",
       "8  2021-11-22 15:45:10            sensor                2  172.31.0.11   \n",
       "9  2021-11-22 15:45:15            sensor                2  172.31.0.11   \n",
       "10 2021-11-22 15:45:20            sensor                3  172.31.0.11   \n",
       "11 2021-11-22 15:45:25            sensor                4  172.31.0.11   \n",
       "12 2021-11-22 15:45:30            sensor                2  172.31.0.11   \n",
       "13 2021-11-22 15:45:35            sensor                4  172.31.0.11   \n",
       "14 2021-11-22 15:45:40            sensor                4  172.31.0.11   \n",
       "15 2021-11-22 15:45:45            sensor                5  172.31.0.11   \n",
       "16 2021-11-22 15:45:50            sensor                3  172.31.0.11   \n",
       "17 2021-11-22 15:45:55            sensor                3  172.31.0.11   \n",
       "18 2021-11-22 15:46:00            sensor                1  172.31.0.11   \n",
       "19 2021-11-22 15:46:05            sensor                4  172.31.0.11   \n",
       "20 2021-11-22 15:46:10            sensor                1  172.31.0.11   \n",
       "21 2021-11-22 15:46:15            sensor                1  172.31.0.11   \n",
       "22 2021-11-22 15:46:20            sensor                1  172.31.0.11   \n",
       "23 2021-11-22 15:46:25            sensor                1  172.31.0.11   \n",
       "24 2021-11-22 15:46:30            sensor                2  172.31.0.11   \n",
       "25 2021-11-22 15:46:35            sensor                4  172.31.0.11   \n",
       "26 2021-11-22 15:46:40            sensor                4  172.31.0.11   \n",
       "27 2021-11-22 15:46:45            sensor                3  172.31.0.11   \n",
       "28 2021-11-22 15:46:50            sensor                2  172.31.0.11   \n",
       "29 2021-11-22 15:46:55            sensor                1  172.31.0.11   \n",
       "30 2021-11-22 15:47:00            sensor                2  172.31.0.11   \n",
       "31 2021-11-22 15:47:05            sensor                5  172.31.0.11   \n",
       "32 2021-11-22 15:47:10            sensor                5  172.31.0.11   \n",
       "33 2021-11-22 15:47:15            sensor                5  172.31.0.11   \n",
       "34 2021-11-22 15:47:20            sensor                5  172.31.0.11   \n",
       "35 2021-11-22 15:47:25            sensor                3  172.31.0.11   \n",
       "36 2021-11-22 15:47:30            sensor                4  172.31.0.11   \n",
       "37 2021-11-22 15:47:35            sensor                2  172.31.0.11   \n",
       "38 2021-11-22 15:47:40            sensor                4  172.31.0.11   \n",
       "39 2021-11-22 15:47:45            sensor                3  172.31.0.11   \n",
       "\n",
       "                        sensor_unique_id  sensor_value_humidity  \\\n",
       "0   e672bf0c-1149-4e76-8ad3-8859ee38408d                     30   \n",
       "1   9d50cc24-d0c7-434a-ab9c-88de65f855de                     75   \n",
       "2   6d4da84f-43f9-4f58-b1a4-9546e6e284f0                     24   \n",
       "3   5d5162d8-9bd9-47f6-8176-366bf3c4289f                     31   \n",
       "4   82193bb1-51c6-42c7-aa98-22534aff58f5                     16   \n",
       "5   d5a1af26-9f2d-4398-b43a-bd859bebc9fc                     58   \n",
       "6   19d3cfad-9d6b-4c31-aa9a-4ab6e543bf85                     54   \n",
       "7   085988af-e76c-43a9-950d-156f4b2b0dc4                     29   \n",
       "8   61d44e1b-ca56-4dbf-8589-33db298f1ce8                     57   \n",
       "9   38c647b2-d9a4-4f04-9fa5-52526270ad18                     19   \n",
       "10  d8a5c690-3b0d-449f-a99c-e09930950e5c                     15   \n",
       "11  30a90a93-b05c-420a-b61e-97daf82fc9e1                     79   \n",
       "12  a4a81151-dd95-43a2-9f23-7c5ecb41d278                     26   \n",
       "13  0bab5d47-abd6-49cb-b884-63107f9c918e                     84   \n",
       "14  181bb65c-0eff-4d9c-9f19-ecd5660f02e4                     39   \n",
       "15  938c2382-741f-4745-a613-9a8dcee4a639                     67   \n",
       "16  36fd2ee7-0ab0-4626-8584-7325c074a777                     63   \n",
       "17  46474688-2224-4b5a-824b-f961d1ddf437                     67   \n",
       "18  cd7b48da-5bc4-41f4-82a1-00f6fc9470bd                     15   \n",
       "19  dcbb50a6-5ed1-42f4-99f4-9e52bfce12f0                     59   \n",
       "20  2397f3f1-27fb-4e72-986b-b463fbd580ba                     53   \n",
       "21  eb0814cd-6ddc-464c-acf0-68558ce80867                     72   \n",
       "22  05b6087a-c35b-4790-875f-de16f37fb192                     54   \n",
       "23  52f41d5e-551c-4e5a-995b-96044f946e14                     57   \n",
       "24  a2e5271e-4777-475a-9f64-087f3fc0d13c                     60   \n",
       "25  0c8dcdc6-f4d9-4c9a-9fd8-4f6e5e934548                     69   \n",
       "26  4d3e7d2f-0267-4f08-813d-0d05914dc8e9                     34   \n",
       "27  7dd5b00a-45fe-4467-8693-7234ceb6e807                     75   \n",
       "28  5459fd1a-439f-4e8c-9378-b683329d6886                     32   \n",
       "29  299d223e-1bc2-40a9-9cc6-b08475b5a75f                     67   \n",
       "30  b1cadfe5-d385-4645-be34-3b337eca8b7c                     51   \n",
       "31  7f8bfece-5f00-4876-8d46-e46b52fb6794                     65   \n",
       "32  d3223713-f7bd-45c0-8ec9-ba5e532e1fb8                     70   \n",
       "33  ccba2d20-4019-40d1-a6f9-bb87d9be6c8f                     19   \n",
       "34  e8d9ed3a-7604-41f4-a9de-fc1ddd918000                     40   \n",
       "35  21fdfa12-37de-4974-a0fe-d82cc7dd5e60                     39   \n",
       "36  c56c66c4-c53b-48de-831b-6ea24b86a450                     16   \n",
       "37  518b91a2-e5f1-4076-a8ca-340718487952                     15   \n",
       "38  5f4c4968-7413-4644-bf81-7c1e42bc41aa                     65   \n",
       "39  08855171-1f70-45d1-b9bd-08a29b62adcd                     52   \n",
       "\n",
       "    sensor_value_temperature_motor1  sensor_value_temperature_motor2  \\\n",
       "0                                13                               31   \n",
       "1                                 8                               27   \n",
       "2                                 8                               11   \n",
       "3                                19                               16   \n",
       "4                                16                               29   \n",
       "5                                10                               11   \n",
       "6                                 3                               10   \n",
       "7                                24                               32   \n",
       "8                                 5                               22   \n",
       "9                                16                                5   \n",
       "10                               12                               29   \n",
       "11                               17                               12   \n",
       "12                               15                               10   \n",
       "13                               20                               19   \n",
       "14                               22                               21   \n",
       "15                                3                                6   \n",
       "16                                5                                8   \n",
       "17                               25                               23   \n",
       "18                                8                               28   \n",
       "19                                3                               11   \n",
       "20                                3                               15   \n",
       "21                               12                               26   \n",
       "22                               11                               26   \n",
       "23                               18                                5   \n",
       "24                               19                               32   \n",
       "25                               24                               24   \n",
       "26                               19                               23   \n",
       "27                               20                               31   \n",
       "28                                1                               17   \n",
       "29                                1                                8   \n",
       "30                                4                               13   \n",
       "31                               16                                6   \n",
       "32                               24                               20   \n",
       "33                               23                               27   \n",
       "34                                3                               11   \n",
       "35                               21                               16   \n",
       "36                               22                               13   \n",
       "37                               15                               28   \n",
       "38                               13                               18   \n",
       "39                                7                               23   \n",
       "\n",
       "    sensor_value_temperature_motor3  sensor_value_vibrationhz_x  \\\n",
       "0                                 9                          13   \n",
       "1                                30                           7   \n",
       "2                                19                           9   \n",
       "3                                 9                           8   \n",
       "4                                14                          11   \n",
       "5                                24                           9   \n",
       "6                                 9                           5   \n",
       "7                                32                           2   \n",
       "8                                34                          13   \n",
       "9                                34                           3   \n",
       "10                               34                           8   \n",
       "11                               24                          12   \n",
       "12                               26                          12   \n",
       "13                               28                          10   \n",
       "14                               24                           7   \n",
       "15                               32                           8   \n",
       "16                               14                           6   \n",
       "17                                5                           3   \n",
       "18                               33                          11   \n",
       "19                               31                           9   \n",
       "20                               30                           2   \n",
       "21                               31                           5   \n",
       "22                               27                           2   \n",
       "23                               28                          12   \n",
       "24                               12                           9   \n",
       "25                               11                          12   \n",
       "26                               10                           8   \n",
       "27                               29                          12   \n",
       "28                                7                           5   \n",
       "29                                9                           7   \n",
       "30                               19                           6   \n",
       "31                               16                           3   \n",
       "32                               19                           2   \n",
       "33                               32                          11   \n",
       "34                               22                           5   \n",
       "35                               15                           7   \n",
       "36                                6                           5   \n",
       "37                               16                           5   \n",
       "38                               11                           5   \n",
       "39                               21                           4   \n",
       "\n",
       "    sensor_value_vibrationhz_y  sensor_value_vibrationhz_z  \\\n",
       "0                           20                          17   \n",
       "1                           12                          21   \n",
       "2                           21                          21   \n",
       "3                           16                          11   \n",
       "4                           14                          10   \n",
       "5                           10                          18   \n",
       "6                           16                          19   \n",
       "7                           12                          13   \n",
       "8                           21                          20   \n",
       "9                           18                          21   \n",
       "10                          14                          15   \n",
       "11                          12                          12   \n",
       "12                          19                          16   \n",
       "13                          12                          15   \n",
       "14                          18                          12   \n",
       "15                          14                          12   \n",
       "16                          18                          16   \n",
       "17                          13                          19   \n",
       "18                          11                          15   \n",
       "19                          17                          14   \n",
       "20                          10                          12   \n",
       "21                          21                          14   \n",
       "22                          12                          10   \n",
       "23                          21                          20   \n",
       "24                          14                          21   \n",
       "25                          18                          15   \n",
       "26                          19                          13   \n",
       "27                          12                          15   \n",
       "28                          19                          14   \n",
       "29                          13                          14   \n",
       "30                          21                          10   \n",
       "31                          10                          10   \n",
       "32                          21                          10   \n",
       "33                          19                          20   \n",
       "34                          15                          10   \n",
       "35                          18                          19   \n",
       "36                          16                          15   \n",
       "37                          21                          19   \n",
       "38                          12                          15   \n",
       "39                          18                          21   \n",
       "\n",
       "    value_noise_dba_motor1  value_noise_dba_motor2  value_noise_dba_motor3  \n",
       "0                       43                      26                      30  \n",
       "1                       20                      60                      35  \n",
       "2                       59                      63                      52  \n",
       "3                       36                      42                      35  \n",
       "4                       49                      67                      50  \n",
       "5                       27                      50                      60  \n",
       "6                       29                      25                      56  \n",
       "7                       49                      50                      41  \n",
       "8                       62                      41                      59  \n",
       "9                       38                      22                      28  \n",
       "10                      47                      29                      45  \n",
       "11                      32                      28                      27  \n",
       "12                      50                      55                      29  \n",
       "13                      51                      21                      56  \n",
       "14                      37                      43                      24  \n",
       "15                      57                      39                      62  \n",
       "16                      47                      40                      46  \n",
       "17                      38                      41                      45  \n",
       "18                      62                      45                      32  \n",
       "19                      20                      63                      69  \n",
       "20                      55                      43                      47  \n",
       "21                      46                      54                      68  \n",
       "22                      53                      69                      57  \n",
       "23                      61                      33                      66  \n",
       "24                      55                      60                      23  \n",
       "25                      52                      51                      40  \n",
       "26                      25                      24                      58  \n",
       "27                      25                      44                      40  \n",
       "28                      39                      44                      33  \n",
       "29                      28                      38                      45  \n",
       "30                      57                      60                      44  \n",
       "31                      44                      38                      51  \n",
       "32                      34                      25                      30  \n",
       "33                      51                      30                      35  \n",
       "34                      22                      69                      36  \n",
       "35                      47                      30                      31  \n",
       "36                      23                      39                      29  \n",
       "37                      49                      26                      22  \n",
       "38                      55                      35                      66  \n",
       "39                      25                      56                      32  "
      ]
     },
     "execution_count": 42,
     "metadata": {},
     "output_type": "execute_result"
    }
   ],
   "source": [
    "_df_sensor"
   ]
  },
  {
   "cell_type": "code",
   "execution_count": 43,
   "id": "71782d1b",
   "metadata": {},
   "outputs": [
    {
     "data": {
      "text/html": [
       "<div>\n",
       "<style scoped>\n",
       "    .dataframe tbody tr th:only-of-type {\n",
       "        vertical-align: middle;\n",
       "    }\n",
       "\n",
       "    .dataframe tbody tr th {\n",
       "        vertical-align: top;\n",
       "    }\n",
       "\n",
       "    .dataframe thead th {\n",
       "        text-align: right;\n",
       "    }\n",
       "</style>\n",
       "<table border=\"1\" class=\"dataframe\">\n",
       "  <thead>\n",
       "    <tr style=\"text-align: right;\">\n",
       "      <th></th>\n",
       "      <th>sensor_created_at</th>\n",
       "      <th>sensor_event_type</th>\n",
       "      <th>sensor_id_cycle</th>\n",
       "      <th>sensor_ip</th>\n",
       "      <th>sensor_unique_id</th>\n",
       "      <th>sensor_value_humidity</th>\n",
       "      <th>sensor_value_temperature_motor1</th>\n",
       "      <th>sensor_value_temperature_motor2</th>\n",
       "      <th>sensor_value_temperature_motor3</th>\n",
       "      <th>sensor_value_vibrationhz_x</th>\n",
       "      <th>sensor_value_vibrationhz_y</th>\n",
       "      <th>sensor_value_vibrationhz_z</th>\n",
       "      <th>value_noise_dba_motor1</th>\n",
       "      <th>value_noise_dba_motor2</th>\n",
       "      <th>value_noise_dba_motor3</th>\n",
       "    </tr>\n",
       "  </thead>\n",
       "  <tbody>\n",
       "  </tbody>\n",
       "</table>\n",
       "</div>"
      ],
      "text/plain": [
       "Empty DataFrame\n",
       "Columns: [sensor_created_at, sensor_event_type, sensor_id_cycle, sensor_ip, sensor_unique_id, sensor_value_humidity, sensor_value_temperature_motor1, sensor_value_temperature_motor2, sensor_value_temperature_motor3, sensor_value_vibrationhz_x, sensor_value_vibrationhz_y, sensor_value_vibrationhz_z, value_noise_dba_motor1, value_noise_dba_motor2, value_noise_dba_motor3]\n",
       "Index: []"
      ]
     },
     "execution_count": 43,
     "metadata": {},
     "output_type": "execute_result"
    }
   ],
   "source": [
    "_df_sensor[_df_sensor[\"sensor_created_at\"] == \"2021-11-22 14:27:40\"]"
   ]
  },
  {
   "cell_type": "code",
   "execution_count": 44,
   "id": "adecbd1a",
   "metadata": {},
   "outputs": [
    {
     "name": "stdout",
     "output_type": "stream",
     "text": [
      "Requirement already satisfied: plotly in /opt/conda/lib/python3.7/site-packages (5.4.0)\n",
      "Requirement already satisfied: tenacity>=6.2.0 in /opt/conda/lib/python3.7/site-packages (from plotly) (8.0.1)\n",
      "Requirement already satisfied: six in /opt/conda/lib/python3.7/site-packages (from plotly) (1.15.0)\n",
      "Note: you may need to restart the kernel to use updated packages.\n"
     ]
    }
   ],
   "source": [
    "pip install plotly"
   ]
  },
  {
   "cell_type": "code",
   "execution_count": 49,
   "id": "352f45f6",
   "metadata": {},
   "outputs": [
    {
     "data": {
      "application/vnd.plotly.v1+json": {
       "config": {
        "plotlyServerURL": "https://plot.ly"
       },
       "data": [
        {
         "hovertemplate": "sensor_created_at=%{x}<br>sensor_value_vibrationhz_z=%{y}<extra></extra>",
         "legendgroup": "",
         "line": {
          "color": "#636efa",
          "dash": "solid"
         },
         "marker": {
          "symbol": "circle"
         },
         "mode": "lines",
         "name": "",
         "orientation": "v",
         "showlegend": false,
         "type": "scatter",
         "x": [
          "2021-11-22T15:44:30",
          "2021-11-22T15:44:35",
          "2021-11-22T15:44:40",
          "2021-11-22T15:44:45",
          "2021-11-22T15:44:50",
          "2021-11-22T15:44:55",
          "2021-11-22T15:45:00",
          "2021-11-22T15:45:05",
          "2021-11-22T15:45:10",
          "2021-11-22T15:45:15",
          "2021-11-22T15:45:20",
          "2021-11-22T15:45:25",
          "2021-11-22T15:45:30",
          "2021-11-22T15:45:35",
          "2021-11-22T15:45:40",
          "2021-11-22T15:45:45",
          "2021-11-22T15:45:50",
          "2021-11-22T15:45:55",
          "2021-11-22T15:46:00",
          "2021-11-22T15:46:05",
          "2021-11-22T15:46:10",
          "2021-11-22T15:46:15",
          "2021-11-22T15:46:20",
          "2021-11-22T15:46:25",
          "2021-11-22T15:46:30",
          "2021-11-22T15:46:35",
          "2021-11-22T15:46:40",
          "2021-11-22T15:46:45",
          "2021-11-22T15:46:50",
          "2021-11-22T15:46:55",
          "2021-11-22T15:47:00",
          "2021-11-22T15:47:05",
          "2021-11-22T15:47:10",
          "2021-11-22T15:47:15",
          "2021-11-22T15:47:20",
          "2021-11-22T15:47:25",
          "2021-11-22T15:47:30",
          "2021-11-22T15:47:35",
          "2021-11-22T15:47:40",
          "2021-11-22T15:47:45"
         ],
         "xaxis": "x",
         "y": [
          17,
          21,
          21,
          11,
          10,
          18,
          19,
          13,
          20,
          21,
          15,
          12,
          16,
          15,
          12,
          12,
          16,
          19,
          15,
          14,
          12,
          14,
          10,
          20,
          21,
          15,
          13,
          15,
          14,
          14,
          10,
          10,
          10,
          20,
          10,
          19,
          15,
          19,
          15,
          21
         ],
         "yaxis": "y"
        }
       ],
       "layout": {
        "legend": {
         "tracegroupgap": 0
        },
        "margin": {
         "t": 60
        },
        "template": {
         "data": {
          "bar": [
           {
            "error_x": {
             "color": "#2a3f5f"
            },
            "error_y": {
             "color": "#2a3f5f"
            },
            "marker": {
             "line": {
              "color": "#E5ECF6",
              "width": 0.5
             },
             "pattern": {
              "fillmode": "overlay",
              "size": 10,
              "solidity": 0.2
             }
            },
            "type": "bar"
           }
          ],
          "barpolar": [
           {
            "marker": {
             "line": {
              "color": "#E5ECF6",
              "width": 0.5
             },
             "pattern": {
              "fillmode": "overlay",
              "size": 10,
              "solidity": 0.2
             }
            },
            "type": "barpolar"
           }
          ],
          "carpet": [
           {
            "aaxis": {
             "endlinecolor": "#2a3f5f",
             "gridcolor": "white",
             "linecolor": "white",
             "minorgridcolor": "white",
             "startlinecolor": "#2a3f5f"
            },
            "baxis": {
             "endlinecolor": "#2a3f5f",
             "gridcolor": "white",
             "linecolor": "white",
             "minorgridcolor": "white",
             "startlinecolor": "#2a3f5f"
            },
            "type": "carpet"
           }
          ],
          "choropleth": [
           {
            "colorbar": {
             "outlinewidth": 0,
             "ticks": ""
            },
            "type": "choropleth"
           }
          ],
          "contour": [
           {
            "colorbar": {
             "outlinewidth": 0,
             "ticks": ""
            },
            "colorscale": [
             [
              0,
              "#0d0887"
             ],
             [
              0.1111111111111111,
              "#46039f"
             ],
             [
              0.2222222222222222,
              "#7201a8"
             ],
             [
              0.3333333333333333,
              "#9c179e"
             ],
             [
              0.4444444444444444,
              "#bd3786"
             ],
             [
              0.5555555555555556,
              "#d8576b"
             ],
             [
              0.6666666666666666,
              "#ed7953"
             ],
             [
              0.7777777777777778,
              "#fb9f3a"
             ],
             [
              0.8888888888888888,
              "#fdca26"
             ],
             [
              1,
              "#f0f921"
             ]
            ],
            "type": "contour"
           }
          ],
          "contourcarpet": [
           {
            "colorbar": {
             "outlinewidth": 0,
             "ticks": ""
            },
            "type": "contourcarpet"
           }
          ],
          "heatmap": [
           {
            "colorbar": {
             "outlinewidth": 0,
             "ticks": ""
            },
            "colorscale": [
             [
              0,
              "#0d0887"
             ],
             [
              0.1111111111111111,
              "#46039f"
             ],
             [
              0.2222222222222222,
              "#7201a8"
             ],
             [
              0.3333333333333333,
              "#9c179e"
             ],
             [
              0.4444444444444444,
              "#bd3786"
             ],
             [
              0.5555555555555556,
              "#d8576b"
             ],
             [
              0.6666666666666666,
              "#ed7953"
             ],
             [
              0.7777777777777778,
              "#fb9f3a"
             ],
             [
              0.8888888888888888,
              "#fdca26"
             ],
             [
              1,
              "#f0f921"
             ]
            ],
            "type": "heatmap"
           }
          ],
          "heatmapgl": [
           {
            "colorbar": {
             "outlinewidth": 0,
             "ticks": ""
            },
            "colorscale": [
             [
              0,
              "#0d0887"
             ],
             [
              0.1111111111111111,
              "#46039f"
             ],
             [
              0.2222222222222222,
              "#7201a8"
             ],
             [
              0.3333333333333333,
              "#9c179e"
             ],
             [
              0.4444444444444444,
              "#bd3786"
             ],
             [
              0.5555555555555556,
              "#d8576b"
             ],
             [
              0.6666666666666666,
              "#ed7953"
             ],
             [
              0.7777777777777778,
              "#fb9f3a"
             ],
             [
              0.8888888888888888,
              "#fdca26"
             ],
             [
              1,
              "#f0f921"
             ]
            ],
            "type": "heatmapgl"
           }
          ],
          "histogram": [
           {
            "marker": {
             "pattern": {
              "fillmode": "overlay",
              "size": 10,
              "solidity": 0.2
             }
            },
            "type": "histogram"
           }
          ],
          "histogram2d": [
           {
            "colorbar": {
             "outlinewidth": 0,
             "ticks": ""
            },
            "colorscale": [
             [
              0,
              "#0d0887"
             ],
             [
              0.1111111111111111,
              "#46039f"
             ],
             [
              0.2222222222222222,
              "#7201a8"
             ],
             [
              0.3333333333333333,
              "#9c179e"
             ],
             [
              0.4444444444444444,
              "#bd3786"
             ],
             [
              0.5555555555555556,
              "#d8576b"
             ],
             [
              0.6666666666666666,
              "#ed7953"
             ],
             [
              0.7777777777777778,
              "#fb9f3a"
             ],
             [
              0.8888888888888888,
              "#fdca26"
             ],
             [
              1,
              "#f0f921"
             ]
            ],
            "type": "histogram2d"
           }
          ],
          "histogram2dcontour": [
           {
            "colorbar": {
             "outlinewidth": 0,
             "ticks": ""
            },
            "colorscale": [
             [
              0,
              "#0d0887"
             ],
             [
              0.1111111111111111,
              "#46039f"
             ],
             [
              0.2222222222222222,
              "#7201a8"
             ],
             [
              0.3333333333333333,
              "#9c179e"
             ],
             [
              0.4444444444444444,
              "#bd3786"
             ],
             [
              0.5555555555555556,
              "#d8576b"
             ],
             [
              0.6666666666666666,
              "#ed7953"
             ],
             [
              0.7777777777777778,
              "#fb9f3a"
             ],
             [
              0.8888888888888888,
              "#fdca26"
             ],
             [
              1,
              "#f0f921"
             ]
            ],
            "type": "histogram2dcontour"
           }
          ],
          "mesh3d": [
           {
            "colorbar": {
             "outlinewidth": 0,
             "ticks": ""
            },
            "type": "mesh3d"
           }
          ],
          "parcoords": [
           {
            "line": {
             "colorbar": {
              "outlinewidth": 0,
              "ticks": ""
             }
            },
            "type": "parcoords"
           }
          ],
          "pie": [
           {
            "automargin": true,
            "type": "pie"
           }
          ],
          "scatter": [
           {
            "marker": {
             "colorbar": {
              "outlinewidth": 0,
              "ticks": ""
             }
            },
            "type": "scatter"
           }
          ],
          "scatter3d": [
           {
            "line": {
             "colorbar": {
              "outlinewidth": 0,
              "ticks": ""
             }
            },
            "marker": {
             "colorbar": {
              "outlinewidth": 0,
              "ticks": ""
             }
            },
            "type": "scatter3d"
           }
          ],
          "scattercarpet": [
           {
            "marker": {
             "colorbar": {
              "outlinewidth": 0,
              "ticks": ""
             }
            },
            "type": "scattercarpet"
           }
          ],
          "scattergeo": [
           {
            "marker": {
             "colorbar": {
              "outlinewidth": 0,
              "ticks": ""
             }
            },
            "type": "scattergeo"
           }
          ],
          "scattergl": [
           {
            "marker": {
             "colorbar": {
              "outlinewidth": 0,
              "ticks": ""
             }
            },
            "type": "scattergl"
           }
          ],
          "scattermapbox": [
           {
            "marker": {
             "colorbar": {
              "outlinewidth": 0,
              "ticks": ""
             }
            },
            "type": "scattermapbox"
           }
          ],
          "scatterpolar": [
           {
            "marker": {
             "colorbar": {
              "outlinewidth": 0,
              "ticks": ""
             }
            },
            "type": "scatterpolar"
           }
          ],
          "scatterpolargl": [
           {
            "marker": {
             "colorbar": {
              "outlinewidth": 0,
              "ticks": ""
             }
            },
            "type": "scatterpolargl"
           }
          ],
          "scatterternary": [
           {
            "marker": {
             "colorbar": {
              "outlinewidth": 0,
              "ticks": ""
             }
            },
            "type": "scatterternary"
           }
          ],
          "surface": [
           {
            "colorbar": {
             "outlinewidth": 0,
             "ticks": ""
            },
            "colorscale": [
             [
              0,
              "#0d0887"
             ],
             [
              0.1111111111111111,
              "#46039f"
             ],
             [
              0.2222222222222222,
              "#7201a8"
             ],
             [
              0.3333333333333333,
              "#9c179e"
             ],
             [
              0.4444444444444444,
              "#bd3786"
             ],
             [
              0.5555555555555556,
              "#d8576b"
             ],
             [
              0.6666666666666666,
              "#ed7953"
             ],
             [
              0.7777777777777778,
              "#fb9f3a"
             ],
             [
              0.8888888888888888,
              "#fdca26"
             ],
             [
              1,
              "#f0f921"
             ]
            ],
            "type": "surface"
           }
          ],
          "table": [
           {
            "cells": {
             "fill": {
              "color": "#EBF0F8"
             },
             "line": {
              "color": "white"
             }
            },
            "header": {
             "fill": {
              "color": "#C8D4E3"
             },
             "line": {
              "color": "white"
             }
            },
            "type": "table"
           }
          ]
         },
         "layout": {
          "annotationdefaults": {
           "arrowcolor": "#2a3f5f",
           "arrowhead": 0,
           "arrowwidth": 1
          },
          "autotypenumbers": "strict",
          "coloraxis": {
           "colorbar": {
            "outlinewidth": 0,
            "ticks": ""
           }
          },
          "colorscale": {
           "diverging": [
            [
             0,
             "#8e0152"
            ],
            [
             0.1,
             "#c51b7d"
            ],
            [
             0.2,
             "#de77ae"
            ],
            [
             0.3,
             "#f1b6da"
            ],
            [
             0.4,
             "#fde0ef"
            ],
            [
             0.5,
             "#f7f7f7"
            ],
            [
             0.6,
             "#e6f5d0"
            ],
            [
             0.7,
             "#b8e186"
            ],
            [
             0.8,
             "#7fbc41"
            ],
            [
             0.9,
             "#4d9221"
            ],
            [
             1,
             "#276419"
            ]
           ],
           "sequential": [
            [
             0,
             "#0d0887"
            ],
            [
             0.1111111111111111,
             "#46039f"
            ],
            [
             0.2222222222222222,
             "#7201a8"
            ],
            [
             0.3333333333333333,
             "#9c179e"
            ],
            [
             0.4444444444444444,
             "#bd3786"
            ],
            [
             0.5555555555555556,
             "#d8576b"
            ],
            [
             0.6666666666666666,
             "#ed7953"
            ],
            [
             0.7777777777777778,
             "#fb9f3a"
            ],
            [
             0.8888888888888888,
             "#fdca26"
            ],
            [
             1,
             "#f0f921"
            ]
           ],
           "sequentialminus": [
            [
             0,
             "#0d0887"
            ],
            [
             0.1111111111111111,
             "#46039f"
            ],
            [
             0.2222222222222222,
             "#7201a8"
            ],
            [
             0.3333333333333333,
             "#9c179e"
            ],
            [
             0.4444444444444444,
             "#bd3786"
            ],
            [
             0.5555555555555556,
             "#d8576b"
            ],
            [
             0.6666666666666666,
             "#ed7953"
            ],
            [
             0.7777777777777778,
             "#fb9f3a"
            ],
            [
             0.8888888888888888,
             "#fdca26"
            ],
            [
             1,
             "#f0f921"
            ]
           ]
          },
          "colorway": [
           "#636efa",
           "#EF553B",
           "#00cc96",
           "#ab63fa",
           "#FFA15A",
           "#19d3f3",
           "#FF6692",
           "#B6E880",
           "#FF97FF",
           "#FECB52"
          ],
          "font": {
           "color": "#2a3f5f"
          },
          "geo": {
           "bgcolor": "white",
           "lakecolor": "white",
           "landcolor": "#E5ECF6",
           "showlakes": true,
           "showland": true,
           "subunitcolor": "white"
          },
          "hoverlabel": {
           "align": "left"
          },
          "hovermode": "closest",
          "mapbox": {
           "style": "light"
          },
          "paper_bgcolor": "white",
          "plot_bgcolor": "#E5ECF6",
          "polar": {
           "angularaxis": {
            "gridcolor": "white",
            "linecolor": "white",
            "ticks": ""
           },
           "bgcolor": "#E5ECF6",
           "radialaxis": {
            "gridcolor": "white",
            "linecolor": "white",
            "ticks": ""
           }
          },
          "scene": {
           "xaxis": {
            "backgroundcolor": "#E5ECF6",
            "gridcolor": "white",
            "gridwidth": 2,
            "linecolor": "white",
            "showbackground": true,
            "ticks": "",
            "zerolinecolor": "white"
           },
           "yaxis": {
            "backgroundcolor": "#E5ECF6",
            "gridcolor": "white",
            "gridwidth": 2,
            "linecolor": "white",
            "showbackground": true,
            "ticks": "",
            "zerolinecolor": "white"
           },
           "zaxis": {
            "backgroundcolor": "#E5ECF6",
            "gridcolor": "white",
            "gridwidth": 2,
            "linecolor": "white",
            "showbackground": true,
            "ticks": "",
            "zerolinecolor": "white"
           }
          },
          "shapedefaults": {
           "line": {
            "color": "#2a3f5f"
           }
          },
          "ternary": {
           "aaxis": {
            "gridcolor": "white",
            "linecolor": "white",
            "ticks": ""
           },
           "baxis": {
            "gridcolor": "white",
            "linecolor": "white",
            "ticks": ""
           },
           "bgcolor": "#E5ECF6",
           "caxis": {
            "gridcolor": "white",
            "linecolor": "white",
            "ticks": ""
           }
          },
          "title": {
           "x": 0.05
          },
          "xaxis": {
           "automargin": true,
           "gridcolor": "white",
           "linecolor": "white",
           "ticks": "",
           "title": {
            "standoff": 15
           },
           "zerolinecolor": "white",
           "zerolinewidth": 2
          },
          "yaxis": {
           "automargin": true,
           "gridcolor": "white",
           "linecolor": "white",
           "ticks": "",
           "title": {
            "standoff": 15
           },
           "zerolinecolor": "white",
           "zerolinewidth": 2
          }
         }
        },
        "xaxis": {
         "anchor": "y",
         "domain": [
          0,
          1
         ],
         "title": {
          "text": "sensor_created_at"
         }
        },
        "yaxis": {
         "anchor": "x",
         "domain": [
          0,
          1
         ],
         "title": {
          "text": "sensor_value_vibrationhz_z"
         }
        }
       }
      },
      "text/html": [
       "<div>                            <div id=\"c6e32df0-d3ec-42b4-9166-2d78c54e39de\" class=\"plotly-graph-div\" style=\"height:525px; width:100%;\"></div>            <script type=\"text/javascript\">                require([\"plotly\"], function(Plotly) {                    window.PLOTLYENV=window.PLOTLYENV || {};                                    if (document.getElementById(\"c6e32df0-d3ec-42b4-9166-2d78c54e39de\")) {                    Plotly.newPlot(                        \"c6e32df0-d3ec-42b4-9166-2d78c54e39de\",                        [{\"hovertemplate\":\"sensor_created_at=%{x}<br>sensor_value_vibrationhz_z=%{y}<extra></extra>\",\"legendgroup\":\"\",\"line\":{\"color\":\"#636efa\",\"dash\":\"solid\"},\"marker\":{\"symbol\":\"circle\"},\"mode\":\"lines\",\"name\":\"\",\"orientation\":\"v\",\"showlegend\":false,\"x\":[\"2021-11-22T15:44:30\",\"2021-11-22T15:44:35\",\"2021-11-22T15:44:40\",\"2021-11-22T15:44:45\",\"2021-11-22T15:44:50\",\"2021-11-22T15:44:55\",\"2021-11-22T15:45:00\",\"2021-11-22T15:45:05\",\"2021-11-22T15:45:10\",\"2021-11-22T15:45:15\",\"2021-11-22T15:45:20\",\"2021-11-22T15:45:25\",\"2021-11-22T15:45:30\",\"2021-11-22T15:45:35\",\"2021-11-22T15:45:40\",\"2021-11-22T15:45:45\",\"2021-11-22T15:45:50\",\"2021-11-22T15:45:55\",\"2021-11-22T15:46:00\",\"2021-11-22T15:46:05\",\"2021-11-22T15:46:10\",\"2021-11-22T15:46:15\",\"2021-11-22T15:46:20\",\"2021-11-22T15:46:25\",\"2021-11-22T15:46:30\",\"2021-11-22T15:46:35\",\"2021-11-22T15:46:40\",\"2021-11-22T15:46:45\",\"2021-11-22T15:46:50\",\"2021-11-22T15:46:55\",\"2021-11-22T15:47:00\",\"2021-11-22T15:47:05\",\"2021-11-22T15:47:10\",\"2021-11-22T15:47:15\",\"2021-11-22T15:47:20\",\"2021-11-22T15:47:25\",\"2021-11-22T15:47:30\",\"2021-11-22T15:47:35\",\"2021-11-22T15:47:40\",\"2021-11-22T15:47:45\"],\"xaxis\":\"x\",\"y\":[17,21,21,11,10,18,19,13,20,21,15,12,16,15,12,12,16,19,15,14,12,14,10,20,21,15,13,15,14,14,10,10,10,20,10,19,15,19,15,21],\"yaxis\":\"y\",\"type\":\"scatter\"}],                        {\"template\":{\"data\":{\"bar\":[{\"error_x\":{\"color\":\"#2a3f5f\"},\"error_y\":{\"color\":\"#2a3f5f\"},\"marker\":{\"line\":{\"color\":\"#E5ECF6\",\"width\":0.5},\"pattern\":{\"fillmode\":\"overlay\",\"size\":10,\"solidity\":0.2}},\"type\":\"bar\"}],\"barpolar\":[{\"marker\":{\"line\":{\"color\":\"#E5ECF6\",\"width\":0.5},\"pattern\":{\"fillmode\":\"overlay\",\"size\":10,\"solidity\":0.2}},\"type\":\"barpolar\"}],\"carpet\":[{\"aaxis\":{\"endlinecolor\":\"#2a3f5f\",\"gridcolor\":\"white\",\"linecolor\":\"white\",\"minorgridcolor\":\"white\",\"startlinecolor\":\"#2a3f5f\"},\"baxis\":{\"endlinecolor\":\"#2a3f5f\",\"gridcolor\":\"white\",\"linecolor\":\"white\",\"minorgridcolor\":\"white\",\"startlinecolor\":\"#2a3f5f\"},\"type\":\"carpet\"}],\"choropleth\":[{\"colorbar\":{\"outlinewidth\":0,\"ticks\":\"\"},\"type\":\"choropleth\"}],\"contour\":[{\"colorbar\":{\"outlinewidth\":0,\"ticks\":\"\"},\"colorscale\":[[0.0,\"#0d0887\"],[0.1111111111111111,\"#46039f\"],[0.2222222222222222,\"#7201a8\"],[0.3333333333333333,\"#9c179e\"],[0.4444444444444444,\"#bd3786\"],[0.5555555555555556,\"#d8576b\"],[0.6666666666666666,\"#ed7953\"],[0.7777777777777778,\"#fb9f3a\"],[0.8888888888888888,\"#fdca26\"],[1.0,\"#f0f921\"]],\"type\":\"contour\"}],\"contourcarpet\":[{\"colorbar\":{\"outlinewidth\":0,\"ticks\":\"\"},\"type\":\"contourcarpet\"}],\"heatmap\":[{\"colorbar\":{\"outlinewidth\":0,\"ticks\":\"\"},\"colorscale\":[[0.0,\"#0d0887\"],[0.1111111111111111,\"#46039f\"],[0.2222222222222222,\"#7201a8\"],[0.3333333333333333,\"#9c179e\"],[0.4444444444444444,\"#bd3786\"],[0.5555555555555556,\"#d8576b\"],[0.6666666666666666,\"#ed7953\"],[0.7777777777777778,\"#fb9f3a\"],[0.8888888888888888,\"#fdca26\"],[1.0,\"#f0f921\"]],\"type\":\"heatmap\"}],\"heatmapgl\":[{\"colorbar\":{\"outlinewidth\":0,\"ticks\":\"\"},\"colorscale\":[[0.0,\"#0d0887\"],[0.1111111111111111,\"#46039f\"],[0.2222222222222222,\"#7201a8\"],[0.3333333333333333,\"#9c179e\"],[0.4444444444444444,\"#bd3786\"],[0.5555555555555556,\"#d8576b\"],[0.6666666666666666,\"#ed7953\"],[0.7777777777777778,\"#fb9f3a\"],[0.8888888888888888,\"#fdca26\"],[1.0,\"#f0f921\"]],\"type\":\"heatmapgl\"}],\"histogram\":[{\"marker\":{\"pattern\":{\"fillmode\":\"overlay\",\"size\":10,\"solidity\":0.2}},\"type\":\"histogram\"}],\"histogram2d\":[{\"colorbar\":{\"outlinewidth\":0,\"ticks\":\"\"},\"colorscale\":[[0.0,\"#0d0887\"],[0.1111111111111111,\"#46039f\"],[0.2222222222222222,\"#7201a8\"],[0.3333333333333333,\"#9c179e\"],[0.4444444444444444,\"#bd3786\"],[0.5555555555555556,\"#d8576b\"],[0.6666666666666666,\"#ed7953\"],[0.7777777777777778,\"#fb9f3a\"],[0.8888888888888888,\"#fdca26\"],[1.0,\"#f0f921\"]],\"type\":\"histogram2d\"}],\"histogram2dcontour\":[{\"colorbar\":{\"outlinewidth\":0,\"ticks\":\"\"},\"colorscale\":[[0.0,\"#0d0887\"],[0.1111111111111111,\"#46039f\"],[0.2222222222222222,\"#7201a8\"],[0.3333333333333333,\"#9c179e\"],[0.4444444444444444,\"#bd3786\"],[0.5555555555555556,\"#d8576b\"],[0.6666666666666666,\"#ed7953\"],[0.7777777777777778,\"#fb9f3a\"],[0.8888888888888888,\"#fdca26\"],[1.0,\"#f0f921\"]],\"type\":\"histogram2dcontour\"}],\"mesh3d\":[{\"colorbar\":{\"outlinewidth\":0,\"ticks\":\"\"},\"type\":\"mesh3d\"}],\"parcoords\":[{\"line\":{\"colorbar\":{\"outlinewidth\":0,\"ticks\":\"\"}},\"type\":\"parcoords\"}],\"pie\":[{\"automargin\":true,\"type\":\"pie\"}],\"scatter\":[{\"marker\":{\"colorbar\":{\"outlinewidth\":0,\"ticks\":\"\"}},\"type\":\"scatter\"}],\"scatter3d\":[{\"line\":{\"colorbar\":{\"outlinewidth\":0,\"ticks\":\"\"}},\"marker\":{\"colorbar\":{\"outlinewidth\":0,\"ticks\":\"\"}},\"type\":\"scatter3d\"}],\"scattercarpet\":[{\"marker\":{\"colorbar\":{\"outlinewidth\":0,\"ticks\":\"\"}},\"type\":\"scattercarpet\"}],\"scattergeo\":[{\"marker\":{\"colorbar\":{\"outlinewidth\":0,\"ticks\":\"\"}},\"type\":\"scattergeo\"}],\"scattergl\":[{\"marker\":{\"colorbar\":{\"outlinewidth\":0,\"ticks\":\"\"}},\"type\":\"scattergl\"}],\"scattermapbox\":[{\"marker\":{\"colorbar\":{\"outlinewidth\":0,\"ticks\":\"\"}},\"type\":\"scattermapbox\"}],\"scatterpolar\":[{\"marker\":{\"colorbar\":{\"outlinewidth\":0,\"ticks\":\"\"}},\"type\":\"scatterpolar\"}],\"scatterpolargl\":[{\"marker\":{\"colorbar\":{\"outlinewidth\":0,\"ticks\":\"\"}},\"type\":\"scatterpolargl\"}],\"scatterternary\":[{\"marker\":{\"colorbar\":{\"outlinewidth\":0,\"ticks\":\"\"}},\"type\":\"scatterternary\"}],\"surface\":[{\"colorbar\":{\"outlinewidth\":0,\"ticks\":\"\"},\"colorscale\":[[0.0,\"#0d0887\"],[0.1111111111111111,\"#46039f\"],[0.2222222222222222,\"#7201a8\"],[0.3333333333333333,\"#9c179e\"],[0.4444444444444444,\"#bd3786\"],[0.5555555555555556,\"#d8576b\"],[0.6666666666666666,\"#ed7953\"],[0.7777777777777778,\"#fb9f3a\"],[0.8888888888888888,\"#fdca26\"],[1.0,\"#f0f921\"]],\"type\":\"surface\"}],\"table\":[{\"cells\":{\"fill\":{\"color\":\"#EBF0F8\"},\"line\":{\"color\":\"white\"}},\"header\":{\"fill\":{\"color\":\"#C8D4E3\"},\"line\":{\"color\":\"white\"}},\"type\":\"table\"}]},\"layout\":{\"annotationdefaults\":{\"arrowcolor\":\"#2a3f5f\",\"arrowhead\":0,\"arrowwidth\":1},\"autotypenumbers\":\"strict\",\"coloraxis\":{\"colorbar\":{\"outlinewidth\":0,\"ticks\":\"\"}},\"colorscale\":{\"diverging\":[[0,\"#8e0152\"],[0.1,\"#c51b7d\"],[0.2,\"#de77ae\"],[0.3,\"#f1b6da\"],[0.4,\"#fde0ef\"],[0.5,\"#f7f7f7\"],[0.6,\"#e6f5d0\"],[0.7,\"#b8e186\"],[0.8,\"#7fbc41\"],[0.9,\"#4d9221\"],[1,\"#276419\"]],\"sequential\":[[0.0,\"#0d0887\"],[0.1111111111111111,\"#46039f\"],[0.2222222222222222,\"#7201a8\"],[0.3333333333333333,\"#9c179e\"],[0.4444444444444444,\"#bd3786\"],[0.5555555555555556,\"#d8576b\"],[0.6666666666666666,\"#ed7953\"],[0.7777777777777778,\"#fb9f3a\"],[0.8888888888888888,\"#fdca26\"],[1.0,\"#f0f921\"]],\"sequentialminus\":[[0.0,\"#0d0887\"],[0.1111111111111111,\"#46039f\"],[0.2222222222222222,\"#7201a8\"],[0.3333333333333333,\"#9c179e\"],[0.4444444444444444,\"#bd3786\"],[0.5555555555555556,\"#d8576b\"],[0.6666666666666666,\"#ed7953\"],[0.7777777777777778,\"#fb9f3a\"],[0.8888888888888888,\"#fdca26\"],[1.0,\"#f0f921\"]]},\"colorway\":[\"#636efa\",\"#EF553B\",\"#00cc96\",\"#ab63fa\",\"#FFA15A\",\"#19d3f3\",\"#FF6692\",\"#B6E880\",\"#FF97FF\",\"#FECB52\"],\"font\":{\"color\":\"#2a3f5f\"},\"geo\":{\"bgcolor\":\"white\",\"lakecolor\":\"white\",\"landcolor\":\"#E5ECF6\",\"showlakes\":true,\"showland\":true,\"subunitcolor\":\"white\"},\"hoverlabel\":{\"align\":\"left\"},\"hovermode\":\"closest\",\"mapbox\":{\"style\":\"light\"},\"paper_bgcolor\":\"white\",\"plot_bgcolor\":\"#E5ECF6\",\"polar\":{\"angularaxis\":{\"gridcolor\":\"white\",\"linecolor\":\"white\",\"ticks\":\"\"},\"bgcolor\":\"#E5ECF6\",\"radialaxis\":{\"gridcolor\":\"white\",\"linecolor\":\"white\",\"ticks\":\"\"}},\"scene\":{\"xaxis\":{\"backgroundcolor\":\"#E5ECF6\",\"gridcolor\":\"white\",\"gridwidth\":2,\"linecolor\":\"white\",\"showbackground\":true,\"ticks\":\"\",\"zerolinecolor\":\"white\"},\"yaxis\":{\"backgroundcolor\":\"#E5ECF6\",\"gridcolor\":\"white\",\"gridwidth\":2,\"linecolor\":\"white\",\"showbackground\":true,\"ticks\":\"\",\"zerolinecolor\":\"white\"},\"zaxis\":{\"backgroundcolor\":\"#E5ECF6\",\"gridcolor\":\"white\",\"gridwidth\":2,\"linecolor\":\"white\",\"showbackground\":true,\"ticks\":\"\",\"zerolinecolor\":\"white\"}},\"shapedefaults\":{\"line\":{\"color\":\"#2a3f5f\"}},\"ternary\":{\"aaxis\":{\"gridcolor\":\"white\",\"linecolor\":\"white\",\"ticks\":\"\"},\"baxis\":{\"gridcolor\":\"white\",\"linecolor\":\"white\",\"ticks\":\"\"},\"bgcolor\":\"#E5ECF6\",\"caxis\":{\"gridcolor\":\"white\",\"linecolor\":\"white\",\"ticks\":\"\"}},\"title\":{\"x\":0.05},\"xaxis\":{\"automargin\":true,\"gridcolor\":\"white\",\"linecolor\":\"white\",\"ticks\":\"\",\"title\":{\"standoff\":15},\"zerolinecolor\":\"white\",\"zerolinewidth\":2},\"yaxis\":{\"automargin\":true,\"gridcolor\":\"white\",\"linecolor\":\"white\",\"ticks\":\"\",\"title\":{\"standoff\":15},\"zerolinecolor\":\"white\",\"zerolinewidth\":2}}},\"xaxis\":{\"anchor\":\"y\",\"domain\":[0.0,1.0],\"title\":{\"text\":\"sensor_created_at\"}},\"yaxis\":{\"anchor\":\"x\",\"domain\":[0.0,1.0],\"title\":{\"text\":\"sensor_value_vibrationhz_z\"}},\"legend\":{\"tracegroupgap\":0},\"margin\":{\"t\":60}},                        {\"responsive\": true}                    ).then(function(){\n",
       "                            \n",
       "var gd = document.getElementById('c6e32df0-d3ec-42b4-9166-2d78c54e39de');\n",
       "var x = new MutationObserver(function (mutations, observer) {{\n",
       "        var display = window.getComputedStyle(gd).display;\n",
       "        if (!display || display === 'none') {{\n",
       "            console.log([gd, 'removed!']);\n",
       "            Plotly.purge(gd);\n",
       "            observer.disconnect();\n",
       "        }}\n",
       "}});\n",
       "\n",
       "// Listen for the removal of the full notebook cells\n",
       "var notebookContainer = gd.closest('#notebook-container');\n",
       "if (notebookContainer) {{\n",
       "    x.observe(notebookContainer, {childList: true});\n",
       "}}\n",
       "\n",
       "// Listen for the clearing of the current output cell\n",
       "var outputEl = gd.closest('.output');\n",
       "if (outputEl) {{\n",
       "    x.observe(outputEl, {childList: true});\n",
       "}}\n",
       "\n",
       "                        })                };                });            </script>        </div>"
      ]
     },
     "metadata": {},
     "output_type": "display_data"
    }
   ],
   "source": [
    "import plotly.express as px\n",
    "\n",
    "fig = px.line(_df_sensor, x='sensor_created_at', y=\"sensor_value_vibrationhz_z\")\n",
    "fig.show()"
   ]
  },
  {
   "cell_type": "code",
   "execution_count": 50,
   "id": "cbac92d3",
   "metadata": {},
   "outputs": [
    {
     "data": {
      "application/vnd.plotly.v1+json": {
       "config": {
        "plotlyServerURL": "https://plot.ly"
       },
       "data": [
        {
         "hovertemplate": "sensor_created_at=%{x}<br>sensor_value_vibrationhz_x=%{y}<extra></extra>",
         "legendgroup": "",
         "line": {
          "color": "#636efa",
          "dash": "solid"
         },
         "marker": {
          "symbol": "circle"
         },
         "mode": "lines",
         "name": "",
         "orientation": "v",
         "showlegend": false,
         "type": "scatter",
         "x": [
          "2021-11-22T15:44:30",
          "2021-11-22T15:44:35",
          "2021-11-22T15:44:40",
          "2021-11-22T15:44:45",
          "2021-11-22T15:44:50",
          "2021-11-22T15:44:55",
          "2021-11-22T15:45:00",
          "2021-11-22T15:45:05",
          "2021-11-22T15:45:10",
          "2021-11-22T15:45:15",
          "2021-11-22T15:45:20",
          "2021-11-22T15:45:25",
          "2021-11-22T15:45:30",
          "2021-11-22T15:45:35",
          "2021-11-22T15:45:40",
          "2021-11-22T15:45:45",
          "2021-11-22T15:45:50",
          "2021-11-22T15:45:55",
          "2021-11-22T15:46:00",
          "2021-11-22T15:46:05",
          "2021-11-22T15:46:10",
          "2021-11-22T15:46:15",
          "2021-11-22T15:46:20",
          "2021-11-22T15:46:25",
          "2021-11-22T15:46:30",
          "2021-11-22T15:46:35",
          "2021-11-22T15:46:40",
          "2021-11-22T15:46:45",
          "2021-11-22T15:46:50",
          "2021-11-22T15:46:55",
          "2021-11-22T15:47:00",
          "2021-11-22T15:47:05",
          "2021-11-22T15:47:10",
          "2021-11-22T15:47:15",
          "2021-11-22T15:47:20",
          "2021-11-22T15:47:25",
          "2021-11-22T15:47:30",
          "2021-11-22T15:47:35",
          "2021-11-22T15:47:40",
          "2021-11-22T15:47:45"
         ],
         "xaxis": "x",
         "y": [
          13,
          7,
          9,
          8,
          11,
          9,
          5,
          2,
          13,
          3,
          8,
          12,
          12,
          10,
          7,
          8,
          6,
          3,
          11,
          9,
          2,
          5,
          2,
          12,
          9,
          12,
          8,
          12,
          5,
          7,
          6,
          3,
          2,
          11,
          5,
          7,
          5,
          5,
          5,
          4
         ],
         "yaxis": "y"
        }
       ],
       "layout": {
        "legend": {
         "tracegroupgap": 0
        },
        "margin": {
         "t": 60
        },
        "template": {
         "data": {
          "bar": [
           {
            "error_x": {
             "color": "#2a3f5f"
            },
            "error_y": {
             "color": "#2a3f5f"
            },
            "marker": {
             "line": {
              "color": "#E5ECF6",
              "width": 0.5
             },
             "pattern": {
              "fillmode": "overlay",
              "size": 10,
              "solidity": 0.2
             }
            },
            "type": "bar"
           }
          ],
          "barpolar": [
           {
            "marker": {
             "line": {
              "color": "#E5ECF6",
              "width": 0.5
             },
             "pattern": {
              "fillmode": "overlay",
              "size": 10,
              "solidity": 0.2
             }
            },
            "type": "barpolar"
           }
          ],
          "carpet": [
           {
            "aaxis": {
             "endlinecolor": "#2a3f5f",
             "gridcolor": "white",
             "linecolor": "white",
             "minorgridcolor": "white",
             "startlinecolor": "#2a3f5f"
            },
            "baxis": {
             "endlinecolor": "#2a3f5f",
             "gridcolor": "white",
             "linecolor": "white",
             "minorgridcolor": "white",
             "startlinecolor": "#2a3f5f"
            },
            "type": "carpet"
           }
          ],
          "choropleth": [
           {
            "colorbar": {
             "outlinewidth": 0,
             "ticks": ""
            },
            "type": "choropleth"
           }
          ],
          "contour": [
           {
            "colorbar": {
             "outlinewidth": 0,
             "ticks": ""
            },
            "colorscale": [
             [
              0,
              "#0d0887"
             ],
             [
              0.1111111111111111,
              "#46039f"
             ],
             [
              0.2222222222222222,
              "#7201a8"
             ],
             [
              0.3333333333333333,
              "#9c179e"
             ],
             [
              0.4444444444444444,
              "#bd3786"
             ],
             [
              0.5555555555555556,
              "#d8576b"
             ],
             [
              0.6666666666666666,
              "#ed7953"
             ],
             [
              0.7777777777777778,
              "#fb9f3a"
             ],
             [
              0.8888888888888888,
              "#fdca26"
             ],
             [
              1,
              "#f0f921"
             ]
            ],
            "type": "contour"
           }
          ],
          "contourcarpet": [
           {
            "colorbar": {
             "outlinewidth": 0,
             "ticks": ""
            },
            "type": "contourcarpet"
           }
          ],
          "heatmap": [
           {
            "colorbar": {
             "outlinewidth": 0,
             "ticks": ""
            },
            "colorscale": [
             [
              0,
              "#0d0887"
             ],
             [
              0.1111111111111111,
              "#46039f"
             ],
             [
              0.2222222222222222,
              "#7201a8"
             ],
             [
              0.3333333333333333,
              "#9c179e"
             ],
             [
              0.4444444444444444,
              "#bd3786"
             ],
             [
              0.5555555555555556,
              "#d8576b"
             ],
             [
              0.6666666666666666,
              "#ed7953"
             ],
             [
              0.7777777777777778,
              "#fb9f3a"
             ],
             [
              0.8888888888888888,
              "#fdca26"
             ],
             [
              1,
              "#f0f921"
             ]
            ],
            "type": "heatmap"
           }
          ],
          "heatmapgl": [
           {
            "colorbar": {
             "outlinewidth": 0,
             "ticks": ""
            },
            "colorscale": [
             [
              0,
              "#0d0887"
             ],
             [
              0.1111111111111111,
              "#46039f"
             ],
             [
              0.2222222222222222,
              "#7201a8"
             ],
             [
              0.3333333333333333,
              "#9c179e"
             ],
             [
              0.4444444444444444,
              "#bd3786"
             ],
             [
              0.5555555555555556,
              "#d8576b"
             ],
             [
              0.6666666666666666,
              "#ed7953"
             ],
             [
              0.7777777777777778,
              "#fb9f3a"
             ],
             [
              0.8888888888888888,
              "#fdca26"
             ],
             [
              1,
              "#f0f921"
             ]
            ],
            "type": "heatmapgl"
           }
          ],
          "histogram": [
           {
            "marker": {
             "pattern": {
              "fillmode": "overlay",
              "size": 10,
              "solidity": 0.2
             }
            },
            "type": "histogram"
           }
          ],
          "histogram2d": [
           {
            "colorbar": {
             "outlinewidth": 0,
             "ticks": ""
            },
            "colorscale": [
             [
              0,
              "#0d0887"
             ],
             [
              0.1111111111111111,
              "#46039f"
             ],
             [
              0.2222222222222222,
              "#7201a8"
             ],
             [
              0.3333333333333333,
              "#9c179e"
             ],
             [
              0.4444444444444444,
              "#bd3786"
             ],
             [
              0.5555555555555556,
              "#d8576b"
             ],
             [
              0.6666666666666666,
              "#ed7953"
             ],
             [
              0.7777777777777778,
              "#fb9f3a"
             ],
             [
              0.8888888888888888,
              "#fdca26"
             ],
             [
              1,
              "#f0f921"
             ]
            ],
            "type": "histogram2d"
           }
          ],
          "histogram2dcontour": [
           {
            "colorbar": {
             "outlinewidth": 0,
             "ticks": ""
            },
            "colorscale": [
             [
              0,
              "#0d0887"
             ],
             [
              0.1111111111111111,
              "#46039f"
             ],
             [
              0.2222222222222222,
              "#7201a8"
             ],
             [
              0.3333333333333333,
              "#9c179e"
             ],
             [
              0.4444444444444444,
              "#bd3786"
             ],
             [
              0.5555555555555556,
              "#d8576b"
             ],
             [
              0.6666666666666666,
              "#ed7953"
             ],
             [
              0.7777777777777778,
              "#fb9f3a"
             ],
             [
              0.8888888888888888,
              "#fdca26"
             ],
             [
              1,
              "#f0f921"
             ]
            ],
            "type": "histogram2dcontour"
           }
          ],
          "mesh3d": [
           {
            "colorbar": {
             "outlinewidth": 0,
             "ticks": ""
            },
            "type": "mesh3d"
           }
          ],
          "parcoords": [
           {
            "line": {
             "colorbar": {
              "outlinewidth": 0,
              "ticks": ""
             }
            },
            "type": "parcoords"
           }
          ],
          "pie": [
           {
            "automargin": true,
            "type": "pie"
           }
          ],
          "scatter": [
           {
            "marker": {
             "colorbar": {
              "outlinewidth": 0,
              "ticks": ""
             }
            },
            "type": "scatter"
           }
          ],
          "scatter3d": [
           {
            "line": {
             "colorbar": {
              "outlinewidth": 0,
              "ticks": ""
             }
            },
            "marker": {
             "colorbar": {
              "outlinewidth": 0,
              "ticks": ""
             }
            },
            "type": "scatter3d"
           }
          ],
          "scattercarpet": [
           {
            "marker": {
             "colorbar": {
              "outlinewidth": 0,
              "ticks": ""
             }
            },
            "type": "scattercarpet"
           }
          ],
          "scattergeo": [
           {
            "marker": {
             "colorbar": {
              "outlinewidth": 0,
              "ticks": ""
             }
            },
            "type": "scattergeo"
           }
          ],
          "scattergl": [
           {
            "marker": {
             "colorbar": {
              "outlinewidth": 0,
              "ticks": ""
             }
            },
            "type": "scattergl"
           }
          ],
          "scattermapbox": [
           {
            "marker": {
             "colorbar": {
              "outlinewidth": 0,
              "ticks": ""
             }
            },
            "type": "scattermapbox"
           }
          ],
          "scatterpolar": [
           {
            "marker": {
             "colorbar": {
              "outlinewidth": 0,
              "ticks": ""
             }
            },
            "type": "scatterpolar"
           }
          ],
          "scatterpolargl": [
           {
            "marker": {
             "colorbar": {
              "outlinewidth": 0,
              "ticks": ""
             }
            },
            "type": "scatterpolargl"
           }
          ],
          "scatterternary": [
           {
            "marker": {
             "colorbar": {
              "outlinewidth": 0,
              "ticks": ""
             }
            },
            "type": "scatterternary"
           }
          ],
          "surface": [
           {
            "colorbar": {
             "outlinewidth": 0,
             "ticks": ""
            },
            "colorscale": [
             [
              0,
              "#0d0887"
             ],
             [
              0.1111111111111111,
              "#46039f"
             ],
             [
              0.2222222222222222,
              "#7201a8"
             ],
             [
              0.3333333333333333,
              "#9c179e"
             ],
             [
              0.4444444444444444,
              "#bd3786"
             ],
             [
              0.5555555555555556,
              "#d8576b"
             ],
             [
              0.6666666666666666,
              "#ed7953"
             ],
             [
              0.7777777777777778,
              "#fb9f3a"
             ],
             [
              0.8888888888888888,
              "#fdca26"
             ],
             [
              1,
              "#f0f921"
             ]
            ],
            "type": "surface"
           }
          ],
          "table": [
           {
            "cells": {
             "fill": {
              "color": "#EBF0F8"
             },
             "line": {
              "color": "white"
             }
            },
            "header": {
             "fill": {
              "color": "#C8D4E3"
             },
             "line": {
              "color": "white"
             }
            },
            "type": "table"
           }
          ]
         },
         "layout": {
          "annotationdefaults": {
           "arrowcolor": "#2a3f5f",
           "arrowhead": 0,
           "arrowwidth": 1
          },
          "autotypenumbers": "strict",
          "coloraxis": {
           "colorbar": {
            "outlinewidth": 0,
            "ticks": ""
           }
          },
          "colorscale": {
           "diverging": [
            [
             0,
             "#8e0152"
            ],
            [
             0.1,
             "#c51b7d"
            ],
            [
             0.2,
             "#de77ae"
            ],
            [
             0.3,
             "#f1b6da"
            ],
            [
             0.4,
             "#fde0ef"
            ],
            [
             0.5,
             "#f7f7f7"
            ],
            [
             0.6,
             "#e6f5d0"
            ],
            [
             0.7,
             "#b8e186"
            ],
            [
             0.8,
             "#7fbc41"
            ],
            [
             0.9,
             "#4d9221"
            ],
            [
             1,
             "#276419"
            ]
           ],
           "sequential": [
            [
             0,
             "#0d0887"
            ],
            [
             0.1111111111111111,
             "#46039f"
            ],
            [
             0.2222222222222222,
             "#7201a8"
            ],
            [
             0.3333333333333333,
             "#9c179e"
            ],
            [
             0.4444444444444444,
             "#bd3786"
            ],
            [
             0.5555555555555556,
             "#d8576b"
            ],
            [
             0.6666666666666666,
             "#ed7953"
            ],
            [
             0.7777777777777778,
             "#fb9f3a"
            ],
            [
             0.8888888888888888,
             "#fdca26"
            ],
            [
             1,
             "#f0f921"
            ]
           ],
           "sequentialminus": [
            [
             0,
             "#0d0887"
            ],
            [
             0.1111111111111111,
             "#46039f"
            ],
            [
             0.2222222222222222,
             "#7201a8"
            ],
            [
             0.3333333333333333,
             "#9c179e"
            ],
            [
             0.4444444444444444,
             "#bd3786"
            ],
            [
             0.5555555555555556,
             "#d8576b"
            ],
            [
             0.6666666666666666,
             "#ed7953"
            ],
            [
             0.7777777777777778,
             "#fb9f3a"
            ],
            [
             0.8888888888888888,
             "#fdca26"
            ],
            [
             1,
             "#f0f921"
            ]
           ]
          },
          "colorway": [
           "#636efa",
           "#EF553B",
           "#00cc96",
           "#ab63fa",
           "#FFA15A",
           "#19d3f3",
           "#FF6692",
           "#B6E880",
           "#FF97FF",
           "#FECB52"
          ],
          "font": {
           "color": "#2a3f5f"
          },
          "geo": {
           "bgcolor": "white",
           "lakecolor": "white",
           "landcolor": "#E5ECF6",
           "showlakes": true,
           "showland": true,
           "subunitcolor": "white"
          },
          "hoverlabel": {
           "align": "left"
          },
          "hovermode": "closest",
          "mapbox": {
           "style": "light"
          },
          "paper_bgcolor": "white",
          "plot_bgcolor": "#E5ECF6",
          "polar": {
           "angularaxis": {
            "gridcolor": "white",
            "linecolor": "white",
            "ticks": ""
           },
           "bgcolor": "#E5ECF6",
           "radialaxis": {
            "gridcolor": "white",
            "linecolor": "white",
            "ticks": ""
           }
          },
          "scene": {
           "xaxis": {
            "backgroundcolor": "#E5ECF6",
            "gridcolor": "white",
            "gridwidth": 2,
            "linecolor": "white",
            "showbackground": true,
            "ticks": "",
            "zerolinecolor": "white"
           },
           "yaxis": {
            "backgroundcolor": "#E5ECF6",
            "gridcolor": "white",
            "gridwidth": 2,
            "linecolor": "white",
            "showbackground": true,
            "ticks": "",
            "zerolinecolor": "white"
           },
           "zaxis": {
            "backgroundcolor": "#E5ECF6",
            "gridcolor": "white",
            "gridwidth": 2,
            "linecolor": "white",
            "showbackground": true,
            "ticks": "",
            "zerolinecolor": "white"
           }
          },
          "shapedefaults": {
           "line": {
            "color": "#2a3f5f"
           }
          },
          "ternary": {
           "aaxis": {
            "gridcolor": "white",
            "linecolor": "white",
            "ticks": ""
           },
           "baxis": {
            "gridcolor": "white",
            "linecolor": "white",
            "ticks": ""
           },
           "bgcolor": "#E5ECF6",
           "caxis": {
            "gridcolor": "white",
            "linecolor": "white",
            "ticks": ""
           }
          },
          "title": {
           "x": 0.05
          },
          "xaxis": {
           "automargin": true,
           "gridcolor": "white",
           "linecolor": "white",
           "ticks": "",
           "title": {
            "standoff": 15
           },
           "zerolinecolor": "white",
           "zerolinewidth": 2
          },
          "yaxis": {
           "automargin": true,
           "gridcolor": "white",
           "linecolor": "white",
           "ticks": "",
           "title": {
            "standoff": 15
           },
           "zerolinecolor": "white",
           "zerolinewidth": 2
          }
         }
        },
        "xaxis": {
         "anchor": "y",
         "domain": [
          0,
          1
         ],
         "title": {
          "text": "sensor_created_at"
         }
        },
        "yaxis": {
         "anchor": "x",
         "domain": [
          0,
          1
         ],
         "title": {
          "text": "sensor_value_vibrationhz_x"
         }
        }
       }
      },
      "text/html": [
       "<div>                            <div id=\"3a42afd9-6040-48e3-a824-258793439dff\" class=\"plotly-graph-div\" style=\"height:525px; width:100%;\"></div>            <script type=\"text/javascript\">                require([\"plotly\"], function(Plotly) {                    window.PLOTLYENV=window.PLOTLYENV || {};                                    if (document.getElementById(\"3a42afd9-6040-48e3-a824-258793439dff\")) {                    Plotly.newPlot(                        \"3a42afd9-6040-48e3-a824-258793439dff\",                        [{\"hovertemplate\":\"sensor_created_at=%{x}<br>sensor_value_vibrationhz_x=%{y}<extra></extra>\",\"legendgroup\":\"\",\"line\":{\"color\":\"#636efa\",\"dash\":\"solid\"},\"marker\":{\"symbol\":\"circle\"},\"mode\":\"lines\",\"name\":\"\",\"orientation\":\"v\",\"showlegend\":false,\"x\":[\"2021-11-22T15:44:30\",\"2021-11-22T15:44:35\",\"2021-11-22T15:44:40\",\"2021-11-22T15:44:45\",\"2021-11-22T15:44:50\",\"2021-11-22T15:44:55\",\"2021-11-22T15:45:00\",\"2021-11-22T15:45:05\",\"2021-11-22T15:45:10\",\"2021-11-22T15:45:15\",\"2021-11-22T15:45:20\",\"2021-11-22T15:45:25\",\"2021-11-22T15:45:30\",\"2021-11-22T15:45:35\",\"2021-11-22T15:45:40\",\"2021-11-22T15:45:45\",\"2021-11-22T15:45:50\",\"2021-11-22T15:45:55\",\"2021-11-22T15:46:00\",\"2021-11-22T15:46:05\",\"2021-11-22T15:46:10\",\"2021-11-22T15:46:15\",\"2021-11-22T15:46:20\",\"2021-11-22T15:46:25\",\"2021-11-22T15:46:30\",\"2021-11-22T15:46:35\",\"2021-11-22T15:46:40\",\"2021-11-22T15:46:45\",\"2021-11-22T15:46:50\",\"2021-11-22T15:46:55\",\"2021-11-22T15:47:00\",\"2021-11-22T15:47:05\",\"2021-11-22T15:47:10\",\"2021-11-22T15:47:15\",\"2021-11-22T15:47:20\",\"2021-11-22T15:47:25\",\"2021-11-22T15:47:30\",\"2021-11-22T15:47:35\",\"2021-11-22T15:47:40\",\"2021-11-22T15:47:45\"],\"xaxis\":\"x\",\"y\":[13,7,9,8,11,9,5,2,13,3,8,12,12,10,7,8,6,3,11,9,2,5,2,12,9,12,8,12,5,7,6,3,2,11,5,7,5,5,5,4],\"yaxis\":\"y\",\"type\":\"scatter\"}],                        {\"template\":{\"data\":{\"bar\":[{\"error_x\":{\"color\":\"#2a3f5f\"},\"error_y\":{\"color\":\"#2a3f5f\"},\"marker\":{\"line\":{\"color\":\"#E5ECF6\",\"width\":0.5},\"pattern\":{\"fillmode\":\"overlay\",\"size\":10,\"solidity\":0.2}},\"type\":\"bar\"}],\"barpolar\":[{\"marker\":{\"line\":{\"color\":\"#E5ECF6\",\"width\":0.5},\"pattern\":{\"fillmode\":\"overlay\",\"size\":10,\"solidity\":0.2}},\"type\":\"barpolar\"}],\"carpet\":[{\"aaxis\":{\"endlinecolor\":\"#2a3f5f\",\"gridcolor\":\"white\",\"linecolor\":\"white\",\"minorgridcolor\":\"white\",\"startlinecolor\":\"#2a3f5f\"},\"baxis\":{\"endlinecolor\":\"#2a3f5f\",\"gridcolor\":\"white\",\"linecolor\":\"white\",\"minorgridcolor\":\"white\",\"startlinecolor\":\"#2a3f5f\"},\"type\":\"carpet\"}],\"choropleth\":[{\"colorbar\":{\"outlinewidth\":0,\"ticks\":\"\"},\"type\":\"choropleth\"}],\"contour\":[{\"colorbar\":{\"outlinewidth\":0,\"ticks\":\"\"},\"colorscale\":[[0.0,\"#0d0887\"],[0.1111111111111111,\"#46039f\"],[0.2222222222222222,\"#7201a8\"],[0.3333333333333333,\"#9c179e\"],[0.4444444444444444,\"#bd3786\"],[0.5555555555555556,\"#d8576b\"],[0.6666666666666666,\"#ed7953\"],[0.7777777777777778,\"#fb9f3a\"],[0.8888888888888888,\"#fdca26\"],[1.0,\"#f0f921\"]],\"type\":\"contour\"}],\"contourcarpet\":[{\"colorbar\":{\"outlinewidth\":0,\"ticks\":\"\"},\"type\":\"contourcarpet\"}],\"heatmap\":[{\"colorbar\":{\"outlinewidth\":0,\"ticks\":\"\"},\"colorscale\":[[0.0,\"#0d0887\"],[0.1111111111111111,\"#46039f\"],[0.2222222222222222,\"#7201a8\"],[0.3333333333333333,\"#9c179e\"],[0.4444444444444444,\"#bd3786\"],[0.5555555555555556,\"#d8576b\"],[0.6666666666666666,\"#ed7953\"],[0.7777777777777778,\"#fb9f3a\"],[0.8888888888888888,\"#fdca26\"],[1.0,\"#f0f921\"]],\"type\":\"heatmap\"}],\"heatmapgl\":[{\"colorbar\":{\"outlinewidth\":0,\"ticks\":\"\"},\"colorscale\":[[0.0,\"#0d0887\"],[0.1111111111111111,\"#46039f\"],[0.2222222222222222,\"#7201a8\"],[0.3333333333333333,\"#9c179e\"],[0.4444444444444444,\"#bd3786\"],[0.5555555555555556,\"#d8576b\"],[0.6666666666666666,\"#ed7953\"],[0.7777777777777778,\"#fb9f3a\"],[0.8888888888888888,\"#fdca26\"],[1.0,\"#f0f921\"]],\"type\":\"heatmapgl\"}],\"histogram\":[{\"marker\":{\"pattern\":{\"fillmode\":\"overlay\",\"size\":10,\"solidity\":0.2}},\"type\":\"histogram\"}],\"histogram2d\":[{\"colorbar\":{\"outlinewidth\":0,\"ticks\":\"\"},\"colorscale\":[[0.0,\"#0d0887\"],[0.1111111111111111,\"#46039f\"],[0.2222222222222222,\"#7201a8\"],[0.3333333333333333,\"#9c179e\"],[0.4444444444444444,\"#bd3786\"],[0.5555555555555556,\"#d8576b\"],[0.6666666666666666,\"#ed7953\"],[0.7777777777777778,\"#fb9f3a\"],[0.8888888888888888,\"#fdca26\"],[1.0,\"#f0f921\"]],\"type\":\"histogram2d\"}],\"histogram2dcontour\":[{\"colorbar\":{\"outlinewidth\":0,\"ticks\":\"\"},\"colorscale\":[[0.0,\"#0d0887\"],[0.1111111111111111,\"#46039f\"],[0.2222222222222222,\"#7201a8\"],[0.3333333333333333,\"#9c179e\"],[0.4444444444444444,\"#bd3786\"],[0.5555555555555556,\"#d8576b\"],[0.6666666666666666,\"#ed7953\"],[0.7777777777777778,\"#fb9f3a\"],[0.8888888888888888,\"#fdca26\"],[1.0,\"#f0f921\"]],\"type\":\"histogram2dcontour\"}],\"mesh3d\":[{\"colorbar\":{\"outlinewidth\":0,\"ticks\":\"\"},\"type\":\"mesh3d\"}],\"parcoords\":[{\"line\":{\"colorbar\":{\"outlinewidth\":0,\"ticks\":\"\"}},\"type\":\"parcoords\"}],\"pie\":[{\"automargin\":true,\"type\":\"pie\"}],\"scatter\":[{\"marker\":{\"colorbar\":{\"outlinewidth\":0,\"ticks\":\"\"}},\"type\":\"scatter\"}],\"scatter3d\":[{\"line\":{\"colorbar\":{\"outlinewidth\":0,\"ticks\":\"\"}},\"marker\":{\"colorbar\":{\"outlinewidth\":0,\"ticks\":\"\"}},\"type\":\"scatter3d\"}],\"scattercarpet\":[{\"marker\":{\"colorbar\":{\"outlinewidth\":0,\"ticks\":\"\"}},\"type\":\"scattercarpet\"}],\"scattergeo\":[{\"marker\":{\"colorbar\":{\"outlinewidth\":0,\"ticks\":\"\"}},\"type\":\"scattergeo\"}],\"scattergl\":[{\"marker\":{\"colorbar\":{\"outlinewidth\":0,\"ticks\":\"\"}},\"type\":\"scattergl\"}],\"scattermapbox\":[{\"marker\":{\"colorbar\":{\"outlinewidth\":0,\"ticks\":\"\"}},\"type\":\"scattermapbox\"}],\"scatterpolar\":[{\"marker\":{\"colorbar\":{\"outlinewidth\":0,\"ticks\":\"\"}},\"type\":\"scatterpolar\"}],\"scatterpolargl\":[{\"marker\":{\"colorbar\":{\"outlinewidth\":0,\"ticks\":\"\"}},\"type\":\"scatterpolargl\"}],\"scatterternary\":[{\"marker\":{\"colorbar\":{\"outlinewidth\":0,\"ticks\":\"\"}},\"type\":\"scatterternary\"}],\"surface\":[{\"colorbar\":{\"outlinewidth\":0,\"ticks\":\"\"},\"colorscale\":[[0.0,\"#0d0887\"],[0.1111111111111111,\"#46039f\"],[0.2222222222222222,\"#7201a8\"],[0.3333333333333333,\"#9c179e\"],[0.4444444444444444,\"#bd3786\"],[0.5555555555555556,\"#d8576b\"],[0.6666666666666666,\"#ed7953\"],[0.7777777777777778,\"#fb9f3a\"],[0.8888888888888888,\"#fdca26\"],[1.0,\"#f0f921\"]],\"type\":\"surface\"}],\"table\":[{\"cells\":{\"fill\":{\"color\":\"#EBF0F8\"},\"line\":{\"color\":\"white\"}},\"header\":{\"fill\":{\"color\":\"#C8D4E3\"},\"line\":{\"color\":\"white\"}},\"type\":\"table\"}]},\"layout\":{\"annotationdefaults\":{\"arrowcolor\":\"#2a3f5f\",\"arrowhead\":0,\"arrowwidth\":1},\"autotypenumbers\":\"strict\",\"coloraxis\":{\"colorbar\":{\"outlinewidth\":0,\"ticks\":\"\"}},\"colorscale\":{\"diverging\":[[0,\"#8e0152\"],[0.1,\"#c51b7d\"],[0.2,\"#de77ae\"],[0.3,\"#f1b6da\"],[0.4,\"#fde0ef\"],[0.5,\"#f7f7f7\"],[0.6,\"#e6f5d0\"],[0.7,\"#b8e186\"],[0.8,\"#7fbc41\"],[0.9,\"#4d9221\"],[1,\"#276419\"]],\"sequential\":[[0.0,\"#0d0887\"],[0.1111111111111111,\"#46039f\"],[0.2222222222222222,\"#7201a8\"],[0.3333333333333333,\"#9c179e\"],[0.4444444444444444,\"#bd3786\"],[0.5555555555555556,\"#d8576b\"],[0.6666666666666666,\"#ed7953\"],[0.7777777777777778,\"#fb9f3a\"],[0.8888888888888888,\"#fdca26\"],[1.0,\"#f0f921\"]],\"sequentialminus\":[[0.0,\"#0d0887\"],[0.1111111111111111,\"#46039f\"],[0.2222222222222222,\"#7201a8\"],[0.3333333333333333,\"#9c179e\"],[0.4444444444444444,\"#bd3786\"],[0.5555555555555556,\"#d8576b\"],[0.6666666666666666,\"#ed7953\"],[0.7777777777777778,\"#fb9f3a\"],[0.8888888888888888,\"#fdca26\"],[1.0,\"#f0f921\"]]},\"colorway\":[\"#636efa\",\"#EF553B\",\"#00cc96\",\"#ab63fa\",\"#FFA15A\",\"#19d3f3\",\"#FF6692\",\"#B6E880\",\"#FF97FF\",\"#FECB52\"],\"font\":{\"color\":\"#2a3f5f\"},\"geo\":{\"bgcolor\":\"white\",\"lakecolor\":\"white\",\"landcolor\":\"#E5ECF6\",\"showlakes\":true,\"showland\":true,\"subunitcolor\":\"white\"},\"hoverlabel\":{\"align\":\"left\"},\"hovermode\":\"closest\",\"mapbox\":{\"style\":\"light\"},\"paper_bgcolor\":\"white\",\"plot_bgcolor\":\"#E5ECF6\",\"polar\":{\"angularaxis\":{\"gridcolor\":\"white\",\"linecolor\":\"white\",\"ticks\":\"\"},\"bgcolor\":\"#E5ECF6\",\"radialaxis\":{\"gridcolor\":\"white\",\"linecolor\":\"white\",\"ticks\":\"\"}},\"scene\":{\"xaxis\":{\"backgroundcolor\":\"#E5ECF6\",\"gridcolor\":\"white\",\"gridwidth\":2,\"linecolor\":\"white\",\"showbackground\":true,\"ticks\":\"\",\"zerolinecolor\":\"white\"},\"yaxis\":{\"backgroundcolor\":\"#E5ECF6\",\"gridcolor\":\"white\",\"gridwidth\":2,\"linecolor\":\"white\",\"showbackground\":true,\"ticks\":\"\",\"zerolinecolor\":\"white\"},\"zaxis\":{\"backgroundcolor\":\"#E5ECF6\",\"gridcolor\":\"white\",\"gridwidth\":2,\"linecolor\":\"white\",\"showbackground\":true,\"ticks\":\"\",\"zerolinecolor\":\"white\"}},\"shapedefaults\":{\"line\":{\"color\":\"#2a3f5f\"}},\"ternary\":{\"aaxis\":{\"gridcolor\":\"white\",\"linecolor\":\"white\",\"ticks\":\"\"},\"baxis\":{\"gridcolor\":\"white\",\"linecolor\":\"white\",\"ticks\":\"\"},\"bgcolor\":\"#E5ECF6\",\"caxis\":{\"gridcolor\":\"white\",\"linecolor\":\"white\",\"ticks\":\"\"}},\"title\":{\"x\":0.05},\"xaxis\":{\"automargin\":true,\"gridcolor\":\"white\",\"linecolor\":\"white\",\"ticks\":\"\",\"title\":{\"standoff\":15},\"zerolinecolor\":\"white\",\"zerolinewidth\":2},\"yaxis\":{\"automargin\":true,\"gridcolor\":\"white\",\"linecolor\":\"white\",\"ticks\":\"\",\"title\":{\"standoff\":15},\"zerolinecolor\":\"white\",\"zerolinewidth\":2}}},\"xaxis\":{\"anchor\":\"y\",\"domain\":[0.0,1.0],\"title\":{\"text\":\"sensor_created_at\"}},\"yaxis\":{\"anchor\":\"x\",\"domain\":[0.0,1.0],\"title\":{\"text\":\"sensor_value_vibrationhz_x\"}},\"legend\":{\"tracegroupgap\":0},\"margin\":{\"t\":60}},                        {\"responsive\": true}                    ).then(function(){\n",
       "                            \n",
       "var gd = document.getElementById('3a42afd9-6040-48e3-a824-258793439dff');\n",
       "var x = new MutationObserver(function (mutations, observer) {{\n",
       "        var display = window.getComputedStyle(gd).display;\n",
       "        if (!display || display === 'none') {{\n",
       "            console.log([gd, 'removed!']);\n",
       "            Plotly.purge(gd);\n",
       "            observer.disconnect();\n",
       "        }}\n",
       "}});\n",
       "\n",
       "// Listen for the removal of the full notebook cells\n",
       "var notebookContainer = gd.closest('#notebook-container');\n",
       "if (notebookContainer) {{\n",
       "    x.observe(notebookContainer, {childList: true});\n",
       "}}\n",
       "\n",
       "// Listen for the clearing of the current output cell\n",
       "var outputEl = gd.closest('.output');\n",
       "if (outputEl) {{\n",
       "    x.observe(outputEl, {childList: true});\n",
       "}}\n",
       "\n",
       "                        })                };                });            </script>        </div>"
      ]
     },
     "metadata": {},
     "output_type": "display_data"
    }
   ],
   "source": [
    "import plotly.express as px\n",
    "\n",
    "fig = px.line(_df_sensor, x='sensor_created_at', y=\"sensor_value_vibrationhz_x\")\n",
    "fig.show()"
   ]
  },
  {
   "cell_type": "code",
   "execution_count": 137,
   "id": "bee7e7a8",
   "metadata": {},
   "outputs": [
    {
     "data": {
      "text/html": [
       "<div>\n",
       "<style scoped>\n",
       "    .dataframe tbody tr th:only-of-type {\n",
       "        vertical-align: middle;\n",
       "    }\n",
       "\n",
       "    .dataframe tbody tr th {\n",
       "        vertical-align: top;\n",
       "    }\n",
       "\n",
       "    .dataframe thead th {\n",
       "        text-align: right;\n",
       "    }\n",
       "</style>\n",
       "<table border=\"1\" class=\"dataframe\">\n",
       "  <thead>\n",
       "    <tr style=\"text-align: right;\">\n",
       "      <th></th>\n",
       "      <th>falha_created_at</th>\n",
       "      <th>falha_id_falha</th>\n",
       "      <th>falha_ip</th>\n",
       "      <th>falha_hostname</th>\n",
       "      <th>falha_event_type</th>\n",
       "      <th>falha_tipo_falha</th>\n",
       "      <th>falha_error_code</th>\n",
       "      <th>falha_error_description</th>\n",
       "    </tr>\n",
       "  </thead>\n",
       "  <tbody>\n",
       "    <tr>\n",
       "      <th>0</th>\n",
       "      <td>2021-11-22 14:27:35</td>\n",
       "      <td>5f91519c-d079-45d7-9c6e-5174f07ad23c</td>\n",
       "      <td>172.31.0.11</td>\n",
       "      <td>eafd4bd56e36</td>\n",
       "      <td>fail</td>\n",
       "      <td>falha_2</td>\n",
       "      <td>erro_500</td>\n",
       "      <td>Falha Geral</td>\n",
       "    </tr>\n",
       "    <tr>\n",
       "      <th>1</th>\n",
       "      <td>2021-11-22 14:27:40</td>\n",
       "      <td>ebdebe44-a623-48b5-bc0d-1a31e0443e2c</td>\n",
       "      <td>172.31.0.11</td>\n",
       "      <td>eafd4bd56e36</td>\n",
       "      <td>fail</td>\n",
       "      <td>falha_3</td>\n",
       "      <td>erro_500</td>\n",
       "      <td>Falha Crítica</td>\n",
       "    </tr>\n",
       "    <tr>\n",
       "      <th>2</th>\n",
       "      <td>2021-11-22 14:27:30</td>\n",
       "      <td>ebf4931e-828d-4dad-b8ea-29cb956cb748</td>\n",
       "      <td>172.31.0.11</td>\n",
       "      <td>eafd4bd56e36</td>\n",
       "      <td>fail</td>\n",
       "      <td>falha_1</td>\n",
       "      <td>erro_500</td>\n",
       "      <td>Pequena falha</td>\n",
       "    </tr>\n",
       "  </tbody>\n",
       "</table>\n",
       "</div>"
      ],
      "text/plain": [
       "     falha_created_at                        falha_id_falha     falha_ip  \\\n",
       "0 2021-11-22 14:27:35  5f91519c-d079-45d7-9c6e-5174f07ad23c  172.31.0.11   \n",
       "1 2021-11-22 14:27:40  ebdebe44-a623-48b5-bc0d-1a31e0443e2c  172.31.0.11   \n",
       "2 2021-11-22 14:27:30  ebf4931e-828d-4dad-b8ea-29cb956cb748  172.31.0.11   \n",
       "\n",
       "  falha_hostname falha_event_type falha_tipo_falha falha_error_code  \\\n",
       "0   eafd4bd56e36             fail          falha_2         erro_500   \n",
       "1   eafd4bd56e36             fail          falha_3         erro_500   \n",
       "2   eafd4bd56e36             fail          falha_1         erro_500   \n",
       "\n",
       "  falha_error_description  \n",
       "0             Falha Geral  \n",
       "1           Falha Crítica  \n",
       "2           Pequena falha  "
      ]
     },
     "execution_count": 137,
     "metadata": {},
     "output_type": "execute_result"
    }
   ],
   "source": [
    "_df_falhas"
   ]
  },
  {
   "cell_type": "code",
   "execution_count": 133,
   "id": "b9e32a79",
   "metadata": {},
   "outputs": [
    {
     "name": "stdout",
     "output_type": "stream",
     "text": [
      "root\n",
      " |-- sensor_created_at: timestamp (nullable = true)\n",
      " |-- sensor_event_type: string (nullable = true)\n",
      " |-- sensor_id_cycle: integer (nullable = true)\n",
      " |-- sensor_ip: string (nullable = true)\n",
      " |-- sensor_unique_id: string (nullable = true)\n",
      " |-- sensor_value_humidity: integer (nullable = true)\n",
      " |-- sensor_value_temperature_motor1: integer (nullable = true)\n",
      " |-- sensor_value_temperature_motor2: integer (nullable = true)\n",
      " |-- sensor_value_temperature_motor3: integer (nullable = true)\n",
      " |-- sensor_value_vibrationhz_x: integer (nullable = true)\n",
      " |-- sensor_value_vibrationhz_y: integer (nullable = true)\n",
      " |-- sensor_value_vibrationhz_z: integer (nullable = true)\n",
      " |-- value_noise_dba_motor1: integer (nullable = true)\n",
      " |-- value_noise_dba_motor2: integer (nullable = true)\n",
      " |-- value_noise_dba_motor3: integer (nullable = true)\n",
      "\n"
     ]
    }
   ],
   "source": [
    "df2.printSchema()"
   ]
  },
  {
   "cell_type": "code",
   "execution_count": 134,
   "id": "3f7328bc",
   "metadata": {},
   "outputs": [
    {
     "name": "stdout",
     "output_type": "stream",
     "text": [
      "root\n",
      " |-- falha_created_at: timestamp (nullable = true)\n",
      " |-- falha_id_falha: string (nullable = true)\n",
      " |-- falha_ip: string (nullable = true)\n",
      " |-- falha_hostname: string (nullable = true)\n",
      " |-- falha_event_type: string (nullable = true)\n",
      " |-- falha_tipo_falha: string (nullable = true)\n",
      " |-- falha_error_code: string (nullable = true)\n",
      " |-- falha_error_description: string (nullable = true)\n",
      "\n"
     ]
    }
   ],
   "source": [
    "df3.printSchema()"
   ]
  },
  {
   "cell_type": "code",
   "execution_count": 135,
   "id": "7b133413",
   "metadata": {},
   "outputs": [
    {
     "data": {
      "text/plain": [
       "sensor_created_at                  datetime64[ns]\n",
       "sensor_event_type                          object\n",
       "sensor_id_cycle                             int32\n",
       "sensor_ip                                  object\n",
       "sensor_unique_id                           object\n",
       "sensor_value_humidity                       int32\n",
       "sensor_value_temperature_motor1             int32\n",
       "sensor_value_temperature_motor2             int32\n",
       "sensor_value_temperature_motor3             int32\n",
       "sensor_value_vibrationhz_x                  int32\n",
       "sensor_value_vibrationhz_y                  int32\n",
       "sensor_value_vibrationhz_z                  int32\n",
       "value_noise_dba_motor1                      int32\n",
       "value_noise_dba_motor2                      int32\n",
       "value_noise_dba_motor3                      int32\n",
       "dtype: object"
      ]
     },
     "execution_count": 135,
     "metadata": {},
     "output_type": "execute_result"
    }
   ],
   "source": [
    "_df_sensor.dtypes"
   ]
  },
  {
   "cell_type": "code",
   "execution_count": 136,
   "id": "5297a2e8",
   "metadata": {},
   "outputs": [
    {
     "data": {
      "text/plain": [
       "falha_created_at           datetime64[ns]\n",
       "falha_id_falha                     object\n",
       "falha_ip                           object\n",
       "falha_hostname                     object\n",
       "falha_event_type                   object\n",
       "falha_tipo_falha                   object\n",
       "falha_error_code                   object\n",
       "falha_error_description            object\n",
       "dtype: object"
      ]
     },
     "execution_count": 136,
     "metadata": {},
     "output_type": "execute_result"
    }
   ],
   "source": [
    "_df_falhas.dtypes"
   ]
  },
  {
   "cell_type": "code",
   "execution_count": 113,
   "id": "e869d580",
   "metadata": {},
   "outputs": [],
   "source": [
    "df3 = multiline_df2.withColumn(\"results\", explode(\"results\")) \\\n",
    "    .withColumn(\"falha_created_at\", col(\"results\")[\"falha_created_at\"].cast(\"timestamp\")) \\\n",
    "    .withColumn(\"falha_id_falha\", col(\"results\")[\"falha_id_falha\"].cast(\"string\")) \\\n",
    "    .withColumn(\"falha_ip\", col(\"results\")[\"falha_ip\"].cast(\"string\")) \\\n",
    "    .withColumn(\"falha_hostname\", col(\"results\")[\"falha_hostname\"].cast(\"string\")) \\\n",
    "    .withColumn(\"falha_event_type\", col(\"results\")[\"falha_event_type\"].cast(\"string\")) \\\n",
    "    .withColumn(\"falha_tipo_falha\", col(\"results\")[\"falha_tipo_falha\"].cast(\"string\")) \\\n",
    "    .withColumn(\"falha_error_code\", col(\"results\")[\"falha_error_code\"].cast(\"string\")) \\\n",
    "    .withColumn(\"falha_error_description\", col(\"results\")[\"falha_error_description\"].cast(\"string\")) \\\n",
    "    .drop(\"results\")"
   ]
  },
  {
   "cell_type": "code",
   "execution_count": 114,
   "id": "3ce30326",
   "metadata": {},
   "outputs": [],
   "source": [
    "from pyspark.sql.types import StructType\n",
    "from pyspark.sql.types import StructField\n",
    "from pyspark.sql.types import *"
   ]
  },
  {
   "cell_type": "code",
   "execution_count": 48,
   "id": "d3d727cd",
   "metadata": {},
   "outputs": [
    {
     "name": "stdout",
     "output_type": "stream",
     "text": [
      "root\n",
      " |-- sensor_unique_id: string (nullable = true)\n",
      " |-- sensor_ip: string (nullable = true)\n",
      " |-- sensor_hostname: string (nullable = true)\n",
      " |-- sensor_id_cycle: integer (nullable = true)\n",
      " |-- sensor_event_type: string (nullable = true)\n",
      " |-- sensor_value_temperature_motor1: integer (nullable = true)\n",
      " |-- sensor_value_temperature_motor2: integer (nullable = true)\n",
      " |-- sensor_value_temperature_motor3: integer (nullable = true)\n",
      " |-- sensor_value_vibrationHZ_X: integer (nullable = true)\n",
      " |-- sensor_value_vibrationHZ_Y: integer (nullable = true)\n",
      " |-- sensor_value_vibrationHZ_Z: integer (nullable = true)\n",
      " |-- sensor_value_humidity: integer (nullable = true)\n",
      " |-- value_noise_dbA_motor1: integer (nullable = true)\n",
      " |-- value_noise_dbA_motor2: integer (nullable = true)\n",
      " |-- value_noise_dbA_motor3: integer (nullable = true)\n",
      " |-- sensor_created_at: string (nullable = true)\n",
      "\n",
      "+----------------+---------+---------------+---------------+-----------------+-------------------------------+-------------------------------+-------------------------------+--------------------------+--------------------------+--------------------------+---------------------+----------------------+----------------------+----------------------+-----------------+\n",
      "|sensor_unique_id|sensor_ip|sensor_hostname|sensor_id_cycle|sensor_event_type|sensor_value_temperature_motor1|sensor_value_temperature_motor2|sensor_value_temperature_motor3|sensor_value_vibrationHZ_X|sensor_value_vibrationHZ_Y|sensor_value_vibrationHZ_Z|sensor_value_humidity|value_noise_dbA_motor1|value_noise_dbA_motor2|value_noise_dbA_motor3|sensor_created_at|\n",
      "+----------------+---------+---------------+---------------+-----------------+-------------------------------+-------------------------------+-------------------------------+--------------------------+--------------------------+--------------------------+---------------------+----------------------+----------------------+----------------------+-----------------+\n",
      "|            null|     null|           null|           null|             null|                           null|                           null|                           null|                      null|                      null|                      null|                 null|                  null|                  null|                  null|             null|\n",
      "+----------------+---------+---------------+---------------+-----------------+-------------------------------+-------------------------------+-------------------------------+--------------------------+--------------------------+--------------------------+---------------------+----------------------+----------------------+----------------------+-----------------+\n",
      "\n"
     ]
    }
   ],
   "source": [
    "# Define custom schema\n",
    "schema = StructType([\n",
    "      StructField(\"sensor_unique_id\",StringType(),True),\n",
    "      StructField(\"sensor_ip\",StringType(),True),\n",
    "      StructField(\"sensor_hostname\",StringType(),True),\n",
    "      StructField(\"sensor_id_cycle\",IntegerType(),True),\n",
    "      StructField(\"sensor_event_type\",StringType(),True),\n",
    "      StructField(\"sensor_value_temperature_motor1\",IntegerType(),True),\n",
    "      StructField(\"sensor_value_temperature_motor2\",IntegerType(),True),\n",
    "      StructField(\"sensor_value_temperature_motor3\",IntegerType(),True),\n",
    "      StructField(\"sensor_value_vibrationHZ_X\",IntegerType(),True),\n",
    "      StructField(\"sensor_value_vibrationHZ_Y\",IntegerType(),True),\n",
    "      StructField(\"sensor_value_vibrationHZ_Z\",IntegerType(),True),\n",
    "      StructField(\"sensor_value_humidity\",IntegerType(),True),\n",
    "      StructField(\"value_noise_dbA_motor1\",IntegerType(),True),\n",
    "      StructField(\"value_noise_dbA_motor2\",IntegerType(),True),\n",
    "      StructField(\"value_noise_dbA_motor3\",IntegerType(),True),\n",
    "      StructField(\"sensor_created_at\",StringType(),True)\n",
    "])\n",
    "\n",
    "df_with_schema = spark.read.schema(schema) \\\n",
    "        .json((\"hdfs://namenode:8020//raw/sensors/5f2e9510-ce93-4e0a-b1e3-84bbfca312d4\"))\n",
    "df_with_schema.printSchema()\n",
    "df_with_schema.show()"
   ]
  },
  {
   "cell_type": "code",
   "execution_count": 62,
   "id": "a6324661",
   "metadata": {},
   "outputs": [
    {
     "ename": "AnalysisException",
     "evalue": "cannot resolve '`results.element.sensor_created_at`' given input columns: [sensor_created_at, sensor_event_type, sensor_hostname, sensor_id_cycle, sensor_ip, sensor_unique_id, sensor_value_humidity, sensor_value_temperature_motor1, sensor_value_temperature_motor2, sensor_value_temperature_motor3, sensor_value_vibrationHZ_X, sensor_value_vibrationHZ_Y, sensor_value_vibrationHZ_Z, value_noise_dbA_motor1, value_noise_dbA_motor2, value_noise_dbA_motor3];\n'Project ['results.element.sensor_created_at AS sensor_created_at#925, 'results.element.sensor_event_type AS sensor_event_type#926, 'results.results.element.sensor_hostname AS sensor_hostname#927, 'results.element.sensor_id_cycle AS sensor_id_cycle#928, 'results.element.sensor_ip AS sensor_ip#929, 'results.element.sensor_unique_id AS sensor_unique_id#930, 'results.element.sensor_value_humidity AS sensor_value_humidity#931, 'results.element.sensor_value_temperature_motor1 AS sensor_value_temperature_motor1#932, 'results.element.sensor_value_temperature_motor2 AS sensor_value_temperature_motor2#933, 'results.element.sensor_value_temperature_motor3 AS sensor_value_temperature_motor3#934, 'results.element.sensor_value_vibrationhz_x AS sensor_value_vibrationhz_x#935, 'results.element.sensor_value_vibrationhz_y AS sensor_value_vibrationhz_y#936, 'results.element.sensor_value_vibrationhz_z AS sensor_value_vibrationhz_z#937, 'results.element.value_noise_dba_motor1 AS value_noise_dba_motor1#938, 'results.element.value_noise_dba_motor2 AS value_noise_dba_motor2#939, 'results.element.value_noise_dba_motor3 AS value_noise_dba_motor3#940]\n+- Relation[sensor_unique_id#771,sensor_ip#772,sensor_hostname#773,sensor_id_cycle#774,sensor_event_type#775,sensor_value_temperature_motor1#776,sensor_value_temperature_motor2#777,sensor_value_temperature_motor3#778,sensor_value_vibrationHZ_X#779,sensor_value_vibrationHZ_Y#780,sensor_value_vibrationHZ_Z#781,sensor_value_humidity#782,value_noise_dbA_motor1#783,value_noise_dbA_motor2#784,value_noise_dbA_motor3#785,sensor_created_at#786] json\n",
     "output_type": "error",
     "traceback": [
      "\u001b[0;31m---------------------------------------------------------------------------\u001b[0m",
      "\u001b[0;31mAnalysisException\u001b[0m                         Traceback (most recent call last)",
      "\u001b[0;32m/tmp/ipykernel_2116799/2782763738.py\u001b[0m in \u001b[0;36m<module>\u001b[0;34m\u001b[0m\n\u001b[1;32m     15\u001b[0m                     \u001b[0mF\u001b[0m\u001b[0;34m.\u001b[0m\u001b[0mcol\u001b[0m\u001b[0;34m(\u001b[0m\u001b[0;34m\"results.element.value_noise_dba_motor1\"\u001b[0m\u001b[0;34m)\u001b[0m\u001b[0;34m.\u001b[0m\u001b[0malias\u001b[0m\u001b[0;34m(\u001b[0m\u001b[0;34m\"value_noise_dba_motor1\"\u001b[0m\u001b[0;34m)\u001b[0m\u001b[0;34m,\u001b[0m\u001b[0;34m\u001b[0m\u001b[0;34m\u001b[0m\u001b[0m\n\u001b[1;32m     16\u001b[0m                     \u001b[0mF\u001b[0m\u001b[0;34m.\u001b[0m\u001b[0mcol\u001b[0m\u001b[0;34m(\u001b[0m\u001b[0;34m\"results.element.value_noise_dba_motor2\"\u001b[0m\u001b[0;34m)\u001b[0m\u001b[0;34m.\u001b[0m\u001b[0malias\u001b[0m\u001b[0;34m(\u001b[0m\u001b[0;34m\"value_noise_dba_motor2\"\u001b[0m\u001b[0;34m)\u001b[0m\u001b[0;34m,\u001b[0m\u001b[0;34m\u001b[0m\u001b[0;34m\u001b[0m\u001b[0m\n\u001b[0;32m---> 17\u001b[0;31m                     F.col(\"results.element.value_noise_dba_motor3\").alias(\"value_noise_dba_motor3\"))\n\u001b[0m",
      "\u001b[0;32m/usr/local/spark/python/pyspark/sql/dataframe.py\u001b[0m in \u001b[0;36mselect\u001b[0;34m(self, *cols)\u001b[0m\n\u001b[1;32m   1667\u001b[0m         \u001b[0;34m[\u001b[0m\u001b[0mRow\u001b[0m\u001b[0;34m(\u001b[0m\u001b[0mname\u001b[0m\u001b[0;34m=\u001b[0m\u001b[0;34m'Alice'\u001b[0m\u001b[0;34m,\u001b[0m \u001b[0mage\u001b[0m\u001b[0;34m=\u001b[0m\u001b[0;36m12\u001b[0m\u001b[0;34m)\u001b[0m\u001b[0;34m,\u001b[0m \u001b[0mRow\u001b[0m\u001b[0;34m(\u001b[0m\u001b[0mname\u001b[0m\u001b[0;34m=\u001b[0m\u001b[0;34m'Bob'\u001b[0m\u001b[0;34m,\u001b[0m \u001b[0mage\u001b[0m\u001b[0;34m=\u001b[0m\u001b[0;36m15\u001b[0m\u001b[0;34m)\u001b[0m\u001b[0;34m]\u001b[0m\u001b[0;34m\u001b[0m\u001b[0;34m\u001b[0m\u001b[0m\n\u001b[1;32m   1668\u001b[0m         \"\"\"\n\u001b[0;32m-> 1669\u001b[0;31m         \u001b[0mjdf\u001b[0m \u001b[0;34m=\u001b[0m \u001b[0mself\u001b[0m\u001b[0;34m.\u001b[0m\u001b[0m_jdf\u001b[0m\u001b[0;34m.\u001b[0m\u001b[0mselect\u001b[0m\u001b[0;34m(\u001b[0m\u001b[0mself\u001b[0m\u001b[0;34m.\u001b[0m\u001b[0m_jcols\u001b[0m\u001b[0;34m(\u001b[0m\u001b[0;34m*\u001b[0m\u001b[0mcols\u001b[0m\u001b[0;34m)\u001b[0m\u001b[0;34m)\u001b[0m\u001b[0;34m\u001b[0m\u001b[0;34m\u001b[0m\u001b[0m\n\u001b[0m\u001b[1;32m   1670\u001b[0m         \u001b[0;32mreturn\u001b[0m \u001b[0mDataFrame\u001b[0m\u001b[0;34m(\u001b[0m\u001b[0mjdf\u001b[0m\u001b[0;34m,\u001b[0m \u001b[0mself\u001b[0m\u001b[0;34m.\u001b[0m\u001b[0msql_ctx\u001b[0m\u001b[0;34m)\u001b[0m\u001b[0;34m\u001b[0m\u001b[0;34m\u001b[0m\u001b[0m\n\u001b[1;32m   1671\u001b[0m \u001b[0;34m\u001b[0m\u001b[0m\n",
      "\u001b[0;32m/usr/local/spark/python/lib/py4j-0.10.9-src.zip/py4j/java_gateway.py\u001b[0m in \u001b[0;36m__call__\u001b[0;34m(self, *args)\u001b[0m\n\u001b[1;32m   1303\u001b[0m         \u001b[0manswer\u001b[0m \u001b[0;34m=\u001b[0m \u001b[0mself\u001b[0m\u001b[0;34m.\u001b[0m\u001b[0mgateway_client\u001b[0m\u001b[0;34m.\u001b[0m\u001b[0msend_command\u001b[0m\u001b[0;34m(\u001b[0m\u001b[0mcommand\u001b[0m\u001b[0;34m)\u001b[0m\u001b[0;34m\u001b[0m\u001b[0;34m\u001b[0m\u001b[0m\n\u001b[1;32m   1304\u001b[0m         return_value = get_return_value(\n\u001b[0;32m-> 1305\u001b[0;31m             answer, self.gateway_client, self.target_id, self.name)\n\u001b[0m\u001b[1;32m   1306\u001b[0m \u001b[0;34m\u001b[0m\u001b[0m\n\u001b[1;32m   1307\u001b[0m         \u001b[0;32mfor\u001b[0m \u001b[0mtemp_arg\u001b[0m \u001b[0;32min\u001b[0m \u001b[0mtemp_args\u001b[0m\u001b[0;34m:\u001b[0m\u001b[0;34m\u001b[0m\u001b[0;34m\u001b[0m\u001b[0m\n",
      "\u001b[0;32m/usr/local/spark/python/pyspark/sql/utils.py\u001b[0m in \u001b[0;36mdeco\u001b[0;34m(*a, **kw)\u001b[0m\n\u001b[1;32m    115\u001b[0m                 \u001b[0;31m# Hide where the exception came from that shows a non-Pythonic\u001b[0m\u001b[0;34m\u001b[0m\u001b[0;34m\u001b[0m\u001b[0;34m\u001b[0m\u001b[0m\n\u001b[1;32m    116\u001b[0m                 \u001b[0;31m# JVM exception message.\u001b[0m\u001b[0;34m\u001b[0m\u001b[0;34m\u001b[0m\u001b[0;34m\u001b[0m\u001b[0m\n\u001b[0;32m--> 117\u001b[0;31m                 \u001b[0;32mraise\u001b[0m \u001b[0mconverted\u001b[0m \u001b[0;32mfrom\u001b[0m \u001b[0;32mNone\u001b[0m\u001b[0;34m\u001b[0m\u001b[0;34m\u001b[0m\u001b[0m\n\u001b[0m\u001b[1;32m    118\u001b[0m             \u001b[0;32melse\u001b[0m\u001b[0;34m:\u001b[0m\u001b[0;34m\u001b[0m\u001b[0;34m\u001b[0m\u001b[0m\n\u001b[1;32m    119\u001b[0m                 \u001b[0;32mraise\u001b[0m\u001b[0;34m\u001b[0m\u001b[0;34m\u001b[0m\u001b[0m\n",
      "\u001b[0;31mAnalysisException\u001b[0m: cannot resolve '`results.element.sensor_created_at`' given input columns: [sensor_created_at, sensor_event_type, sensor_hostname, sensor_id_cycle, sensor_ip, sensor_unique_id, sensor_value_humidity, sensor_value_temperature_motor1, sensor_value_temperature_motor2, sensor_value_temperature_motor3, sensor_value_vibrationHZ_X, sensor_value_vibrationHZ_Y, sensor_value_vibrationHZ_Z, value_noise_dbA_motor1, value_noise_dbA_motor2, value_noise_dbA_motor3];\n'Project ['results.element.sensor_created_at AS sensor_created_at#925, 'results.element.sensor_event_type AS sensor_event_type#926, 'results.results.element.sensor_hostname AS sensor_hostname#927, 'results.element.sensor_id_cycle AS sensor_id_cycle#928, 'results.element.sensor_ip AS sensor_ip#929, 'results.element.sensor_unique_id AS sensor_unique_id#930, 'results.element.sensor_value_humidity AS sensor_value_humidity#931, 'results.element.sensor_value_temperature_motor1 AS sensor_value_temperature_motor1#932, 'results.element.sensor_value_temperature_motor2 AS sensor_value_temperature_motor2#933, 'results.element.sensor_value_temperature_motor3 AS sensor_value_temperature_motor3#934, 'results.element.sensor_value_vibrationhz_x AS sensor_value_vibrationhz_x#935, 'results.element.sensor_value_vibrationhz_y AS sensor_value_vibrationhz_y#936, 'results.element.sensor_value_vibrationhz_z AS sensor_value_vibrationhz_z#937, 'results.element.value_noise_dba_motor1 AS value_noise_dba_motor1#938, 'results.element.value_noise_dba_motor2 AS value_noise_dba_motor2#939, 'results.element.value_noise_dba_motor3 AS value_noise_dba_motor3#940]\n+- Relation[sensor_unique_id#771,sensor_ip#772,sensor_hostname#773,sensor_id_cycle#774,sensor_event_type#775,sensor_value_temperature_motor1#776,sensor_value_temperature_motor2#777,sensor_value_temperature_motor3#778,sensor_value_vibrationHZ_X#779,sensor_value_vibrationHZ_Y#780,sensor_value_vibrationHZ_Z#781,sensor_value_humidity#782,value_noise_dbA_motor1#783,value_noise_dbA_motor2#784,value_noise_dbA_motor3#785,sensor_created_at#786] json\n"
     ]
    }
   ],
   "source": [
    "import pyspark.sql.functions as F\n",
    "df_with_schema.select(F.col(\"results.element.sensor_created_at\").alias(\"sensor_created_at\"),\n",
    "                    F.col(\"results.element.sensor_event_type\").alias(\"sensor_event_type\"),\n",
    "                    F.col(\"results.results.element.sensor_hostname\").alias(\"sensor_hostname\"),\n",
    "                    F.col(\"results.element.sensor_id_cycle\").alias(\"sensor_id_cycle\"),\n",
    "                    F.col(\"results.element.sensor_ip\").alias(\"sensor_ip\"), \n",
    "                    F.col(\"results.element.sensor_unique_id\").alias(\"sensor_unique_id\"), \n",
    "                    F.col(\"results.element.sensor_value_humidity\").alias(\"sensor_value_humidity\"), \n",
    "                    F.col(\"results.element.sensor_value_temperature_motor1\").alias(\"sensor_value_temperature_motor1\"),\n",
    "                    F.col(\"results.element.sensor_value_temperature_motor2\").alias(\"sensor_value_temperature_motor2\"), \n",
    "                    F.col(\"results.element.sensor_value_temperature_motor3\").alias(\"sensor_value_temperature_motor3\"),\n",
    "                    F.col(\"results.element.sensor_value_vibrationhz_x\").alias(\"sensor_value_vibrationhz_x\"),\n",
    "                    F.col(\"results.element.sensor_value_vibrationhz_y\").alias(\"sensor_value_vibrationhz_y\"), \n",
    "                    F.col(\"results.element.sensor_value_vibrationhz_z\").alias(\"sensor_value_vibrationhz_z\"), \n",
    "                    F.col(\"results.element.value_noise_dba_motor1\").alias(\"value_noise_dba_motor1\"),\n",
    "                    F.col(\"results.element.value_noise_dba_motor2\").alias(\"value_noise_dba_motor2\"), \n",
    "                    F.col(\"results.element.value_noise_dba_motor3\").alias(\"value_noise_dba_motor3\"))"
   ]
  },
  {
   "cell_type": "code",
   "execution_count": 3,
   "id": "4192041c",
   "metadata": {},
   "outputs": [],
   "source": [
    "# median_income.toPandas()\n",
    "# gdp.toPandas()\n",
    "# min_wage.toPandas()\n",
    "# unemployment.toPandas()"
   ]
  },
  {
   "cell_type": "code",
   "execution_count": 4,
   "id": "1ce728c7",
   "metadata": {},
   "outputs": [
    {
     "data": {
      "text/html": [
       "<div>\n",
       "<style scoped>\n",
       "    .dataframe tbody tr th:only-of-type {\n",
       "        vertical-align: middle;\n",
       "    }\n",
       "\n",
       "    .dataframe tbody tr th {\n",
       "        vertical-align: top;\n",
       "    }\n",
       "\n",
       "    .dataframe thead th {\n",
       "        text-align: right;\n",
       "    }\n",
       "</style>\n",
       "<table border=\"1\" class=\"dataframe\">\n",
       "  <thead>\n",
       "    <tr style=\"text-align: right;\">\n",
       "      <th></th>\n",
       "      <th>state</th>\n",
       "      <th>year</th>\n",
       "      <th>household_median_income</th>\n",
       "    </tr>\n",
       "  </thead>\n",
       "  <tbody>\n",
       "    <tr>\n",
       "      <th>0</th>\n",
       "      <td>United States</td>\n",
       "      <td>2017</td>\n",
       "      <td>61,372</td>\n",
       "    </tr>\n",
       "    <tr>\n",
       "      <th>1</th>\n",
       "      <td>United States</td>\n",
       "      <td>2016</td>\n",
       "      <td>60,309</td>\n",
       "    </tr>\n",
       "    <tr>\n",
       "      <th>2</th>\n",
       "      <td>United States</td>\n",
       "      <td>2015</td>\n",
       "      <td>58,476</td>\n",
       "    </tr>\n",
       "    <tr>\n",
       "      <th>3</th>\n",
       "      <td>United States</td>\n",
       "      <td>2014</td>\n",
       "      <td>55,613</td>\n",
       "    </tr>\n",
       "    <tr>\n",
       "      <th>4</th>\n",
       "      <td>United States</td>\n",
       "      <td>2013</td>\n",
       "      <td>56,479</td>\n",
       "    </tr>\n",
       "    <tr>\n",
       "      <th>...</th>\n",
       "      <td>...</td>\n",
       "      <td>...</td>\n",
       "      <td>...</td>\n",
       "    </tr>\n",
       "    <tr>\n",
       "      <th>411</th>\n",
       "      <td>Wyoming</td>\n",
       "      <td>2014</td>\n",
       "      <td>57,721</td>\n",
       "    </tr>\n",
       "    <tr>\n",
       "      <th>412</th>\n",
       "      <td>Wyoming</td>\n",
       "      <td>2013</td>\n",
       "      <td>71,084</td>\n",
       "    </tr>\n",
       "    <tr>\n",
       "      <th>413</th>\n",
       "      <td>Wyoming</td>\n",
       "      <td>2012</td>\n",
       "      <td>61,517</td>\n",
       "    </tr>\n",
       "    <tr>\n",
       "      <th>414</th>\n",
       "      <td>Wyoming</td>\n",
       "      <td>2011</td>\n",
       "      <td>59,539</td>\n",
       "    </tr>\n",
       "    <tr>\n",
       "      <th>415</th>\n",
       "      <td>Wyoming</td>\n",
       "      <td>2010</td>\n",
       "      <td>58,816</td>\n",
       "    </tr>\n",
       "  </tbody>\n",
       "</table>\n",
       "<p>416 rows × 3 columns</p>\n",
       "</div>"
      ],
      "text/plain": [
       "             state  year household_median_income\n",
       "0    United States  2017                  61,372\n",
       "1    United States  2016                  60,309\n",
       "2    United States  2015                  58,476\n",
       "3    United States  2014                  55,613\n",
       "4    United States  2013                  56,479\n",
       "..             ...   ...                     ...\n",
       "411        Wyoming  2014                  57,721\n",
       "412        Wyoming  2013                  71,084\n",
       "413        Wyoming  2012                  61,517\n",
       "414        Wyoming  2011                  59,539\n",
       "415        Wyoming  2010                  58,816\n",
       "\n",
       "[416 rows x 3 columns]"
      ]
     },
     "execution_count": 4,
     "metadata": {},
     "output_type": "execute_result"
    }
   ],
   "source": [
    "# median_income TRANSFORMATIONS\n",
    "median_income = median_income.na.drop()\n",
    "median_income = median_income.withColumnRenamed(\"20135\", \"2013\")\n",
    "median_income = median_income.drop(\"20136\")\n",
    "\n",
    "from pyspark.sql import functions as func\n",
    "#Use `create_map` to create the map of columns with constant \n",
    "df = median_income.withColumn('mapCol', \\\n",
    "                    func.create_map(func.lit('2017'),median_income[\"2017\"],\n",
    "                                    func.lit('2016'),median_income[\"2016\"],\n",
    "                                    func.lit('2015'),median_income[\"2015\"],\n",
    "                                    func.lit('2014'),median_income[\"2014\"],\n",
    "                                    func.lit('2013'),median_income[\"2013\"],\n",
    "                                    func.lit('2012'),median_income[\"2012\"],\n",
    "                                    func.lit('2011'),median_income[\"2011\"],\n",
    "                                    func.lit('2010'),median_income[\"2010\"]\n",
    "                                   ) \n",
    "                  )\n",
    "#Use explode function to explode the map \n",
    "res = df.select('*',func.explode(df.mapCol).alias('year','household_median_income'))\n",
    "median_income = res.select('State','year', 'household_median_income')\n",
    "median_income = median_income.withColumnRenamed(\"State\",\"state\")\n",
    "median_income.toPandas()"
   ]
  },
  {
   "cell_type": "code",
   "execution_count": 5,
   "id": "38277a52",
   "metadata": {},
   "outputs": [],
   "source": [
    "# gdp TRANSFORMATIONS\n",
    "from pyspark.sql import functions as func\n",
    "\n",
    "columns_to_drop = ['GeoFips']\n",
    "gdp = gdp.drop(*columns_to_drop)\n",
    "\n",
    "\n",
    "#Use `create_map` to create the map of columns with constant \n",
    "gdp = gdp.withColumnRenamed(\"GeoName\",\"State\")\n",
    "df = gdp.withColumn('mapCol', \\\n",
    "                    func.create_map(func.lit('2019'),gdp[\"2019\"],\n",
    "                                    func.lit('2018'),gdp[\"2018\"],\n",
    "                                    func.lit('2017'),gdp[\"2017\"],\n",
    "                                    func.lit('2016'),gdp[\"2016\"],\n",
    "                                    func.lit('2015'),gdp[\"2015\"],\n",
    "                                    func.lit('2014'),gdp[\"2014\"],\n",
    "                                    func.lit('2013'),gdp[\"2013\"],\n",
    "                                    func.lit('2012'),gdp[\"2012\"],\n",
    "                                    func.lit('2011'),gdp[\"2011\"],\n",
    "                                    func.lit('2010'),gdp[\"2010\"]\n",
    "                                                                    ) \n",
    "                  )\n",
    "                            \n",
    "#Use explode function to explode the map \n",
    "res = df.select('*',func.explode(df.mapCol).alias('year','gdp_state'))\n",
    "res.toPandas()\n",
    "gdp = res.select('State','year', 'gdp_state')\n",
    "gdp = gdp.withColumnRenamed(\"State\",\"state\")\n",
    "gdp = gdp.withColumn(\"gdp_state\", round(col(\"gdp_state\").cast(\"float\"),2))"
   ]
  },
  {
   "cell_type": "code",
   "execution_count": 6,
   "id": "01eaa6f1",
   "metadata": {},
   "outputs": [
    {
     "data": {
      "text/html": [
       "<div>\n",
       "<style scoped>\n",
       "    .dataframe tbody tr th:only-of-type {\n",
       "        vertical-align: middle;\n",
       "    }\n",
       "\n",
       "    .dataframe tbody tr th {\n",
       "        vertical-align: top;\n",
       "    }\n",
       "\n",
       "    .dataframe thead th {\n",
       "        text-align: right;\n",
       "    }\n",
       "</style>\n",
       "<table border=\"1\" class=\"dataframe\">\n",
       "  <thead>\n",
       "    <tr style=\"text-align: right;\">\n",
       "      <th></th>\n",
       "      <th>year</th>\n",
       "      <th>state</th>\n",
       "      <th>min_wage_state</th>\n",
       "      <th>min_wage_federal</th>\n",
       "      <th>cpi_average</th>\n",
       "    </tr>\n",
       "  </thead>\n",
       "  <tbody>\n",
       "    <tr>\n",
       "      <th>0</th>\n",
       "      <td>2010</td>\n",
       "      <td>Alabama</td>\n",
       "      <td>0.00</td>\n",
       "      <td>8.60</td>\n",
       "      <td>218.056</td>\n",
       "    </tr>\n",
       "    <tr>\n",
       "      <th>1</th>\n",
       "      <td>2010</td>\n",
       "      <td>Alaska</td>\n",
       "      <td>9.19</td>\n",
       "      <td>8.60</td>\n",
       "      <td>218.056</td>\n",
       "    </tr>\n",
       "    <tr>\n",
       "      <th>2</th>\n",
       "      <td>2010</td>\n",
       "      <td>Arizona</td>\n",
       "      <td>8.60</td>\n",
       "      <td>8.60</td>\n",
       "      <td>218.056</td>\n",
       "    </tr>\n",
       "    <tr>\n",
       "      <th>3</th>\n",
       "      <td>2010</td>\n",
       "      <td>Arkansas</td>\n",
       "      <td>7.41</td>\n",
       "      <td>8.60</td>\n",
       "      <td>218.056</td>\n",
       "    </tr>\n",
       "    <tr>\n",
       "      <th>4</th>\n",
       "      <td>2010</td>\n",
       "      <td>California</td>\n",
       "      <td>9.49</td>\n",
       "      <td>8.60</td>\n",
       "      <td>218.056</td>\n",
       "    </tr>\n",
       "    <tr>\n",
       "      <th>...</th>\n",
       "      <td>...</td>\n",
       "      <td>...</td>\n",
       "      <td>...</td>\n",
       "      <td>...</td>\n",
       "      <td>...</td>\n",
       "    </tr>\n",
       "    <tr>\n",
       "      <th>535</th>\n",
       "      <td>2019</td>\n",
       "      <td>Virginia</td>\n",
       "      <td>7.34</td>\n",
       "      <td>7.34</td>\n",
       "      <td>255.657</td>\n",
       "    </tr>\n",
       "    <tr>\n",
       "      <th>536</th>\n",
       "      <td>2019</td>\n",
       "      <td>Washington</td>\n",
       "      <td>13.66</td>\n",
       "      <td>7.34</td>\n",
       "      <td>255.657</td>\n",
       "    </tr>\n",
       "    <tr>\n",
       "      <th>537</th>\n",
       "      <td>2019</td>\n",
       "      <td>West Virginia</td>\n",
       "      <td>8.85</td>\n",
       "      <td>7.34</td>\n",
       "      <td>255.657</td>\n",
       "    </tr>\n",
       "    <tr>\n",
       "      <th>538</th>\n",
       "      <td>2019</td>\n",
       "      <td>Wisconsin</td>\n",
       "      <td>7.34</td>\n",
       "      <td>7.34</td>\n",
       "      <td>255.657</td>\n",
       "    </tr>\n",
       "    <tr>\n",
       "      <th>539</th>\n",
       "      <td>2019</td>\n",
       "      <td>Wyoming</td>\n",
       "      <td>5.21</td>\n",
       "      <td>7.34</td>\n",
       "      <td>255.657</td>\n",
       "    </tr>\n",
       "  </tbody>\n",
       "</table>\n",
       "<p>540 rows × 5 columns</p>\n",
       "</div>"
      ],
      "text/plain": [
       "     year          state  min_wage_state  min_wage_federal  cpi_average\n",
       "0    2010        Alabama            0.00              8.60      218.056\n",
       "1    2010         Alaska            9.19              8.60      218.056\n",
       "2    2010        Arizona            8.60              8.60      218.056\n",
       "3    2010       Arkansas            7.41              8.60      218.056\n",
       "4    2010     California            9.49              8.60      218.056\n",
       "..    ...            ...             ...               ...          ...\n",
       "535  2019       Virginia            7.34              7.34      255.657\n",
       "536  2019     Washington           13.66              7.34      255.657\n",
       "537  2019  West Virginia            8.85              7.34      255.657\n",
       "538  2019      Wisconsin            7.34              7.34      255.657\n",
       "539  2019        Wyoming            5.21              7.34      255.657\n",
       "\n",
       "[540 rows x 5 columns]"
      ]
     },
     "execution_count": 6,
     "metadata": {},
     "output_type": "execute_result"
    }
   ],
   "source": [
    "# minimum TRANSFORMATION\n",
    "columns_to_drop = ['State.Minimum.Wage',\"Federal.Minimum.Wage\", \"Effective.Minimum.Wage\",\"Effective.Minimum.Wage.2020.Dollars\", \"Department.Of.Labor.Uncleaned.Data\",\"Department.Of.Labor.Cleaned.Low.Value\", \"Department.Of.Labor.Cleaned.Low.Value.2020.Dollars\", \"Department.Of.Labor.Cleaned.High.Value\", \"Department.Of.Labor.Cleaned.High.Value.2020.Dollars\",\"Footnote\" ]\n",
    "min_wage = min_wage.drop(*columns_to_drop)\n",
    "min_wage = min_wage.filter((min_wage.Year == 2019) | (min_wage.Year == 2018) | (min_wage.Year == 2017) | (min_wage.Year == 2016) | (min_wage.Year == 2015) | (min_wage.Year == 2014) | (min_wage.Year == 2013) | (min_wage.Year == 2012) | (min_wage.Year == 2011) | (min_wage.Year == 2010))\n",
    "min_wage = min_wage.withColumnRenamed(\"Year\",\"year\")\n",
    "min_wage = min_wage.withColumnRenamed(\"State\",\"state\")\n",
    "min_wage = min_wage.withColumnRenamed(\"State.Minimum.Wage.2020.Dollars\",\"min_wage_state\")\n",
    "min_wage = min_wage.withColumnRenamed(\"Federal.Minimum.Wage.2020.Dollars\",\"min_wage_federal\")\n",
    "min_wage = min_wage.withColumnRenamed(\"CPI.Average\",\"cpi_average\")\n",
    "min_wage.toPandas()"
   ]
  },
  {
   "cell_type": "code",
   "execution_count": 7,
   "id": "954b904d",
   "metadata": {},
   "outputs": [
    {
     "data": {
      "text/html": [
       "<div>\n",
       "<style scoped>\n",
       "    .dataframe tbody tr th:only-of-type {\n",
       "        vertical-align: middle;\n",
       "    }\n",
       "\n",
       "    .dataframe tbody tr th {\n",
       "        vertical-align: top;\n",
       "    }\n",
       "\n",
       "    .dataframe thead th {\n",
       "        text-align: right;\n",
       "    }\n",
       "</style>\n",
       "<table border=\"1\" class=\"dataframe\">\n",
       "  <thead>\n",
       "    <tr style=\"text-align: right;\">\n",
       "      <th></th>\n",
       "      <th>year</th>\n",
       "      <th>state</th>\n",
       "      <th>employable_pop</th>\n",
       "      <th>employed</th>\n",
       "      <th>unemployed</th>\n",
       "    </tr>\n",
       "  </thead>\n",
       "  <tbody>\n",
       "    <tr>\n",
       "      <th>0</th>\n",
       "      <td>2010</td>\n",
       "      <td>Alabama</td>\n",
       "      <td>2195945</td>\n",
       "      <td>1964694</td>\n",
       "      <td>231250</td>\n",
       "    </tr>\n",
       "    <tr>\n",
       "      <th>1</th>\n",
       "      <td>2010</td>\n",
       "      <td>Alaska</td>\n",
       "      <td>361908</td>\n",
       "      <td>333426</td>\n",
       "      <td>28482</td>\n",
       "    </tr>\n",
       "    <tr>\n",
       "      <th>2</th>\n",
       "      <td>2010</td>\n",
       "      <td>Arizona</td>\n",
       "      <td>3089339</td>\n",
       "      <td>2769378</td>\n",
       "      <td>319960</td>\n",
       "    </tr>\n",
       "    <tr>\n",
       "      <th>3</th>\n",
       "      <td>2010</td>\n",
       "      <td>Arkansas</td>\n",
       "      <td>1353665</td>\n",
       "      <td>1242720</td>\n",
       "      <td>110945</td>\n",
       "    </tr>\n",
       "    <tr>\n",
       "      <th>4</th>\n",
       "      <td>2010</td>\n",
       "      <td>California</td>\n",
       "      <td>18332666</td>\n",
       "      <td>16092953</td>\n",
       "      <td>2239712</td>\n",
       "    </tr>\n",
       "    <tr>\n",
       "      <th>...</th>\n",
       "      <td>...</td>\n",
       "      <td>...</td>\n",
       "      <td>...</td>\n",
       "      <td>...</td>\n",
       "      <td>...</td>\n",
       "    </tr>\n",
       "    <tr>\n",
       "      <th>505</th>\n",
       "      <td>2019</td>\n",
       "      <td>Virginia</td>\n",
       "      <td>4410199</td>\n",
       "      <td>4287146</td>\n",
       "      <td>123053</td>\n",
       "    </tr>\n",
       "    <tr>\n",
       "      <th>506</th>\n",
       "      <td>2019</td>\n",
       "      <td>Washington</td>\n",
       "      <td>3912666</td>\n",
       "      <td>3745751</td>\n",
       "      <td>166915</td>\n",
       "    </tr>\n",
       "    <tr>\n",
       "      <th>507</th>\n",
       "      <td>2019</td>\n",
       "      <td>West Virginia</td>\n",
       "      <td>796610</td>\n",
       "      <td>757690</td>\n",
       "      <td>38920</td>\n",
       "    </tr>\n",
       "    <tr>\n",
       "      <th>508</th>\n",
       "      <td>2019</td>\n",
       "      <td>Wisconsin</td>\n",
       "      <td>3104883</td>\n",
       "      <td>3001178</td>\n",
       "      <td>103705</td>\n",
       "    </tr>\n",
       "    <tr>\n",
       "      <th>509</th>\n",
       "      <td>2019</td>\n",
       "      <td>Wyoming</td>\n",
       "      <td>292308</td>\n",
       "      <td>281754</td>\n",
       "      <td>10553</td>\n",
       "    </tr>\n",
       "  </tbody>\n",
       "</table>\n",
       "<p>510 rows × 5 columns</p>\n",
       "</div>"
      ],
      "text/plain": [
       "     year          state  employable_pop  employed  unemployed\n",
       "0    2010        Alabama         2195945   1964694      231250\n",
       "1    2010         Alaska          361908    333426       28482\n",
       "2    2010        Arizona         3089339   2769378      319960\n",
       "3    2010       Arkansas         1353665   1242720      110945\n",
       "4    2010     California        18332666  16092953     2239712\n",
       "..    ...            ...             ...       ...         ...\n",
       "505  2019       Virginia         4410199   4287146      123053\n",
       "506  2019     Washington         3912666   3745751      166915\n",
       "507  2019  West Virginia          796610    757690       38920\n",
       "508  2019      Wisconsin         3104883   3001178      103705\n",
       "509  2019        Wyoming          292308    281754       10553\n",
       "\n",
       "[510 rows x 5 columns]"
      ]
     },
     "execution_count": 7,
     "metadata": {},
     "output_type": "execute_result"
    }
   ],
   "source": [
    "# Groupby data and get yearly average by month, cast as integer and rename output column with alias\n",
    "ep = unemployment.groupBy(\"Year\",\"FIPS\", \"State\") \\\n",
    "    .agg((avg(\"Employable Population\").cast('integer')).alias('employable_pop'))\n",
    "\n",
    "e = unemployment.groupBy(\"Year\", \"FIPS\", \"State\") \\\n",
    "    .agg((avg(\"Employed\").cast('integer')).alias('employed'))\n",
    "\n",
    "u = unemployment.groupBy(\"Year\", \"FIPS\", \"State\") \\\n",
    "    .agg((avg(\"Unemployed\").cast('integer')).alias('unemployed')) \n",
    "\n",
    "#Join employable and employed data by Year, FIPS and State\n",
    "join1 = ep.join(e, (ep.Year == e.Year) & (ep.FIPS == e.FIPS) & (ep.State == e.State), \"inner\").select(ep.Year, ep.FIPS, ep.State, ep.employable_pop, e.employed)\n",
    "\n",
    "#Join join1(last join with employable and employed data) and unemployed\n",
    "join2 = join1.join(u, (join1.Year == u.Year) & (join1.FIPS == u.FIPS) & (join1.State == u.State), \"inner\").select(join1.Year, join1.FIPS, join1.State, join1.employable_pop, join1.employed, u.unemployed)\n",
    "\n",
    "#Lower case year and state columns, order data by FIPS and State and drop FIPS since it's not necessary\n",
    "cols = [\"year\", \"FIPS\"]\n",
    "unemployment = join2.withColumnRenamed(\"Year\", \"year\") \\\n",
    "               .withColumnRenamed(\"State\", \"state\") \\\n",
    "               .orderBy(*cols, ascending=True) \\\n",
    "               .drop(\"FIPS\")\n",
    "unemployment = unemployment.filter((unemployment.year == 2019) | (unemployment.year == 2018) | (unemployment.year == 2017) | (unemployment.year == 2016) | (unemployment.year == 2015) | (unemployment.year == 2014) | (unemployment.year == 2013) | (unemployment.year == 2012) | (unemployment.year == 2011) | (unemployment.year == 2010))\n",
    "unemployment.toPandas()"
   ]
  },
  {
   "cell_type": "code",
   "execution_count": 8,
   "id": "4c1d66cc",
   "metadata": {},
   "outputs": [
    {
     "data": {
      "text/html": [
       "<div>\n",
       "<style scoped>\n",
       "    .dataframe tbody tr th:only-of-type {\n",
       "        vertical-align: middle;\n",
       "    }\n",
       "\n",
       "    .dataframe tbody tr th {\n",
       "        vertical-align: top;\n",
       "    }\n",
       "\n",
       "    .dataframe thead th {\n",
       "        text-align: right;\n",
       "    }\n",
       "</style>\n",
       "<table border=\"1\" class=\"dataframe\">\n",
       "  <thead>\n",
       "    <tr style=\"text-align: right;\">\n",
       "      <th></th>\n",
       "      <th>year</th>\n",
       "      <th>state</th>\n",
       "      <th>min_wage_state</th>\n",
       "      <th>min_wage_federal</th>\n",
       "      <th>cpi_average</th>\n",
       "      <th>gdp_state</th>\n",
       "    </tr>\n",
       "  </thead>\n",
       "  <tbody>\n",
       "    <tr>\n",
       "      <th>0</th>\n",
       "      <td>2010</td>\n",
       "      <td>Alabama</td>\n",
       "      <td>0.00</td>\n",
       "      <td>8.60</td>\n",
       "      <td>218.056</td>\n",
       "      <td>1.754701e+05</td>\n",
       "    </tr>\n",
       "    <tr>\n",
       "      <th>1</th>\n",
       "      <td>2010</td>\n",
       "      <td>Alaska</td>\n",
       "      <td>9.19</td>\n",
       "      <td>8.60</td>\n",
       "      <td>218.056</td>\n",
       "      <td>5.294770e+04</td>\n",
       "    </tr>\n",
       "    <tr>\n",
       "      <th>2</th>\n",
       "      <td>2010</td>\n",
       "      <td>Arizona</td>\n",
       "      <td>8.60</td>\n",
       "      <td>8.60</td>\n",
       "      <td>218.056</td>\n",
       "      <td>2.481253e+05</td>\n",
       "    </tr>\n",
       "    <tr>\n",
       "      <th>3</th>\n",
       "      <td>2010</td>\n",
       "      <td>Arkansas</td>\n",
       "      <td>7.41</td>\n",
       "      <td>8.60</td>\n",
       "      <td>218.056</td>\n",
       "      <td>1.009708e+05</td>\n",
       "    </tr>\n",
       "    <tr>\n",
       "      <th>4</th>\n",
       "      <td>2010</td>\n",
       "      <td>California</td>\n",
       "      <td>9.49</td>\n",
       "      <td>8.60</td>\n",
       "      <td>218.056</td>\n",
       "      <td>1.973512e+06</td>\n",
       "    </tr>\n",
       "    <tr>\n",
       "      <th>...</th>\n",
       "      <td>...</td>\n",
       "      <td>...</td>\n",
       "      <td>...</td>\n",
       "      <td>...</td>\n",
       "      <td>...</td>\n",
       "      <td>...</td>\n",
       "    </tr>\n",
       "    <tr>\n",
       "      <th>495</th>\n",
       "      <td>2019</td>\n",
       "      <td>Virginia</td>\n",
       "      <td>7.34</td>\n",
       "      <td>7.34</td>\n",
       "      <td>255.657</td>\n",
       "      <td>5.569052e+05</td>\n",
       "    </tr>\n",
       "    <tr>\n",
       "      <th>496</th>\n",
       "      <td>2019</td>\n",
       "      <td>Washington</td>\n",
       "      <td>13.66</td>\n",
       "      <td>7.34</td>\n",
       "      <td>255.657</td>\n",
       "      <td>6.129965e+05</td>\n",
       "    </tr>\n",
       "    <tr>\n",
       "      <th>497</th>\n",
       "      <td>2019</td>\n",
       "      <td>West Virginia</td>\n",
       "      <td>8.85</td>\n",
       "      <td>7.34</td>\n",
       "      <td>255.657</td>\n",
       "      <td>7.886390e+04</td>\n",
       "    </tr>\n",
       "    <tr>\n",
       "      <th>498</th>\n",
       "      <td>2019</td>\n",
       "      <td>Wisconsin</td>\n",
       "      <td>7.34</td>\n",
       "      <td>7.34</td>\n",
       "      <td>255.657</td>\n",
       "      <td>3.494165e+05</td>\n",
       "    </tr>\n",
       "    <tr>\n",
       "      <th>499</th>\n",
       "      <td>2019</td>\n",
       "      <td>Wyoming</td>\n",
       "      <td>5.21</td>\n",
       "      <td>7.34</td>\n",
       "      <td>255.657</td>\n",
       "      <td>4.042010e+04</td>\n",
       "    </tr>\n",
       "  </tbody>\n",
       "</table>\n",
       "<p>500 rows × 6 columns</p>\n",
       "</div>"
      ],
      "text/plain": [
       "     year          state  min_wage_state  min_wage_federal  cpi_average  \\\n",
       "0    2010        Alabama            0.00              8.60      218.056   \n",
       "1    2010         Alaska            9.19              8.60      218.056   \n",
       "2    2010        Arizona            8.60              8.60      218.056   \n",
       "3    2010       Arkansas            7.41              8.60      218.056   \n",
       "4    2010     California            9.49              8.60      218.056   \n",
       "..    ...            ...             ...               ...          ...   \n",
       "495  2019       Virginia            7.34              7.34      255.657   \n",
       "496  2019     Washington           13.66              7.34      255.657   \n",
       "497  2019  West Virginia            8.85              7.34      255.657   \n",
       "498  2019      Wisconsin            7.34              7.34      255.657   \n",
       "499  2019        Wyoming            5.21              7.34      255.657   \n",
       "\n",
       "        gdp_state  \n",
       "0    1.754701e+05  \n",
       "1    5.294770e+04  \n",
       "2    2.481253e+05  \n",
       "3    1.009708e+05  \n",
       "4    1.973512e+06  \n",
       "..            ...  \n",
       "495  5.569052e+05  \n",
       "496  6.129965e+05  \n",
       "497  7.886390e+04  \n",
       "498  3.494165e+05  \n",
       "499  4.042010e+04  \n",
       "\n",
       "[500 rows x 6 columns]"
      ]
     },
     "execution_count": 8,
     "metadata": {},
     "output_type": "execute_result"
    }
   ],
   "source": [
    "join1 = min_wage.join(gdp, (min_wage.year == gdp.year) & (min_wage.state == gdp.state), \"inner\").select(min_wage.year, min_wage.state, min_wage.min_wage_state, min_wage.min_wage_federal, min_wage.cpi_average, gdp.gdp_state)\n",
    "join1.toPandas()"
   ]
  },
  {
   "cell_type": "code",
   "execution_count": 9,
   "id": "ef8e033f",
   "metadata": {},
   "outputs": [
    {
     "data": {
      "text/html": [
       "<div>\n",
       "<style scoped>\n",
       "    .dataframe tbody tr th:only-of-type {\n",
       "        vertical-align: middle;\n",
       "    }\n",
       "\n",
       "    .dataframe tbody tr th {\n",
       "        vertical-align: top;\n",
       "    }\n",
       "\n",
       "    .dataframe thead th {\n",
       "        text-align: right;\n",
       "    }\n",
       "</style>\n",
       "<table border=\"1\" class=\"dataframe\">\n",
       "  <thead>\n",
       "    <tr style=\"text-align: right;\">\n",
       "      <th></th>\n",
       "      <th>year</th>\n",
       "      <th>state</th>\n",
       "      <th>min_wage_state</th>\n",
       "      <th>min_wage_federal</th>\n",
       "      <th>cpi_average</th>\n",
       "      <th>gdp_state</th>\n",
       "      <th>employable_pop</th>\n",
       "      <th>employed</th>\n",
       "      <th>unemployed</th>\n",
       "    </tr>\n",
       "  </thead>\n",
       "  <tbody>\n",
       "    <tr>\n",
       "      <th>0</th>\n",
       "      <td>2014</td>\n",
       "      <td>New York</td>\n",
       "      <td>8.74</td>\n",
       "      <td>7.92</td>\n",
       "      <td>236.736</td>\n",
       "      <td>1.425724e+06</td>\n",
       "      <td>9530364</td>\n",
       "      <td>8926771</td>\n",
       "      <td>603592</td>\n",
       "    </tr>\n",
       "    <tr>\n",
       "      <th>1</th>\n",
       "      <td>2014</td>\n",
       "      <td>Ohio</td>\n",
       "      <td>7.92</td>\n",
       "      <td>7.92</td>\n",
       "      <td>236.736</td>\n",
       "      <td>5.928762e+05</td>\n",
       "      <td>5703982</td>\n",
       "      <td>5372798</td>\n",
       "      <td>331184</td>\n",
       "    </tr>\n",
       "    <tr>\n",
       "      <th>2</th>\n",
       "      <td>2019</td>\n",
       "      <td>Arkansas</td>\n",
       "      <td>9.36</td>\n",
       "      <td>7.34</td>\n",
       "      <td>255.657</td>\n",
       "      <td>1.309541e+05</td>\n",
       "      <td>1362321</td>\n",
       "      <td>1313944</td>\n",
       "      <td>48376</td>\n",
       "    </tr>\n",
       "    <tr>\n",
       "      <th>3</th>\n",
       "      <td>2019</td>\n",
       "      <td>Oregon</td>\n",
       "      <td>11.38</td>\n",
       "      <td>7.34</td>\n",
       "      <td>255.657</td>\n",
       "      <td>2.536232e+05</td>\n",
       "      <td>2103961</td>\n",
       "      <td>2024751</td>\n",
       "      <td>79209</td>\n",
       "    </tr>\n",
       "    <tr>\n",
       "      <th>4</th>\n",
       "      <td>2019</td>\n",
       "      <td>Virginia</td>\n",
       "      <td>7.34</td>\n",
       "      <td>7.34</td>\n",
       "      <td>255.657</td>\n",
       "      <td>5.569052e+05</td>\n",
       "      <td>4410199</td>\n",
       "      <td>4287146</td>\n",
       "      <td>123053</td>\n",
       "    </tr>\n",
       "    <tr>\n",
       "      <th>...</th>\n",
       "      <td>...</td>\n",
       "      <td>...</td>\n",
       "      <td>...</td>\n",
       "      <td>...</td>\n",
       "      <td>...</td>\n",
       "      <td>...</td>\n",
       "      <td>...</td>\n",
       "      <td>...</td>\n",
       "      <td>...</td>\n",
       "    </tr>\n",
       "    <tr>\n",
       "      <th>495</th>\n",
       "      <td>2014</td>\n",
       "      <td>Kentucky</td>\n",
       "      <td>7.92</td>\n",
       "      <td>7.92</td>\n",
       "      <td>236.736</td>\n",
       "      <td>1.864190e+05</td>\n",
       "      <td>2006420</td>\n",
       "      <td>1876914</td>\n",
       "      <td>129505</td>\n",
       "    </tr>\n",
       "    <tr>\n",
       "      <th>496</th>\n",
       "      <td>2017</td>\n",
       "      <td>Texas</td>\n",
       "      <td>7.65</td>\n",
       "      <td>7.65</td>\n",
       "      <td>245.120</td>\n",
       "      <td>1.665428e+06</td>\n",
       "      <td>13574954</td>\n",
       "      <td>12990073</td>\n",
       "      <td>584881</td>\n",
       "    </tr>\n",
       "    <tr>\n",
       "      <th>497</th>\n",
       "      <td>2018</td>\n",
       "      <td>Wisconsin</td>\n",
       "      <td>7.47</td>\n",
       "      <td>7.47</td>\n",
       "      <td>251.107</td>\n",
       "      <td>3.375531e+05</td>\n",
       "      <td>3118346</td>\n",
       "      <td>3024648</td>\n",
       "      <td>93698</td>\n",
       "    </tr>\n",
       "    <tr>\n",
       "      <th>498</th>\n",
       "      <td>2019</td>\n",
       "      <td>Arizona</td>\n",
       "      <td>12.14</td>\n",
       "      <td>7.34</td>\n",
       "      <td>255.657</td>\n",
       "      <td>3.701191e+05</td>\n",
       "      <td>3548826</td>\n",
       "      <td>3381846</td>\n",
       "      <td>166979</td>\n",
       "    </tr>\n",
       "    <tr>\n",
       "      <th>499</th>\n",
       "      <td>2010</td>\n",
       "      <td>Oregon</td>\n",
       "      <td>9.96</td>\n",
       "      <td>8.60</td>\n",
       "      <td>218.056</td>\n",
       "      <td>1.638270e+05</td>\n",
       "      <td>1983564</td>\n",
       "      <td>1773242</td>\n",
       "      <td>210321</td>\n",
       "    </tr>\n",
       "  </tbody>\n",
       "</table>\n",
       "<p>500 rows × 9 columns</p>\n",
       "</div>"
      ],
      "text/plain": [
       "     year      state  min_wage_state  min_wage_federal  cpi_average  \\\n",
       "0    2014   New York            8.74              7.92      236.736   \n",
       "1    2014       Ohio            7.92              7.92      236.736   \n",
       "2    2019   Arkansas            9.36              7.34      255.657   \n",
       "3    2019     Oregon           11.38              7.34      255.657   \n",
       "4    2019   Virginia            7.34              7.34      255.657   \n",
       "..    ...        ...             ...               ...          ...   \n",
       "495  2014   Kentucky            7.92              7.92      236.736   \n",
       "496  2017      Texas            7.65              7.65      245.120   \n",
       "497  2018  Wisconsin            7.47              7.47      251.107   \n",
       "498  2019    Arizona           12.14              7.34      255.657   \n",
       "499  2010     Oregon            9.96              8.60      218.056   \n",
       "\n",
       "        gdp_state  employable_pop  employed  unemployed  \n",
       "0    1.425724e+06         9530364   8926771      603592  \n",
       "1    5.928762e+05         5703982   5372798      331184  \n",
       "2    1.309541e+05         1362321   1313944       48376  \n",
       "3    2.536232e+05         2103961   2024751       79209  \n",
       "4    5.569052e+05         4410199   4287146      123053  \n",
       "..            ...             ...       ...         ...  \n",
       "495  1.864190e+05         2006420   1876914      129505  \n",
       "496  1.665428e+06        13574954  12990073      584881  \n",
       "497  3.375531e+05         3118346   3024648       93698  \n",
       "498  3.701191e+05         3548826   3381846      166979  \n",
       "499  1.638270e+05         1983564   1773242      210321  \n",
       "\n",
       "[500 rows x 9 columns]"
      ]
     },
     "execution_count": 9,
     "metadata": {},
     "output_type": "execute_result"
    }
   ],
   "source": [
    "join2 = join1.join(unemployment, (join1.year == unemployment.year) & (join1.state == unemployment.state), \"inner\").select(join1.year, join1.state, join1.min_wage_state, join1.min_wage_federal, join1.cpi_average, join1.gdp_state, unemployment.employable_pop , unemployment.employed ,unemployment.unemployed)\n",
    "join2.toPandas()"
   ]
  },
  {
   "cell_type": "code",
   "execution_count": 10,
   "id": "a94fb589",
   "metadata": {},
   "outputs": [
    {
     "data": {
      "text/html": [
       "<div>\n",
       "<style scoped>\n",
       "    .dataframe tbody tr th:only-of-type {\n",
       "        vertical-align: middle;\n",
       "    }\n",
       "\n",
       "    .dataframe tbody tr th {\n",
       "        vertical-align: top;\n",
       "    }\n",
       "\n",
       "    .dataframe thead th {\n",
       "        text-align: right;\n",
       "    }\n",
       "</style>\n",
       "<table border=\"1\" class=\"dataframe\">\n",
       "  <thead>\n",
       "    <tr style=\"text-align: right;\">\n",
       "      <th></th>\n",
       "      <th>year</th>\n",
       "      <th>state</th>\n",
       "      <th>min_wage_state</th>\n",
       "      <th>min_wage_federal</th>\n",
       "      <th>cpi_average</th>\n",
       "      <th>gdp_state</th>\n",
       "      <th>employable_pop</th>\n",
       "      <th>employed</th>\n",
       "      <th>unemployed</th>\n",
       "      <th>household_median_income</th>\n",
       "    </tr>\n",
       "  </thead>\n",
       "  <tbody>\n",
       "    <tr>\n",
       "      <th>0</th>\n",
       "      <td>2014</td>\n",
       "      <td>New York</td>\n",
       "      <td>8.74</td>\n",
       "      <td>7.92</td>\n",
       "      <td>236.736</td>\n",
       "      <td>1.425724e+06</td>\n",
       "      <td>9530364</td>\n",
       "      <td>8926771</td>\n",
       "      <td>603592</td>\n",
       "      <td>56,290</td>\n",
       "    </tr>\n",
       "    <tr>\n",
       "      <th>1</th>\n",
       "      <td>2014</td>\n",
       "      <td>Ohio</td>\n",
       "      <td>7.92</td>\n",
       "      <td>7.92</td>\n",
       "      <td>236.736</td>\n",
       "      <td>5.928762e+05</td>\n",
       "      <td>5703982</td>\n",
       "      <td>5372798</td>\n",
       "      <td>331184</td>\n",
       "      <td>51,454</td>\n",
       "    </tr>\n",
       "    <tr>\n",
       "      <th>2</th>\n",
       "      <td>2019</td>\n",
       "      <td>Arkansas</td>\n",
       "      <td>9.36</td>\n",
       "      <td>7.34</td>\n",
       "      <td>255.657</td>\n",
       "      <td>1.309541e+05</td>\n",
       "      <td>1362321</td>\n",
       "      <td>1313944</td>\n",
       "      <td>48376</td>\n",
       "      <td>None</td>\n",
       "    </tr>\n",
       "    <tr>\n",
       "      <th>3</th>\n",
       "      <td>2019</td>\n",
       "      <td>Oregon</td>\n",
       "      <td>11.38</td>\n",
       "      <td>7.34</td>\n",
       "      <td>255.657</td>\n",
       "      <td>2.536232e+05</td>\n",
       "      <td>2103961</td>\n",
       "      <td>2024751</td>\n",
       "      <td>79209</td>\n",
       "      <td>None</td>\n",
       "    </tr>\n",
       "    <tr>\n",
       "      <th>4</th>\n",
       "      <td>2019</td>\n",
       "      <td>Virginia</td>\n",
       "      <td>7.34</td>\n",
       "      <td>7.34</td>\n",
       "      <td>255.657</td>\n",
       "      <td>5.569052e+05</td>\n",
       "      <td>4410199</td>\n",
       "      <td>4287146</td>\n",
       "      <td>123053</td>\n",
       "      <td>None</td>\n",
       "    </tr>\n",
       "    <tr>\n",
       "      <th>...</th>\n",
       "      <td>...</td>\n",
       "      <td>...</td>\n",
       "      <td>...</td>\n",
       "      <td>...</td>\n",
       "      <td>...</td>\n",
       "      <td>...</td>\n",
       "      <td>...</td>\n",
       "      <td>...</td>\n",
       "      <td>...</td>\n",
       "      <td>...</td>\n",
       "    </tr>\n",
       "    <tr>\n",
       "      <th>495</th>\n",
       "      <td>2014</td>\n",
       "      <td>Kentucky</td>\n",
       "      <td>7.92</td>\n",
       "      <td>7.92</td>\n",
       "      <td>236.736</td>\n",
       "      <td>1.864190e+05</td>\n",
       "      <td>2006420</td>\n",
       "      <td>1876914</td>\n",
       "      <td>129505</td>\n",
       "      <td>44,346</td>\n",
       "    </tr>\n",
       "    <tr>\n",
       "      <th>496</th>\n",
       "      <td>2017</td>\n",
       "      <td>Texas</td>\n",
       "      <td>7.65</td>\n",
       "      <td>7.65</td>\n",
       "      <td>245.120</td>\n",
       "      <td>1.665428e+06</td>\n",
       "      <td>13574954</td>\n",
       "      <td>12990073</td>\n",
       "      <td>584881</td>\n",
       "      <td>59,295</td>\n",
       "    </tr>\n",
       "    <tr>\n",
       "      <th>497</th>\n",
       "      <td>2018</td>\n",
       "      <td>Wisconsin</td>\n",
       "      <td>7.47</td>\n",
       "      <td>7.47</td>\n",
       "      <td>251.107</td>\n",
       "      <td>3.375531e+05</td>\n",
       "      <td>3118346</td>\n",
       "      <td>3024648</td>\n",
       "      <td>93698</td>\n",
       "      <td>None</td>\n",
       "    </tr>\n",
       "    <tr>\n",
       "      <th>498</th>\n",
       "      <td>2019</td>\n",
       "      <td>Arizona</td>\n",
       "      <td>12.14</td>\n",
       "      <td>7.34</td>\n",
       "      <td>255.657</td>\n",
       "      <td>3.701191e+05</td>\n",
       "      <td>3548826</td>\n",
       "      <td>3381846</td>\n",
       "      <td>166979</td>\n",
       "      <td>None</td>\n",
       "    </tr>\n",
       "    <tr>\n",
       "      <th>499</th>\n",
       "      <td>2010</td>\n",
       "      <td>Oregon</td>\n",
       "      <td>9.96</td>\n",
       "      <td>8.60</td>\n",
       "      <td>218.056</td>\n",
       "      <td>1.638270e+05</td>\n",
       "      <td>1983564</td>\n",
       "      <td>1773242</td>\n",
       "      <td>210321</td>\n",
       "      <td>57,014</td>\n",
       "    </tr>\n",
       "  </tbody>\n",
       "</table>\n",
       "<p>500 rows × 10 columns</p>\n",
       "</div>"
      ],
      "text/plain": [
       "     year      state  min_wage_state  min_wage_federal  cpi_average  \\\n",
       "0    2014   New York            8.74              7.92      236.736   \n",
       "1    2014       Ohio            7.92              7.92      236.736   \n",
       "2    2019   Arkansas            9.36              7.34      255.657   \n",
       "3    2019     Oregon           11.38              7.34      255.657   \n",
       "4    2019   Virginia            7.34              7.34      255.657   \n",
       "..    ...        ...             ...               ...          ...   \n",
       "495  2014   Kentucky            7.92              7.92      236.736   \n",
       "496  2017      Texas            7.65              7.65      245.120   \n",
       "497  2018  Wisconsin            7.47              7.47      251.107   \n",
       "498  2019    Arizona           12.14              7.34      255.657   \n",
       "499  2010     Oregon            9.96              8.60      218.056   \n",
       "\n",
       "        gdp_state  employable_pop  employed  unemployed  \\\n",
       "0    1.425724e+06         9530364   8926771      603592   \n",
       "1    5.928762e+05         5703982   5372798      331184   \n",
       "2    1.309541e+05         1362321   1313944       48376   \n",
       "3    2.536232e+05         2103961   2024751       79209   \n",
       "4    5.569052e+05         4410199   4287146      123053   \n",
       "..            ...             ...       ...         ...   \n",
       "495  1.864190e+05         2006420   1876914      129505   \n",
       "496  1.665428e+06        13574954  12990073      584881   \n",
       "497  3.375531e+05         3118346   3024648       93698   \n",
       "498  3.701191e+05         3548826   3381846      166979   \n",
       "499  1.638270e+05         1983564   1773242      210321   \n",
       "\n",
       "    household_median_income  \n",
       "0                    56,290  \n",
       "1                    51,454  \n",
       "2                      None  \n",
       "3                      None  \n",
       "4                      None  \n",
       "..                      ...  \n",
       "495                  44,346  \n",
       "496                  59,295  \n",
       "497                    None  \n",
       "498                    None  \n",
       "499                  57,014  \n",
       "\n",
       "[500 rows x 10 columns]"
      ]
     },
     "execution_count": 10,
     "metadata": {},
     "output_type": "execute_result"
    }
   ],
   "source": [
    "join3 = join2.join(median_income, (join2.year == median_income.year) & (join2.state == median_income.state), \"left_outer\").select(join2.year, join2.state, join2.min_wage_state, join2.min_wage_federal, join2.cpi_average, join2.gdp_state, join2.employable_pop , join2.employed ,join2.unemployed, median_income.household_median_income)\n",
    "join3.toPandas()"
   ]
  },
  {
   "cell_type": "code",
   "execution_count": 11,
   "id": "c4609619",
   "metadata": {},
   "outputs": [
    {
     "data": {
      "text/html": [
       "<div>\n",
       "<style scoped>\n",
       "    .dataframe tbody tr th:only-of-type {\n",
       "        vertical-align: middle;\n",
       "    }\n",
       "\n",
       "    .dataframe tbody tr th {\n",
       "        vertical-align: top;\n",
       "    }\n",
       "\n",
       "    .dataframe thead th {\n",
       "        text-align: right;\n",
       "    }\n",
       "</style>\n",
       "<table border=\"1\" class=\"dataframe\">\n",
       "  <thead>\n",
       "    <tr style=\"text-align: right;\">\n",
       "      <th></th>\n",
       "      <th>year</th>\n",
       "      <th>state</th>\n",
       "      <th>min_wage_state</th>\n",
       "      <th>min_wage_federal</th>\n",
       "      <th>cpi_average</th>\n",
       "      <th>gdp_state</th>\n",
       "      <th>employable_pop</th>\n",
       "      <th>employed</th>\n",
       "      <th>unemployed</th>\n",
       "      <th>household_median_income</th>\n",
       "    </tr>\n",
       "  </thead>\n",
       "  <tbody>\n",
       "    <tr>\n",
       "      <th>0</th>\n",
       "      <td>2014</td>\n",
       "      <td>New York</td>\n",
       "      <td>8.74</td>\n",
       "      <td>7.92</td>\n",
       "      <td>236.736</td>\n",
       "      <td>1.425724e+06</td>\n",
       "      <td>9530364</td>\n",
       "      <td>8926771</td>\n",
       "      <td>603592</td>\n",
       "      <td>56,290</td>\n",
       "    </tr>\n",
       "    <tr>\n",
       "      <th>1</th>\n",
       "      <td>2014</td>\n",
       "      <td>Ohio</td>\n",
       "      <td>7.92</td>\n",
       "      <td>7.92</td>\n",
       "      <td>236.736</td>\n",
       "      <td>5.928762e+05</td>\n",
       "      <td>5703982</td>\n",
       "      <td>5372798</td>\n",
       "      <td>331184</td>\n",
       "      <td>51,454</td>\n",
       "    </tr>\n",
       "    <tr>\n",
       "      <th>2</th>\n",
       "      <td>2019</td>\n",
       "      <td>Arkansas</td>\n",
       "      <td>9.36</td>\n",
       "      <td>7.34</td>\n",
       "      <td>255.657</td>\n",
       "      <td>1.309541e+05</td>\n",
       "      <td>1362321</td>\n",
       "      <td>1313944</td>\n",
       "      <td>48376</td>\n",
       "      <td>None</td>\n",
       "    </tr>\n",
       "    <tr>\n",
       "      <th>3</th>\n",
       "      <td>2019</td>\n",
       "      <td>Oregon</td>\n",
       "      <td>11.38</td>\n",
       "      <td>7.34</td>\n",
       "      <td>255.657</td>\n",
       "      <td>2.536232e+05</td>\n",
       "      <td>2103961</td>\n",
       "      <td>2024751</td>\n",
       "      <td>79209</td>\n",
       "      <td>None</td>\n",
       "    </tr>\n",
       "    <tr>\n",
       "      <th>4</th>\n",
       "      <td>2019</td>\n",
       "      <td>Virginia</td>\n",
       "      <td>7.34</td>\n",
       "      <td>7.34</td>\n",
       "      <td>255.657</td>\n",
       "      <td>5.569052e+05</td>\n",
       "      <td>4410199</td>\n",
       "      <td>4287146</td>\n",
       "      <td>123053</td>\n",
       "      <td>None</td>\n",
       "    </tr>\n",
       "    <tr>\n",
       "      <th>...</th>\n",
       "      <td>...</td>\n",
       "      <td>...</td>\n",
       "      <td>...</td>\n",
       "      <td>...</td>\n",
       "      <td>...</td>\n",
       "      <td>...</td>\n",
       "      <td>...</td>\n",
       "      <td>...</td>\n",
       "      <td>...</td>\n",
       "      <td>...</td>\n",
       "    </tr>\n",
       "    <tr>\n",
       "      <th>495</th>\n",
       "      <td>2014</td>\n",
       "      <td>Kentucky</td>\n",
       "      <td>7.92</td>\n",
       "      <td>7.92</td>\n",
       "      <td>236.736</td>\n",
       "      <td>1.864190e+05</td>\n",
       "      <td>2006420</td>\n",
       "      <td>1876914</td>\n",
       "      <td>129505</td>\n",
       "      <td>44,346</td>\n",
       "    </tr>\n",
       "    <tr>\n",
       "      <th>496</th>\n",
       "      <td>2017</td>\n",
       "      <td>Texas</td>\n",
       "      <td>7.65</td>\n",
       "      <td>7.65</td>\n",
       "      <td>245.120</td>\n",
       "      <td>1.665428e+06</td>\n",
       "      <td>13574954</td>\n",
       "      <td>12990073</td>\n",
       "      <td>584881</td>\n",
       "      <td>59,295</td>\n",
       "    </tr>\n",
       "    <tr>\n",
       "      <th>497</th>\n",
       "      <td>2018</td>\n",
       "      <td>Wisconsin</td>\n",
       "      <td>7.47</td>\n",
       "      <td>7.47</td>\n",
       "      <td>251.107</td>\n",
       "      <td>3.375531e+05</td>\n",
       "      <td>3118346</td>\n",
       "      <td>3024648</td>\n",
       "      <td>93698</td>\n",
       "      <td>None</td>\n",
       "    </tr>\n",
       "    <tr>\n",
       "      <th>498</th>\n",
       "      <td>2019</td>\n",
       "      <td>Arizona</td>\n",
       "      <td>12.14</td>\n",
       "      <td>7.34</td>\n",
       "      <td>255.657</td>\n",
       "      <td>3.701191e+05</td>\n",
       "      <td>3548826</td>\n",
       "      <td>3381846</td>\n",
       "      <td>166979</td>\n",
       "      <td>None</td>\n",
       "    </tr>\n",
       "    <tr>\n",
       "      <th>499</th>\n",
       "      <td>2010</td>\n",
       "      <td>Oregon</td>\n",
       "      <td>9.96</td>\n",
       "      <td>8.60</td>\n",
       "      <td>218.056</td>\n",
       "      <td>1.638270e+05</td>\n",
       "      <td>1983564</td>\n",
       "      <td>1773242</td>\n",
       "      <td>210321</td>\n",
       "      <td>57,014</td>\n",
       "    </tr>\n",
       "  </tbody>\n",
       "</table>\n",
       "<p>500 rows × 10 columns</p>\n",
       "</div>"
      ],
      "text/plain": [
       "     year      state  min_wage_state  min_wage_federal  cpi_average  \\\n",
       "0    2014   New York            8.74              7.92      236.736   \n",
       "1    2014       Ohio            7.92              7.92      236.736   \n",
       "2    2019   Arkansas            9.36              7.34      255.657   \n",
       "3    2019     Oregon           11.38              7.34      255.657   \n",
       "4    2019   Virginia            7.34              7.34      255.657   \n",
       "..    ...        ...             ...               ...          ...   \n",
       "495  2014   Kentucky            7.92              7.92      236.736   \n",
       "496  2017      Texas            7.65              7.65      245.120   \n",
       "497  2018  Wisconsin            7.47              7.47      251.107   \n",
       "498  2019    Arizona           12.14              7.34      255.657   \n",
       "499  2010     Oregon            9.96              8.60      218.056   \n",
       "\n",
       "        gdp_state  employable_pop  employed  unemployed  \\\n",
       "0    1.425724e+06         9530364   8926771      603592   \n",
       "1    5.928762e+05         5703982   5372798      331184   \n",
       "2    1.309541e+05         1362321   1313944       48376   \n",
       "3    2.536232e+05         2103961   2024751       79209   \n",
       "4    5.569052e+05         4410199   4287146      123053   \n",
       "..            ...             ...       ...         ...   \n",
       "495  1.864190e+05         2006420   1876914      129505   \n",
       "496  1.665428e+06        13574954  12990073      584881   \n",
       "497  3.375531e+05         3118346   3024648       93698   \n",
       "498  3.701191e+05         3548826   3381846      166979   \n",
       "499  1.638270e+05         1983564   1773242      210321   \n",
       "\n",
       "    household_median_income  \n",
       "0                    56,290  \n",
       "1                    51,454  \n",
       "2                      None  \n",
       "3                      None  \n",
       "4                      None  \n",
       "..                      ...  \n",
       "495                  44,346  \n",
       "496                  59,295  \n",
       "497                    None  \n",
       "498                    None  \n",
       "499                  57,014  \n",
       "\n",
       "[500 rows x 10 columns]"
      ]
     },
     "execution_count": 11,
     "metadata": {},
     "output_type": "execute_result"
    }
   ],
   "source": [
    "join3 = join3.na.fill(0)\n",
    "join3.toPandas()"
   ]
  },
  {
   "cell_type": "code",
   "execution_count": 17,
   "id": "ef766aa7",
   "metadata": {},
   "outputs": [
    {
     "data": {
      "text/html": [
       "<div>\n",
       "<style scoped>\n",
       "    .dataframe tbody tr th:only-of-type {\n",
       "        vertical-align: middle;\n",
       "    }\n",
       "\n",
       "    .dataframe tbody tr th {\n",
       "        vertical-align: top;\n",
       "    }\n",
       "\n",
       "    .dataframe thead th {\n",
       "        text-align: right;\n",
       "    }\n",
       "</style>\n",
       "<table border=\"1\" class=\"dataframe\">\n",
       "  <thead>\n",
       "    <tr style=\"text-align: right;\">\n",
       "      <th></th>\n",
       "      <th>year</th>\n",
       "      <th>state</th>\n",
       "      <th>household_median_income</th>\n",
       "      <th>min_wage_state</th>\n",
       "      <th>min_wage_federal</th>\n",
       "      <th>cpi_average</th>\n",
       "      <th>unemployed</th>\n",
       "      <th>employed</th>\n",
       "      <th>employable_pop</th>\n",
       "      <th>gdp_state</th>\n",
       "    </tr>\n",
       "  </thead>\n",
       "  <tbody>\n",
       "    <tr>\n",
       "      <th>0</th>\n",
       "      <td>2014</td>\n",
       "      <td>New York</td>\n",
       "      <td>56,290</td>\n",
       "      <td>8.74</td>\n",
       "      <td>7.92</td>\n",
       "      <td>236.736</td>\n",
       "      <td>603592</td>\n",
       "      <td>8926771</td>\n",
       "      <td>9530364</td>\n",
       "      <td>1.425724e+06</td>\n",
       "    </tr>\n",
       "    <tr>\n",
       "      <th>1</th>\n",
       "      <td>2014</td>\n",
       "      <td>Ohio</td>\n",
       "      <td>51,454</td>\n",
       "      <td>7.92</td>\n",
       "      <td>7.92</td>\n",
       "      <td>236.736</td>\n",
       "      <td>331184</td>\n",
       "      <td>5372798</td>\n",
       "      <td>5703982</td>\n",
       "      <td>5.928762e+05</td>\n",
       "    </tr>\n",
       "    <tr>\n",
       "      <th>2</th>\n",
       "      <td>2019</td>\n",
       "      <td>Arkansas</td>\n",
       "      <td>None</td>\n",
       "      <td>9.36</td>\n",
       "      <td>7.34</td>\n",
       "      <td>255.657</td>\n",
       "      <td>48376</td>\n",
       "      <td>1313944</td>\n",
       "      <td>1362321</td>\n",
       "      <td>1.309541e+05</td>\n",
       "    </tr>\n",
       "    <tr>\n",
       "      <th>3</th>\n",
       "      <td>2019</td>\n",
       "      <td>Oregon</td>\n",
       "      <td>None</td>\n",
       "      <td>11.38</td>\n",
       "      <td>7.34</td>\n",
       "      <td>255.657</td>\n",
       "      <td>79209</td>\n",
       "      <td>2024751</td>\n",
       "      <td>2103961</td>\n",
       "      <td>2.536232e+05</td>\n",
       "    </tr>\n",
       "    <tr>\n",
       "      <th>4</th>\n",
       "      <td>2019</td>\n",
       "      <td>Virginia</td>\n",
       "      <td>None</td>\n",
       "      <td>7.34</td>\n",
       "      <td>7.34</td>\n",
       "      <td>255.657</td>\n",
       "      <td>123053</td>\n",
       "      <td>4287146</td>\n",
       "      <td>4410199</td>\n",
       "      <td>5.569052e+05</td>\n",
       "    </tr>\n",
       "    <tr>\n",
       "      <th>...</th>\n",
       "      <td>...</td>\n",
       "      <td>...</td>\n",
       "      <td>...</td>\n",
       "      <td>...</td>\n",
       "      <td>...</td>\n",
       "      <td>...</td>\n",
       "      <td>...</td>\n",
       "      <td>...</td>\n",
       "      <td>...</td>\n",
       "      <td>...</td>\n",
       "    </tr>\n",
       "    <tr>\n",
       "      <th>495</th>\n",
       "      <td>2014</td>\n",
       "      <td>Kentucky</td>\n",
       "      <td>44,346</td>\n",
       "      <td>7.92</td>\n",
       "      <td>7.92</td>\n",
       "      <td>236.736</td>\n",
       "      <td>129505</td>\n",
       "      <td>1876914</td>\n",
       "      <td>2006420</td>\n",
       "      <td>1.864190e+05</td>\n",
       "    </tr>\n",
       "    <tr>\n",
       "      <th>496</th>\n",
       "      <td>2017</td>\n",
       "      <td>Texas</td>\n",
       "      <td>59,295</td>\n",
       "      <td>7.65</td>\n",
       "      <td>7.65</td>\n",
       "      <td>245.120</td>\n",
       "      <td>584881</td>\n",
       "      <td>12990073</td>\n",
       "      <td>13574954</td>\n",
       "      <td>1.665428e+06</td>\n",
       "    </tr>\n",
       "    <tr>\n",
       "      <th>497</th>\n",
       "      <td>2018</td>\n",
       "      <td>Wisconsin</td>\n",
       "      <td>None</td>\n",
       "      <td>7.47</td>\n",
       "      <td>7.47</td>\n",
       "      <td>251.107</td>\n",
       "      <td>93698</td>\n",
       "      <td>3024648</td>\n",
       "      <td>3118346</td>\n",
       "      <td>3.375531e+05</td>\n",
       "    </tr>\n",
       "    <tr>\n",
       "      <th>498</th>\n",
       "      <td>2019</td>\n",
       "      <td>Arizona</td>\n",
       "      <td>None</td>\n",
       "      <td>12.14</td>\n",
       "      <td>7.34</td>\n",
       "      <td>255.657</td>\n",
       "      <td>166979</td>\n",
       "      <td>3381846</td>\n",
       "      <td>3548826</td>\n",
       "      <td>3.701191e+05</td>\n",
       "    </tr>\n",
       "    <tr>\n",
       "      <th>499</th>\n",
       "      <td>2010</td>\n",
       "      <td>Oregon</td>\n",
       "      <td>57,014</td>\n",
       "      <td>9.96</td>\n",
       "      <td>8.60</td>\n",
       "      <td>218.056</td>\n",
       "      <td>210321</td>\n",
       "      <td>1773242</td>\n",
       "      <td>1983564</td>\n",
       "      <td>1.638270e+05</td>\n",
       "    </tr>\n",
       "  </tbody>\n",
       "</table>\n",
       "<p>500 rows × 10 columns</p>\n",
       "</div>"
      ],
      "text/plain": [
       "     year      state household_median_income  min_wage_state  \\\n",
       "0    2014   New York                  56,290            8.74   \n",
       "1    2014       Ohio                  51,454            7.92   \n",
       "2    2019   Arkansas                    None            9.36   \n",
       "3    2019     Oregon                    None           11.38   \n",
       "4    2019   Virginia                    None            7.34   \n",
       "..    ...        ...                     ...             ...   \n",
       "495  2014   Kentucky                  44,346            7.92   \n",
       "496  2017      Texas                  59,295            7.65   \n",
       "497  2018  Wisconsin                    None            7.47   \n",
       "498  2019    Arizona                    None           12.14   \n",
       "499  2010     Oregon                  57,014            9.96   \n",
       "\n",
       "     min_wage_federal  cpi_average  unemployed  employed  employable_pop  \\\n",
       "0                7.92      236.736      603592   8926771         9530364   \n",
       "1                7.92      236.736      331184   5372798         5703982   \n",
       "2                7.34      255.657       48376   1313944         1362321   \n",
       "3                7.34      255.657       79209   2024751         2103961   \n",
       "4                7.34      255.657      123053   4287146         4410199   \n",
       "..                ...          ...         ...       ...             ...   \n",
       "495              7.92      236.736      129505   1876914         2006420   \n",
       "496              7.65      245.120      584881  12990073        13574954   \n",
       "497              7.47      251.107       93698   3024648         3118346   \n",
       "498              7.34      255.657      166979   3381846         3548826   \n",
       "499              8.60      218.056      210321   1773242         1983564   \n",
       "\n",
       "        gdp_state  \n",
       "0    1.425724e+06  \n",
       "1    5.928762e+05  \n",
       "2    1.309541e+05  \n",
       "3    2.536232e+05  \n",
       "4    5.569052e+05  \n",
       "..            ...  \n",
       "495  1.864190e+05  \n",
       "496  1.665428e+06  \n",
       "497  3.375531e+05  \n",
       "498  3.701191e+05  \n",
       "499  1.638270e+05  \n",
       "\n",
       "[500 rows x 10 columns]"
      ]
     },
     "execution_count": 17,
     "metadata": {},
     "output_type": "execute_result"
    }
   ],
   "source": [
    "# Reorder data\n",
    "data =  join3.select(\"year\",\n",
    "        \"state\",\n",
    "        \"household_median_income\",\n",
    "        \"min_wage_state\",\n",
    "        \"min_wage_federal\",\n",
    "        \"cpi_average\",\n",
    "        \"unemployed\",\n",
    "        \"employed\",\n",
    "        \"employable_pop\",\n",
    "        \"gdp_state\")\n",
    "data.toPandas()"
   ]
  },
  {
   "cell_type": "code",
   "execution_count": 18,
   "id": "4158550f",
   "metadata": {},
   "outputs": [
    {
     "data": {
      "text/html": [
       "<div>\n",
       "<style scoped>\n",
       "    .dataframe tbody tr th:only-of-type {\n",
       "        vertical-align: middle;\n",
       "    }\n",
       "\n",
       "    .dataframe tbody tr th {\n",
       "        vertical-align: top;\n",
       "    }\n",
       "\n",
       "    .dataframe thead th {\n",
       "        text-align: right;\n",
       "    }\n",
       "</style>\n",
       "<table border=\"1\" class=\"dataframe\">\n",
       "  <thead>\n",
       "    <tr style=\"text-align: right;\">\n",
       "      <th></th>\n",
       "      <th>year</th>\n",
       "      <th>state</th>\n",
       "      <th>household_median_income</th>\n",
       "      <th>min_wage_state</th>\n",
       "      <th>min_wage_federal</th>\n",
       "      <th>cpi_average</th>\n",
       "      <th>unemployed</th>\n",
       "      <th>employed</th>\n",
       "      <th>employable_pop</th>\n",
       "      <th>gdp_state</th>\n",
       "    </tr>\n",
       "  </thead>\n",
       "  <tbody>\n",
       "    <tr>\n",
       "      <th>0</th>\n",
       "      <td>2014</td>\n",
       "      <td>New York</td>\n",
       "      <td>56290.0</td>\n",
       "      <td>8.74</td>\n",
       "      <td>7.92</td>\n",
       "      <td>236.740005</td>\n",
       "      <td>603592</td>\n",
       "      <td>8926771</td>\n",
       "      <td>9530364</td>\n",
       "      <td>1.425724e+06</td>\n",
       "    </tr>\n",
       "    <tr>\n",
       "      <th>1</th>\n",
       "      <td>2014</td>\n",
       "      <td>Ohio</td>\n",
       "      <td>51454.0</td>\n",
       "      <td>7.92</td>\n",
       "      <td>7.92</td>\n",
       "      <td>236.740005</td>\n",
       "      <td>331184</td>\n",
       "      <td>5372798</td>\n",
       "      <td>5703982</td>\n",
       "      <td>5.928762e+05</td>\n",
       "    </tr>\n",
       "    <tr>\n",
       "      <th>2</th>\n",
       "      <td>2019</td>\n",
       "      <td>Arkansas</td>\n",
       "      <td>0.0</td>\n",
       "      <td>9.36</td>\n",
       "      <td>7.34</td>\n",
       "      <td>255.660004</td>\n",
       "      <td>48376</td>\n",
       "      <td>1313944</td>\n",
       "      <td>1362321</td>\n",
       "      <td>1.309541e+05</td>\n",
       "    </tr>\n",
       "    <tr>\n",
       "      <th>3</th>\n",
       "      <td>2019</td>\n",
       "      <td>Oregon</td>\n",
       "      <td>0.0</td>\n",
       "      <td>11.38</td>\n",
       "      <td>7.34</td>\n",
       "      <td>255.660004</td>\n",
       "      <td>79209</td>\n",
       "      <td>2024751</td>\n",
       "      <td>2103961</td>\n",
       "      <td>2.536232e+05</td>\n",
       "    </tr>\n",
       "    <tr>\n",
       "      <th>4</th>\n",
       "      <td>2019</td>\n",
       "      <td>Virginia</td>\n",
       "      <td>0.0</td>\n",
       "      <td>7.34</td>\n",
       "      <td>7.34</td>\n",
       "      <td>255.660004</td>\n",
       "      <td>123053</td>\n",
       "      <td>4287146</td>\n",
       "      <td>4410199</td>\n",
       "      <td>5.569052e+05</td>\n",
       "    </tr>\n",
       "    <tr>\n",
       "      <th>...</th>\n",
       "      <td>...</td>\n",
       "      <td>...</td>\n",
       "      <td>...</td>\n",
       "      <td>...</td>\n",
       "      <td>...</td>\n",
       "      <td>...</td>\n",
       "      <td>...</td>\n",
       "      <td>...</td>\n",
       "      <td>...</td>\n",
       "      <td>...</td>\n",
       "    </tr>\n",
       "    <tr>\n",
       "      <th>495</th>\n",
       "      <td>2014</td>\n",
       "      <td>Kentucky</td>\n",
       "      <td>44346.0</td>\n",
       "      <td>7.92</td>\n",
       "      <td>7.92</td>\n",
       "      <td>236.740005</td>\n",
       "      <td>129505</td>\n",
       "      <td>1876914</td>\n",
       "      <td>2006420</td>\n",
       "      <td>1.864190e+05</td>\n",
       "    </tr>\n",
       "    <tr>\n",
       "      <th>496</th>\n",
       "      <td>2017</td>\n",
       "      <td>Texas</td>\n",
       "      <td>59295.0</td>\n",
       "      <td>7.65</td>\n",
       "      <td>7.65</td>\n",
       "      <td>245.119995</td>\n",
       "      <td>584881</td>\n",
       "      <td>12990073</td>\n",
       "      <td>13574954</td>\n",
       "      <td>1.665428e+06</td>\n",
       "    </tr>\n",
       "    <tr>\n",
       "      <th>497</th>\n",
       "      <td>2018</td>\n",
       "      <td>Wisconsin</td>\n",
       "      <td>0.0</td>\n",
       "      <td>7.47</td>\n",
       "      <td>7.47</td>\n",
       "      <td>251.110001</td>\n",
       "      <td>93698</td>\n",
       "      <td>3024648</td>\n",
       "      <td>3118346</td>\n",
       "      <td>3.375531e+05</td>\n",
       "    </tr>\n",
       "    <tr>\n",
       "      <th>498</th>\n",
       "      <td>2019</td>\n",
       "      <td>Arizona</td>\n",
       "      <td>0.0</td>\n",
       "      <td>12.14</td>\n",
       "      <td>7.34</td>\n",
       "      <td>255.660004</td>\n",
       "      <td>166979</td>\n",
       "      <td>3381846</td>\n",
       "      <td>3548826</td>\n",
       "      <td>3.701191e+05</td>\n",
       "    </tr>\n",
       "    <tr>\n",
       "      <th>499</th>\n",
       "      <td>2010</td>\n",
       "      <td>Oregon</td>\n",
       "      <td>57014.0</td>\n",
       "      <td>9.96</td>\n",
       "      <td>8.60</td>\n",
       "      <td>218.059998</td>\n",
       "      <td>210321</td>\n",
       "      <td>1773242</td>\n",
       "      <td>1983564</td>\n",
       "      <td>1.638270e+05</td>\n",
       "    </tr>\n",
       "  </tbody>\n",
       "</table>\n",
       "<p>500 rows × 10 columns</p>\n",
       "</div>"
      ],
      "text/plain": [
       "     year      state  household_median_income  min_wage_state  \\\n",
       "0    2014   New York                  56290.0            8.74   \n",
       "1    2014       Ohio                  51454.0            7.92   \n",
       "2    2019   Arkansas                      0.0            9.36   \n",
       "3    2019     Oregon                      0.0           11.38   \n",
       "4    2019   Virginia                      0.0            7.34   \n",
       "..    ...        ...                      ...             ...   \n",
       "495  2014   Kentucky                  44346.0            7.92   \n",
       "496  2017      Texas                  59295.0            7.65   \n",
       "497  2018  Wisconsin                      0.0            7.47   \n",
       "498  2019    Arizona                      0.0           12.14   \n",
       "499  2010     Oregon                  57014.0            9.96   \n",
       "\n",
       "     min_wage_federal  cpi_average  unemployed  employed  employable_pop  \\\n",
       "0                7.92   236.740005      603592   8926771         9530364   \n",
       "1                7.92   236.740005      331184   5372798         5703982   \n",
       "2                7.34   255.660004       48376   1313944         1362321   \n",
       "3                7.34   255.660004       79209   2024751         2103961   \n",
       "4                7.34   255.660004      123053   4287146         4410199   \n",
       "..                ...          ...         ...       ...             ...   \n",
       "495              7.92   236.740005      129505   1876914         2006420   \n",
       "496              7.65   245.119995      584881  12990073        13574954   \n",
       "497              7.47   251.110001       93698   3024648         3118346   \n",
       "498              7.34   255.660004      166979   3381846         3548826   \n",
       "499              8.60   218.059998      210321   1773242         1983564   \n",
       "\n",
       "        gdp_state  \n",
       "0    1.425724e+06  \n",
       "1    5.928762e+05  \n",
       "2    1.309541e+05  \n",
       "3    2.536232e+05  \n",
       "4    5.569052e+05  \n",
       "..            ...  \n",
       "495  1.864190e+05  \n",
       "496  1.665428e+06  \n",
       "497  3.375531e+05  \n",
       "498  3.701191e+05  \n",
       "499  1.638270e+05  \n",
       "\n",
       "[500 rows x 10 columns]"
      ]
     },
     "execution_count": 18,
     "metadata": {},
     "output_type": "execute_result"
    }
   ],
   "source": [
    "from pyspark.sql.types import IntegerType\n",
    "data = data.fillna({'household_median_income': 0})\n",
    "data = data.withColumn('household_median_income', regexp_replace(col('household_median_income'), \"\\\\,\", \"\").cast(\"int\"))\n",
    "data = data.withColumn('min_wage_state', col('min_wage_state').cast(\"float\"))\n",
    "data = data.withColumn('min_wage_federal', col('min_wage_federal').cast(\"float\"))\n",
    "data = data.withColumn(\"cpi_average\", round(col(\"cpi_average\").cast(\"float\"),2))\n",
    "data = data.withColumn('household_median_income', col('household_median_income').cast(\"float\"))\n",
    "\n",
    "data.toPandas()"
   ]
  },
  {
   "cell_type": "code",
   "execution_count": 25,
   "id": "8663cf47",
   "metadata": {},
   "outputs": [
    {
     "name": "stdout",
     "output_type": "stream",
     "text": [
      "root\n",
      " |-- year: integer (nullable = true)\n",
      " |-- state: string (nullable = true)\n",
      " |-- household_median_income: float (nullable = true)\n",
      " |-- min_wage_state: float (nullable = false)\n",
      " |-- min_wage_federal: float (nullable = false)\n",
      " |-- cpi_average: float (nullable = true)\n",
      " |-- unemployed: integer (nullable = true)\n",
      " |-- employed: integer (nullable = true)\n",
      " |-- employable_pop: integer (nullable = true)\n",
      " |-- gdp_state: float (nullable = false)\n",
      "\n"
     ]
    }
   ],
   "source": [
    "data.printSchema()"
   ]
  },
  {
   "cell_type": "code",
   "execution_count": 19,
   "id": "metric-rental",
   "metadata": {},
   "outputs": [],
   "source": [
    "data.repartition(1) \\\n",
    "    .write \\\n",
    "    .partitionBy(\"year\") \\\n",
    "    .format(\"parquet\") \\\n",
    "    .mode(\"overwrite\") \\\n",
    "    .save(\"hdfs://hdfs-nn:9000/TABDG8/warehouse/economy.db/parquet_table\")"
   ]
  },
  {
   "cell_type": "code",
   "execution_count": 26,
   "id": "ebb918d5",
   "metadata": {},
   "outputs": [],
   "source": [
    "data.repartition(1) \\\n",
    "    .write \\\n",
    "    .partitionBy(\"year\") \\\n",
    "    .format(\"parquet\") \\\n",
    "    .mode(\"overwrite\") \\\n",
    "    .save(\"hdfs://hdfs-nn:9000/TABDG8/warehouse/economy.db/parquet_economy\")"
   ]
  },
  {
   "cell_type": "code",
   "execution_count": 20,
   "id": "sharing-bearing",
   "metadata": {},
   "outputs": [
    {
     "data": {
      "text/html": [
       "<div>\n",
       "<style scoped>\n",
       "    .dataframe tbody tr th:only-of-type {\n",
       "        vertical-align: middle;\n",
       "    }\n",
       "\n",
       "    .dataframe tbody tr th {\n",
       "        vertical-align: top;\n",
       "    }\n",
       "\n",
       "    .dataframe thead th {\n",
       "        text-align: right;\n",
       "    }\n",
       "</style>\n",
       "<table border=\"1\" class=\"dataframe\">\n",
       "  <thead>\n",
       "    <tr style=\"text-align: right;\">\n",
       "      <th></th>\n",
       "      <th>state</th>\n",
       "      <th>household_median_income</th>\n",
       "      <th>min_wage_state</th>\n",
       "      <th>min_wage_federal</th>\n",
       "      <th>cpi_average</th>\n",
       "      <th>unemployed</th>\n",
       "      <th>employed</th>\n",
       "      <th>employable_pop</th>\n",
       "      <th>gdp_state</th>\n",
       "      <th>year</th>\n",
       "    </tr>\n",
       "  </thead>\n",
       "  <tbody>\n",
       "    <tr>\n",
       "      <th>0</th>\n",
       "      <td>Wyoming</td>\n",
       "      <td>57837.0</td>\n",
       "      <td>5.43</td>\n",
       "      <td>7.65</td>\n",
       "      <td>245.119995</td>\n",
       "      <td>12213</td>\n",
       "      <td>280890</td>\n",
       "      <td>293103</td>\n",
       "      <td>37271.199219</td>\n",
       "      <td>2017</td>\n",
       "    </tr>\n",
       "    <tr>\n",
       "      <th>1</th>\n",
       "      <td>Massachusetts</td>\n",
       "      <td>73227.0</td>\n",
       "      <td>11.61</td>\n",
       "      <td>7.65</td>\n",
       "      <td>245.119995</td>\n",
       "      <td>138111</td>\n",
       "      <td>3551513</td>\n",
       "      <td>3689625</td>\n",
       "      <td>539973.375000</td>\n",
       "      <td>2017</td>\n",
       "    </tr>\n",
       "    <tr>\n",
       "      <th>2</th>\n",
       "      <td>South Carolina</td>\n",
       "      <td>54971.0</td>\n",
       "      <td>0.00</td>\n",
       "      <td>7.65</td>\n",
       "      <td>245.119995</td>\n",
       "      <td>98831</td>\n",
       "      <td>2213204</td>\n",
       "      <td>2312036</td>\n",
       "      <td>223414.000000</td>\n",
       "      <td>2017</td>\n",
       "    </tr>\n",
       "    <tr>\n",
       "      <th>3</th>\n",
       "      <td>Nebraska</td>\n",
       "      <td>59619.0</td>\n",
       "      <td>9.50</td>\n",
       "      <td>7.65</td>\n",
       "      <td>245.119995</td>\n",
       "      <td>29562</td>\n",
       "      <td>982397</td>\n",
       "      <td>1011960</td>\n",
       "      <td>120949.703125</td>\n",
       "      <td>2017</td>\n",
       "    </tr>\n",
       "    <tr>\n",
       "      <th>4</th>\n",
       "      <td>Idaho</td>\n",
       "      <td>60208.0</td>\n",
       "      <td>7.65</td>\n",
       "      <td>7.65</td>\n",
       "      <td>245.119995</td>\n",
       "      <td>26761</td>\n",
       "      <td>807145</td>\n",
       "      <td>833907</td>\n",
       "      <td>73286.500000</td>\n",
       "      <td>2017</td>\n",
       "    </tr>\n",
       "    <tr>\n",
       "      <th>...</th>\n",
       "      <td>...</td>\n",
       "      <td>...</td>\n",
       "      <td>...</td>\n",
       "      <td>...</td>\n",
       "      <td>...</td>\n",
       "      <td>...</td>\n",
       "      <td>...</td>\n",
       "      <td>...</td>\n",
       "      <td>...</td>\n",
       "      <td>...</td>\n",
       "    </tr>\n",
       "    <tr>\n",
       "      <th>495</th>\n",
       "      <td>Alabama</td>\n",
       "      <td>0.0</td>\n",
       "      <td>0.00</td>\n",
       "      <td>7.47</td>\n",
       "      <td>251.110001</td>\n",
       "      <td>85942</td>\n",
       "      <td>2130741</td>\n",
       "      <td>2216683</td>\n",
       "      <td>221030.703125</td>\n",
       "      <td>2018</td>\n",
       "    </tr>\n",
       "    <tr>\n",
       "      <th>496</th>\n",
       "      <td>Washington</td>\n",
       "      <td>0.0</td>\n",
       "      <td>11.85</td>\n",
       "      <td>7.47</td>\n",
       "      <td>251.110001</td>\n",
       "      <td>169511</td>\n",
       "      <td>3637302</td>\n",
       "      <td>3806814</td>\n",
       "      <td>575416.687500</td>\n",
       "      <td>2018</td>\n",
       "    </tr>\n",
       "    <tr>\n",
       "      <th>497</th>\n",
       "      <td>Arkansas</td>\n",
       "      <td>0.0</td>\n",
       "      <td>8.76</td>\n",
       "      <td>7.47</td>\n",
       "      <td>251.110001</td>\n",
       "      <td>49327</td>\n",
       "      <td>1304130</td>\n",
       "      <td>1353458</td>\n",
       "      <td>127761.296875</td>\n",
       "      <td>2018</td>\n",
       "    </tr>\n",
       "    <tr>\n",
       "      <th>498</th>\n",
       "      <td>South Dakota</td>\n",
       "      <td>0.0</td>\n",
       "      <td>9.12</td>\n",
       "      <td>7.47</td>\n",
       "      <td>251.110001</td>\n",
       "      <td>14112</td>\n",
       "      <td>445454</td>\n",
       "      <td>459566</td>\n",
       "      <td>53239.000000</td>\n",
       "      <td>2018</td>\n",
       "    </tr>\n",
       "    <tr>\n",
       "      <th>499</th>\n",
       "      <td>Wisconsin</td>\n",
       "      <td>0.0</td>\n",
       "      <td>7.47</td>\n",
       "      <td>7.47</td>\n",
       "      <td>251.110001</td>\n",
       "      <td>93698</td>\n",
       "      <td>3024648</td>\n",
       "      <td>3118346</td>\n",
       "      <td>337553.093750</td>\n",
       "      <td>2018</td>\n",
       "    </tr>\n",
       "  </tbody>\n",
       "</table>\n",
       "<p>500 rows × 10 columns</p>\n",
       "</div>"
      ],
      "text/plain": [
       "              state  household_median_income  min_wage_state  \\\n",
       "0           Wyoming                  57837.0            5.43   \n",
       "1     Massachusetts                  73227.0           11.61   \n",
       "2    South Carolina                  54971.0            0.00   \n",
       "3          Nebraska                  59619.0            9.50   \n",
       "4             Idaho                  60208.0            7.65   \n",
       "..              ...                      ...             ...   \n",
       "495         Alabama                      0.0            0.00   \n",
       "496      Washington                      0.0           11.85   \n",
       "497        Arkansas                      0.0            8.76   \n",
       "498    South Dakota                      0.0            9.12   \n",
       "499       Wisconsin                      0.0            7.47   \n",
       "\n",
       "     min_wage_federal  cpi_average  unemployed  employed  employable_pop  \\\n",
       "0                7.65   245.119995       12213    280890          293103   \n",
       "1                7.65   245.119995      138111   3551513         3689625   \n",
       "2                7.65   245.119995       98831   2213204         2312036   \n",
       "3                7.65   245.119995       29562    982397         1011960   \n",
       "4                7.65   245.119995       26761    807145          833907   \n",
       "..                ...          ...         ...       ...             ...   \n",
       "495              7.47   251.110001       85942   2130741         2216683   \n",
       "496              7.47   251.110001      169511   3637302         3806814   \n",
       "497              7.47   251.110001       49327   1304130         1353458   \n",
       "498              7.47   251.110001       14112    445454          459566   \n",
       "499              7.47   251.110001       93698   3024648         3118346   \n",
       "\n",
       "         gdp_state  year  \n",
       "0     37271.199219  2017  \n",
       "1    539973.375000  2017  \n",
       "2    223414.000000  2017  \n",
       "3    120949.703125  2017  \n",
       "4     73286.500000  2017  \n",
       "..             ...   ...  \n",
       "495  221030.703125  2018  \n",
       "496  575416.687500  2018  \n",
       "497  127761.296875  2018  \n",
       "498   53239.000000  2018  \n",
       "499  337553.093750  2018  \n",
       "\n",
       "[500 rows x 10 columns]"
      ]
     },
     "execution_count": 20,
     "metadata": {},
     "output_type": "execute_result"
    }
   ],
   "source": [
    "spark.catalog.recoverPartitions(\"economy.parquet_table\")\n",
    "\n",
    "spark.sql(\n",
    "    \"\"\"\n",
    "    SELECT *\n",
    "    FROM economy.parquet_table\n",
    "    \"\"\"\n",
    ").toPandas()"
   ]
  },
  {
   "cell_type": "code",
   "execution_count": 21,
   "id": "cc68e897",
   "metadata": {},
   "outputs": [],
   "source": [
    "df1 = spark.sql(\n",
    "    \"\"\"\n",
    "    SELECT *\n",
    "    FROM economy.parquet_table\n",
    "    \"\"\"\n",
    ").toPandas()"
   ]
  },
  {
   "cell_type": "code",
   "execution_count": null,
   "id": "infinite-cricket",
   "metadata": {},
   "outputs": [],
   "source": [
    "spark.close()"
   ]
  }
 ],
 "metadata": {
  "kernelspec": {
   "display_name": "Python 3 (ipykernel)",
   "language": "python",
   "name": "python3"
  },
  "language_info": {
   "codemirror_mode": {
    "name": "ipython",
    "version": 3
   },
   "file_extension": ".py",
   "mimetype": "text/x-python",
   "name": "python",
   "nbconvert_exporter": "python",
   "pygments_lexer": "ipython3",
   "version": "3.7.10"
  }
 },
 "nbformat": 4,
 "nbformat_minor": 5
}
