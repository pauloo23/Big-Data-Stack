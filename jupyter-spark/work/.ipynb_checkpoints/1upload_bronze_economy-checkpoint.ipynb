{
 "cells": [
  {
   "cell_type": "code",
   "execution_count": 1,
   "id": "flush-fifteen",
   "metadata": {},
   "outputs": [
    {
     "name": "stdout",
     "output_type": "stream",
     "text": [
      "Requirement already satisfied: hdfs in /opt/conda/lib/python3.9/site-packages (2.6.0)\n",
      "Requirement already satisfied: requests>=2.7.0 in /opt/conda/lib/python3.9/site-packages (from hdfs) (2.25.1)\n",
      "Requirement already satisfied: docopt in /opt/conda/lib/python3.9/site-packages (from hdfs) (0.6.2)\n",
      "Requirement already satisfied: six>=1.9.0 in /opt/conda/lib/python3.9/site-packages (from hdfs) (1.16.0)\n",
      "Requirement already satisfied: idna<3,>=2.5 in /opt/conda/lib/python3.9/site-packages (from requests>=2.7.0->hdfs) (2.10)\n",
      "Requirement already satisfied: certifi>=2017.4.17 in /opt/conda/lib/python3.9/site-packages (from requests>=2.7.0->hdfs) (2020.12.5)\n",
      "Requirement already satisfied: chardet<5,>=3.0.2 in /opt/conda/lib/python3.9/site-packages (from requests>=2.7.0->hdfs) (4.0.0)\n",
      "Requirement already satisfied: urllib3<1.27,>=1.21.1 in /opt/conda/lib/python3.9/site-packages (from requests>=2.7.0->hdfs) (1.26.4)\n"
     ]
    }
   ],
   "source": [
    "# Install dependencies\n",
    "import sys\n",
    "!{sys.executable} -m pip install hdfs"
   ]
  },
  {
   "cell_type": "code",
   "execution_count": 3,
   "id": "twelve-oklahoma",
   "metadata": {},
   "outputs": [
    {
     "data": {
      "text/plain": [
       "'/TABDG8/bronze/unemployment.json'"
      ]
     },
     "execution_count": 3,
     "metadata": {},
     "output_type": "execute_result"
    }
   ],
   "source": [
    "# Copy File to bronze layer\n",
    "from os import PathLike\n",
    "from hdfs import InsecureClient\n",
    "client = InsecureClient(\"http://hdfs-nn:9870\", user=\"anonymous\")\n",
    "\n",
    "from_path0 = \"./data/Minimum_Wage_Data.csv\" \n",
    "to_path0 = \"/TABDG8/bronze/minwage.csv\"\n",
    "from_path1 = \"./data/household_median_income_2017.csv\"\n",
    "to_path1 = \"/TABDG8/bronze/medincome.csv\"\n",
    "from_path2 =\"./data/gdp.csv\"\n",
    "to_path2 = \"/TABDG8/bronze/gdp.csv\"\n",
    "from_path3 =\"./data/BLS Monthly Unemployment.json\"\n",
    "to_path3 = \"/TABDG8/bronze/unemployment.json\"\n",
    "client.delete(to_path0)\n",
    "client.delete(to_path1)\n",
    "client.delete(to_path2)\n",
    "client.delete(to_path3)\n",
    "\n",
    "client.upload(to_path0, from_path0)\n",
    "client.upload(to_path1, from_path1)\n",
    "client.upload(to_path2, from_path2)\n",
    "client.upload(to_path3, from_path3)\n",
    "\n",
    "# More HDFS functions here if needed (e.g., write, list files, delete files, rename, delete, etc...)\n",
    "# https://hdfscli.readthedocs.io/en/latest/quickstart.html"
   ]
  },
  {
   "cell_type": "code",
   "execution_count": null,
   "id": "stuffed-acrobat",
   "metadata": {},
   "outputs": [],
   "source": []
  }
 ],
 "metadata": {
  "kernelspec": {
   "display_name": "Python 3",
   "language": "python",
   "name": "python3"
  },
  "language_info": {
   "codemirror_mode": {
    "name": "ipython",
    "version": 3
   },
   "file_extension": ".py",
   "mimetype": "text/x-python",
   "name": "python",
   "nbconvert_exporter": "python",
   "pygments_lexer": "ipython3",
   "version": "3.9.4"
  }
 },
 "nbformat": 4,
 "nbformat_minor": 5
}
