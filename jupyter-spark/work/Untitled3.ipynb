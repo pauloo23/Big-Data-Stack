{
 "cells": [
  {
   "cell_type": "code",
   "execution_count": 1,
   "id": "80214193",
   "metadata": {},
   "outputs": [
    {
     "data": {
      "text/plain": [
       "Intitializing Scala interpreter ..."
      ]
     },
     "metadata": {},
     "output_type": "display_data"
    },
    {
     "data": {
      "text/plain": [
       "Spark Web UI available at http://cff20d522e95:4041\n",
       "SparkContext available as 'sc' (version = 3.1.1, master = local[*], app id = local-1637681001361)\n",
       "SparkSession available as 'spark'\n"
      ]
     },
     "metadata": {},
     "output_type": "display_data"
    },
    {
     "ename": "<console>",
     "evalue": "2: error: ';' expected but double literal found.",
     "output_type": "error",
     "traceback": [
      "<console>:2: error: ';' expected but double literal found.",
      "       yarn jar $YARN_EXAMPLES/hadoop-mapreduce-examples-2.1.0-beta.jar pi 16 100000",
      "                                                            ^",
      ""
     ]
    }
   ],
   "source": [
    "yarn jar $YARN_EXAMPLES/hadoop-mapreduce-examples-2.1.0-beta.jar pi 16 100000"
   ]
  },
  {
   "cell_type": "code",
   "execution_count": null,
   "id": "7f1cc3dc",
   "metadata": {},
   "outputs": [],
   "source": []
  }
 ],
 "metadata": {
  "kernelspec": {
   "display_name": "spylon-kernel",
   "language": "scala",
   "name": "spylon-kernel"
  },
  "language_info": {
   "codemirror_mode": "text/x-scala",
   "file_extension": ".scala",
   "help_links": [
    {
     "text": "MetaKernel Magics",
     "url": "https://metakernel.readthedocs.io/en/latest/source/README.html"
    }
   ],
   "mimetype": "text/x-scala",
   "name": "scala",
   "pygments_lexer": "scala",
   "version": "0.4.1"
  }
 },
 "nbformat": 4,
 "nbformat_minor": 5
}
